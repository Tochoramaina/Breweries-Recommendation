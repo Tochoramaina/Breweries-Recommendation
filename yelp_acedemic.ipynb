{
 "cells": [
  {
   "cell_type": "markdown",
   "metadata": {},
   "source": [
    "Breweries Recommendation"
   ]
  },
  {
   "cell_type": "markdown",
   "metadata": {},
   "source": [
    "This means that we will make a recommendation system that will refer closest breweries to a person or group of people based on his or her location coordinates that is latitude an longitude coordinates."
   ]
  },
  {
   "cell_type": "markdown",
   "metadata": {},
   "source": [
    "Table of Contents"
   ]
  },
  {
   "cell_type": "markdown",
   "metadata": {},
   "source": [
    "1. importing prerequisite libraries and loading the json dataset"
   ]
  },
  {
   "cell_type": "markdown",
   "metadata": {},
   "source": [
    "2. Data analysis"
   ]
  },
  {
   "cell_type": "markdown",
   "metadata": {},
   "source": [
    "3. Data visualisation"
   ]
  },
  {
   "cell_type": "markdown",
   "metadata": {},
   "source": [
    "3. K_means clustering and elbow plot"
   ]
  },
  {
   "cell_type": "markdown",
   "metadata": {},
   "source": [
    "4. Breweries recommendation based on location"
   ]
  },
  {
   "cell_type": "code",
   "execution_count": 54,
   "metadata": {},
   "outputs": [],
   "source": [
    "# importing prerequisite libraries for our analyis\n",
    "import pandas as pd \n",
    "import numpy as np\n",
    "import json\n",
    "import matplotlib.pyplot as plt\n",
    "import geopy"
   ]
  },
  {
   "cell_type": "markdown",
   "metadata": {},
   "source": [
    "Note:The dataset below is in json format thus it will be loaded in a diffrent way compared to a csv file."
   ]
  },
  {
   "cell_type": "code",
   "execution_count": 55,
   "metadata": {},
   "outputs": [
    {
     "data": {
      "text/html": [
       "<div>\n",
       "<style scoped>\n",
       "    .dataframe tbody tr th:only-of-type {\n",
       "        vertical-align: middle;\n",
       "    }\n",
       "\n",
       "    .dataframe tbody tr th {\n",
       "        vertical-align: top;\n",
       "    }\n",
       "\n",
       "    .dataframe thead th {\n",
       "        text-align: right;\n",
       "    }\n",
       "</style>\n",
       "<table border=\"1\" class=\"dataframe\">\n",
       "  <thead>\n",
       "    <tr style=\"text-align: right;\">\n",
       "      <th></th>\n",
       "      <th>business_id</th>\n",
       "      <th>name</th>\n",
       "      <th>address</th>\n",
       "      <th>city</th>\n",
       "      <th>state</th>\n",
       "      <th>postal_code</th>\n",
       "      <th>latitude</th>\n",
       "      <th>longitude</th>\n",
       "      <th>stars</th>\n",
       "      <th>review_count</th>\n",
       "      <th>is_open</th>\n",
       "      <th>attributes</th>\n",
       "      <th>categories</th>\n",
       "      <th>hours</th>\n",
       "    </tr>\n",
       "  </thead>\n",
       "  <tbody>\n",
       "    <tr>\n",
       "      <th>0</th>\n",
       "      <td>Pns2l4eNsfO8kk83dixA6A</td>\n",
       "      <td>Abby Rappoport, LAC, CMQ</td>\n",
       "      <td>1616 Chapala St, Ste 2</td>\n",
       "      <td>Santa Barbara</td>\n",
       "      <td>CA</td>\n",
       "      <td>93101</td>\n",
       "      <td>34.426679</td>\n",
       "      <td>-119.711197</td>\n",
       "      <td>5.0</td>\n",
       "      <td>7</td>\n",
       "      <td>0</td>\n",
       "      <td>{'ByAppointmentOnly': 'True'}</td>\n",
       "      <td>Doctors, Traditional Chinese Medicine, Naturop...</td>\n",
       "      <td>None</td>\n",
       "    </tr>\n",
       "    <tr>\n",
       "      <th>1</th>\n",
       "      <td>mpf3x-BjTdTEA3yCZrAYPw</td>\n",
       "      <td>The UPS Store</td>\n",
       "      <td>87 Grasso Plaza Shopping Center</td>\n",
       "      <td>Affton</td>\n",
       "      <td>MO</td>\n",
       "      <td>63123</td>\n",
       "      <td>38.551126</td>\n",
       "      <td>-90.335695</td>\n",
       "      <td>3.0</td>\n",
       "      <td>15</td>\n",
       "      <td>1</td>\n",
       "      <td>{'BusinessAcceptsCreditCards': 'True'}</td>\n",
       "      <td>Shipping Centers, Local Services, Notaries, Ma...</td>\n",
       "      <td>{'Monday': '0:0-0:0', 'Tuesday': '8:0-18:30', ...</td>\n",
       "    </tr>\n",
       "    <tr>\n",
       "      <th>2</th>\n",
       "      <td>tUFrWirKiKi_TAnsVWINQQ</td>\n",
       "      <td>Target</td>\n",
       "      <td>5255 E Broadway Blvd</td>\n",
       "      <td>Tucson</td>\n",
       "      <td>AZ</td>\n",
       "      <td>85711</td>\n",
       "      <td>32.223236</td>\n",
       "      <td>-110.880452</td>\n",
       "      <td>3.5</td>\n",
       "      <td>22</td>\n",
       "      <td>0</td>\n",
       "      <td>{'BikeParking': 'True', 'BusinessAcceptsCredit...</td>\n",
       "      <td>Department Stores, Shopping, Fashion, Home &amp; G...</td>\n",
       "      <td>{'Monday': '8:0-22:0', 'Tuesday': '8:0-22:0', ...</td>\n",
       "    </tr>\n",
       "    <tr>\n",
       "      <th>3</th>\n",
       "      <td>MTSW4McQd7CbVtyjqoe9mw</td>\n",
       "      <td>St Honore Pastries</td>\n",
       "      <td>935 Race St</td>\n",
       "      <td>Philadelphia</td>\n",
       "      <td>PA</td>\n",
       "      <td>19107</td>\n",
       "      <td>39.955505</td>\n",
       "      <td>-75.155564</td>\n",
       "      <td>4.0</td>\n",
       "      <td>80</td>\n",
       "      <td>1</td>\n",
       "      <td>{'RestaurantsDelivery': 'False', 'OutdoorSeati...</td>\n",
       "      <td>Restaurants, Food, Bubble Tea, Coffee &amp; Tea, B...</td>\n",
       "      <td>{'Monday': '7:0-20:0', 'Tuesday': '7:0-20:0', ...</td>\n",
       "    </tr>\n",
       "    <tr>\n",
       "      <th>4</th>\n",
       "      <td>mWMc6_wTdE0EUBKIGXDVfA</td>\n",
       "      <td>Perkiomen Valley Brewery</td>\n",
       "      <td>101 Walnut St</td>\n",
       "      <td>Green Lane</td>\n",
       "      <td>PA</td>\n",
       "      <td>18054</td>\n",
       "      <td>40.338183</td>\n",
       "      <td>-75.471659</td>\n",
       "      <td>4.5</td>\n",
       "      <td>13</td>\n",
       "      <td>1</td>\n",
       "      <td>{'BusinessAcceptsCreditCards': 'True', 'Wheelc...</td>\n",
       "      <td>Brewpubs, Breweries, Food</td>\n",
       "      <td>{'Wednesday': '14:0-22:0', 'Thursday': '16:0-2...</td>\n",
       "    </tr>\n",
       "  </tbody>\n",
       "</table>\n",
       "</div>"
      ],
      "text/plain": [
       "              business_id                      name  \\\n",
       "0  Pns2l4eNsfO8kk83dixA6A  Abby Rappoport, LAC, CMQ   \n",
       "1  mpf3x-BjTdTEA3yCZrAYPw             The UPS Store   \n",
       "2  tUFrWirKiKi_TAnsVWINQQ                    Target   \n",
       "3  MTSW4McQd7CbVtyjqoe9mw        St Honore Pastries   \n",
       "4  mWMc6_wTdE0EUBKIGXDVfA  Perkiomen Valley Brewery   \n",
       "\n",
       "                           address           city state postal_code  \\\n",
       "0           1616 Chapala St, Ste 2  Santa Barbara    CA       93101   \n",
       "1  87 Grasso Plaza Shopping Center         Affton    MO       63123   \n",
       "2             5255 E Broadway Blvd         Tucson    AZ       85711   \n",
       "3                      935 Race St   Philadelphia    PA       19107   \n",
       "4                    101 Walnut St     Green Lane    PA       18054   \n",
       "\n",
       "    latitude   longitude  stars  review_count  is_open  \\\n",
       "0  34.426679 -119.711197    5.0             7        0   \n",
       "1  38.551126  -90.335695    3.0            15        1   \n",
       "2  32.223236 -110.880452    3.5            22        0   \n",
       "3  39.955505  -75.155564    4.0            80        1   \n",
       "4  40.338183  -75.471659    4.5            13        1   \n",
       "\n",
       "                                          attributes  \\\n",
       "0                      {'ByAppointmentOnly': 'True'}   \n",
       "1             {'BusinessAcceptsCreditCards': 'True'}   \n",
       "2  {'BikeParking': 'True', 'BusinessAcceptsCredit...   \n",
       "3  {'RestaurantsDelivery': 'False', 'OutdoorSeati...   \n",
       "4  {'BusinessAcceptsCreditCards': 'True', 'Wheelc...   \n",
       "\n",
       "                                          categories  \\\n",
       "0  Doctors, Traditional Chinese Medicine, Naturop...   \n",
       "1  Shipping Centers, Local Services, Notaries, Ma...   \n",
       "2  Department Stores, Shopping, Fashion, Home & G...   \n",
       "3  Restaurants, Food, Bubble Tea, Coffee & Tea, B...   \n",
       "4                          Brewpubs, Breweries, Food   \n",
       "\n",
       "                                               hours  \n",
       "0                                               None  \n",
       "1  {'Monday': '0:0-0:0', 'Tuesday': '8:0-18:30', ...  \n",
       "2  {'Monday': '8:0-22:0', 'Tuesday': '8:0-22:0', ...  \n",
       "3  {'Monday': '7:0-20:0', 'Tuesday': '7:0-20:0', ...  \n",
       "4  {'Wednesday': '14:0-22:0', 'Thursday': '16:0-2...  "
      ]
     },
     "execution_count": 55,
     "metadata": {},
     "output_type": "execute_result"
    }
   ],
   "source": [
    "# \n",
    "biz_file = open('../tochora/dd/yelp_academic_dataset_business.json', encoding='latin-1')\n",
    "#\n",
    "biz_df = pd.DataFrame([json.loads(x) for x in biz_file.readlines()])\n",
    "biz_file.close()\n",
    "#reading components of our dataset\n",
    "biz_df.head()"
   ]
  },
  {
   "cell_type": "code",
   "execution_count": 56,
   "metadata": {},
   "outputs": [
    {
     "data": {
      "text/plain": [
       "(150346, 14)"
      ]
     },
     "execution_count": 56,
     "metadata": {},
     "output_type": "execute_result"
    }
   ],
   "source": [
    "# shape of our dataset\n",
    "biz_df.shape"
   ]
  },
  {
   "cell_type": "markdown",
   "metadata": {},
   "source": [
    "It has 150,346 rows and 14 columns thus it is quite a large dataset."
   ]
  },
  {
   "cell_type": "markdown",
   "metadata": {},
   "source": [
    "Statistics"
   ]
  },
  {
   "cell_type": "code",
   "execution_count": 57,
   "metadata": {},
   "outputs": [
    {
     "data": {
      "text/html": [
       "<div>\n",
       "<style scoped>\n",
       "    .dataframe tbody tr th:only-of-type {\n",
       "        vertical-align: middle;\n",
       "    }\n",
       "\n",
       "    .dataframe tbody tr th {\n",
       "        vertical-align: top;\n",
       "    }\n",
       "\n",
       "    .dataframe thead th {\n",
       "        text-align: right;\n",
       "    }\n",
       "</style>\n",
       "<table border=\"1\" class=\"dataframe\">\n",
       "  <thead>\n",
       "    <tr style=\"text-align: right;\">\n",
       "      <th></th>\n",
       "      <th>stars</th>\n",
       "      <th>review_count</th>\n",
       "    </tr>\n",
       "  </thead>\n",
       "  <tbody>\n",
       "    <tr>\n",
       "      <th>count</th>\n",
       "      <td>150346.000000</td>\n",
       "      <td>150346.000000</td>\n",
       "    </tr>\n",
       "    <tr>\n",
       "      <th>mean</th>\n",
       "      <td>3.596724</td>\n",
       "      <td>44.866561</td>\n",
       "    </tr>\n",
       "    <tr>\n",
       "      <th>std</th>\n",
       "      <td>0.974421</td>\n",
       "      <td>121.120136</td>\n",
       "    </tr>\n",
       "    <tr>\n",
       "      <th>min</th>\n",
       "      <td>1.000000</td>\n",
       "      <td>5.000000</td>\n",
       "    </tr>\n",
       "    <tr>\n",
       "      <th>25%</th>\n",
       "      <td>3.000000</td>\n",
       "      <td>8.000000</td>\n",
       "    </tr>\n",
       "    <tr>\n",
       "      <th>50%</th>\n",
       "      <td>3.500000</td>\n",
       "      <td>15.000000</td>\n",
       "    </tr>\n",
       "    <tr>\n",
       "      <th>75%</th>\n",
       "      <td>4.500000</td>\n",
       "      <td>37.000000</td>\n",
       "    </tr>\n",
       "    <tr>\n",
       "      <th>max</th>\n",
       "      <td>5.000000</td>\n",
       "      <td>7568.000000</td>\n",
       "    </tr>\n",
       "  </tbody>\n",
       "</table>\n",
       "</div>"
      ],
      "text/plain": [
       "               stars   review_count\n",
       "count  150346.000000  150346.000000\n",
       "mean        3.596724      44.866561\n",
       "std         0.974421     121.120136\n",
       "min         1.000000       5.000000\n",
       "25%         3.000000       8.000000\n",
       "50%         3.500000      15.000000\n",
       "75%         4.500000      37.000000\n",
       "max         5.000000    7568.000000"
      ]
     },
     "execution_count": 57,
     "metadata": {},
     "output_type": "execute_result"
    }
   ],
   "source": [
    "#statistics pf only relevant columns\n",
    "biz_df[['stars', 'review_count']].describe()"
   ]
  },
  {
   "cell_type": "markdown",
   "metadata": {},
   "source": [
    "Data Analysis"
   ]
  },
  {
   "cell_type": "markdown",
   "metadata": {},
   "source": [
    "This analysis will involve checking the performance of companies, relationship between performance and relative size of the companies involved and how review stars were distributed among various companies."
   ]
  },
  {
   "cell_type": "markdown",
   "metadata": {},
   "source": [
    "NB: Mostly analysis succeed data visualisation so as to have a better understanding of data but ours won't make a difference since we wo't alter the contents of the original dataset."
   ]
  },
  {
   "cell_type": "code",
   "execution_count": 58,
   "metadata": {},
   "outputs": [
    {
     "data": {
      "text/html": [
       "<div>\n",
       "<style scoped>\n",
       "    .dataframe tbody tr th:only-of-type {\n",
       "        vertical-align: middle;\n",
       "    }\n",
       "\n",
       "    .dataframe tbody tr th {\n",
       "        vertical-align: top;\n",
       "    }\n",
       "\n",
       "    .dataframe thead th {\n",
       "        text-align: right;\n",
       "    }\n",
       "</style>\n",
       "<table border=\"1\" class=\"dataframe\">\n",
       "  <thead>\n",
       "    <tr style=\"text-align: right;\">\n",
       "      <th></th>\n",
       "      <th>review_count</th>\n",
       "      <th>stars</th>\n",
       "      <th>city</th>\n",
       "    </tr>\n",
       "    <tr>\n",
       "      <th>name</th>\n",
       "      <th></th>\n",
       "      <th></th>\n",
       "      <th></th>\n",
       "    </tr>\n",
       "  </thead>\n",
       "  <tbody>\n",
       "    <tr>\n",
       "      <th>McDonald's</th>\n",
       "      <td>17359</td>\n",
       "      <td>1.863442</td>\n",
       "      <td>263</td>\n",
       "    </tr>\n",
       "    <tr>\n",
       "      <th>Dunkin'</th>\n",
       "      <td>9864</td>\n",
       "      <td>2.302941</td>\n",
       "      <td>235</td>\n",
       "    </tr>\n",
       "    <tr>\n",
       "      <th>Starbucks</th>\n",
       "      <td>20692</td>\n",
       "      <td>3.126381</td>\n",
       "      <td>197</td>\n",
       "    </tr>\n",
       "    <tr>\n",
       "      <th>Wawa</th>\n",
       "      <td>4263</td>\n",
       "      <td>3.319218</td>\n",
       "      <td>167</td>\n",
       "    </tr>\n",
       "    <tr>\n",
       "      <th>Domino's Pizza</th>\n",
       "      <td>6291</td>\n",
       "      <td>2.281356</td>\n",
       "      <td>165</td>\n",
       "    </tr>\n",
       "    <tr>\n",
       "      <th>...</th>\n",
       "      <td>...</td>\n",
       "      <td>...</td>\n",
       "      <td>...</td>\n",
       "    </tr>\n",
       "    <tr>\n",
       "      <th>Gavas Alterations</th>\n",
       "      <td>10</td>\n",
       "      <td>4.500000</td>\n",
       "      <td>1</td>\n",
       "    </tr>\n",
       "    <tr>\n",
       "      <th>Gautreau's Restaurant</th>\n",
       "      <td>188</td>\n",
       "      <td>4.000000</td>\n",
       "      <td>1</td>\n",
       "    </tr>\n",
       "    <tr>\n",
       "      <th>Gauthreauxs Chop Shop</th>\n",
       "      <td>11</td>\n",
       "      <td>5.000000</td>\n",
       "      <td>1</td>\n",
       "    </tr>\n",
       "    <tr>\n",
       "      <th>Gauler Realty</th>\n",
       "      <td>21</td>\n",
       "      <td>2.000000</td>\n",
       "      <td>1</td>\n",
       "    </tr>\n",
       "    <tr>\n",
       "      <th>Gaul &amp; Co. Malthouse</th>\n",
       "      <td>127</td>\n",
       "      <td>4.500000</td>\n",
       "      <td>1</td>\n",
       "    </tr>\n",
       "  </tbody>\n",
       "</table>\n",
       "<p>114107 rows × 3 columns</p>\n",
       "</div>"
      ],
      "text/plain": [
       "                       review_count     stars  city\n",
       "name                                               \n",
       "McDonald's                    17359  1.863442   263\n",
       "Dunkin'                        9864  2.302941   235\n",
       "Starbucks                     20692  3.126381   197\n",
       "Wawa                           4263  3.319218   167\n",
       "Domino's Pizza                 6291  2.281356   165\n",
       "...                             ...       ...   ...\n",
       "Gavas Alterations                10  4.500000     1\n",
       "Gautreau's Restaurant           188  4.000000     1\n",
       "Gauthreauxs Chop Shop            11  5.000000     1\n",
       "Gauler Realty                    21  2.000000     1\n",
       "Gaul & Co. Malthouse            127  4.500000     1\n",
       "\n",
       "[114107 rows x 3 columns]"
      ]
     },
     "execution_count": 58,
     "metadata": {},
     "output_type": "execute_result"
    }
   ],
   "source": [
    "# grouping name by stars received by a company\n",
    "company_rating = biz_df.groupby(['name']).stars.mean()\n",
    "# grouping name of the company with he number of review counts\n",
    "company_review_count = biz_df.groupby(['name']).review_count.sum()\n",
    "# grouping name of the company by the cities\n",
    "company_city = biz_df.groupby(['name']).city.nunique()\n",
    "# combining those dataframes to form a full dataframe\n",
    "result = pd.concat([company_review_count, company_rating, company_city], axis=1, join='inner')\n",
    "result.sort_values(by='city', ascending=False).head(-10)\n"
   ]
  },
  {
   "cell_type": "markdown",
   "metadata": {},
   "source": [
    "Dominant firms like Macdonald has the largest review counts of 17359 entries, mean stars of 1.863442 and is located in 263 cities, followed by Dunkin with 9864 review counts, mean stars of 2.302941 and located in 235 cities while the less dominant firm is Gaul & Co. Malhouse and it has 127 review counts, mean stars of 4.5 and located in 1 city."
   ]
  },
  {
   "cell_type": "markdown",
   "metadata": {},
   "source": [
    "Conclusion:Mcdonald, Dunkin upto Domino's Plaza have the high number of review counts, located in many cities but they have the low stars means compared to small companies like Gavas alteratios that have 10 review counts, mean star of 5 and loacted in 1 city. Our hypothesis is that Larger companies are performing bad compared to small companies. "
   ]
  },
  {
   "cell_type": "markdown",
   "metadata": {},
   "source": [
    "Let us check individual companies performance to justify or disapprove our hypothesis. We will start with large companies."
   ]
  },
  {
   "cell_type": "code",
   "execution_count": 59,
   "metadata": {},
   "outputs": [
    {
     "data": {
      "text/html": [
       "<div>\n",
       "<style scoped>\n",
       "    .dataframe tbody tr th:only-of-type {\n",
       "        vertical-align: middle;\n",
       "    }\n",
       "\n",
       "    .dataframe tbody tr th {\n",
       "        vertical-align: top;\n",
       "    }\n",
       "\n",
       "    .dataframe thead th {\n",
       "        text-align: right;\n",
       "    }\n",
       "</style>\n",
       "<table border=\"1\" class=\"dataframe\">\n",
       "  <thead>\n",
       "    <tr style=\"text-align: right;\">\n",
       "      <th></th>\n",
       "      <th>name</th>\n",
       "      <th>business_id</th>\n",
       "      <th>review_count</th>\n",
       "      <th>stars</th>\n",
       "      <th>city</th>\n",
       "    </tr>\n",
       "  </thead>\n",
       "  <tbody>\n",
       "    <tr>\n",
       "      <th>145369</th>\n",
       "      <td>McDonald's</td>\n",
       "      <td>3UHXD8T80OUFMCzLb3x-sQ</td>\n",
       "      <td>176</td>\n",
       "      <td>1.0</td>\n",
       "      <td>New Orleans</td>\n",
       "    </tr>\n",
       "    <tr>\n",
       "      <th>147573</th>\n",
       "      <td>McDonald's</td>\n",
       "      <td>RL6BaK196Scg2DEY3Uc1AQ</td>\n",
       "      <td>160</td>\n",
       "      <td>1.5</td>\n",
       "      <td>Indianapolis</td>\n",
       "    </tr>\n",
       "    <tr>\n",
       "      <th>146417</th>\n",
       "      <td>McDonald's</td>\n",
       "      <td>a5TaDLChZDSgZ-en1sxNpw</td>\n",
       "      <td>121</td>\n",
       "      <td>1.5</td>\n",
       "      <td>Reno</td>\n",
       "    </tr>\n",
       "    <tr>\n",
       "      <th>45077</th>\n",
       "      <td>McDonald's</td>\n",
       "      <td>lA5BOb5Om5cn_dfwiOgbNg</td>\n",
       "      <td>111</td>\n",
       "      <td>1.5</td>\n",
       "      <td>Reno</td>\n",
       "    </tr>\n",
       "    <tr>\n",
       "      <th>86328</th>\n",
       "      <td>McDonald's</td>\n",
       "      <td>_mGAcxIOqKcL3muEg3LHLA</td>\n",
       "      <td>106</td>\n",
       "      <td>1.5</td>\n",
       "      <td>Reno</td>\n",
       "    </tr>\n",
       "    <tr>\n",
       "      <th>...</th>\n",
       "      <td>...</td>\n",
       "      <td>...</td>\n",
       "      <td>...</td>\n",
       "      <td>...</td>\n",
       "      <td>...</td>\n",
       "    </tr>\n",
       "    <tr>\n",
       "      <th>80461</th>\n",
       "      <td>McDonald's</td>\n",
       "      <td>eQG5bKz5S4F0jG8mMw7ohQ</td>\n",
       "      <td>5</td>\n",
       "      <td>1.0</td>\n",
       "      <td>Tampa</td>\n",
       "    </tr>\n",
       "    <tr>\n",
       "      <th>97359</th>\n",
       "      <td>McDonald's</td>\n",
       "      <td>nJxCI5M1-stOtXyFrYhuxw</td>\n",
       "      <td>5</td>\n",
       "      <td>1.0</td>\n",
       "      <td>Philadelphia</td>\n",
       "    </tr>\n",
       "    <tr>\n",
       "      <th>97509</th>\n",
       "      <td>McDonald's</td>\n",
       "      <td>UYIr1d1zJr3jVYhXOoxyLg</td>\n",
       "      <td>5</td>\n",
       "      <td>1.0</td>\n",
       "      <td>Jennings</td>\n",
       "    </tr>\n",
       "    <tr>\n",
       "      <th>130950</th>\n",
       "      <td>McDonald's</td>\n",
       "      <td>UJQGJ0tlKO93Lia2JGidZA</td>\n",
       "      <td>5</td>\n",
       "      <td>1.0</td>\n",
       "      <td>Philadelphia</td>\n",
       "    </tr>\n",
       "    <tr>\n",
       "      <th>142579</th>\n",
       "      <td>McDonald's</td>\n",
       "      <td>z00F0RSAGimvSU9IrTevOw</td>\n",
       "      <td>5</td>\n",
       "      <td>1.0</td>\n",
       "      <td>New Castle</td>\n",
       "    </tr>\n",
       "  </tbody>\n",
       "</table>\n",
       "<p>703 rows × 5 columns</p>\n",
       "</div>"
      ],
      "text/plain": [
       "              name             business_id  review_count  stars          city\n",
       "145369  McDonald's  3UHXD8T80OUFMCzLb3x-sQ           176    1.0   New Orleans\n",
       "147573  McDonald's  RL6BaK196Scg2DEY3Uc1AQ           160    1.5  Indianapolis\n",
       "146417  McDonald's  a5TaDLChZDSgZ-en1sxNpw           121    1.5          Reno\n",
       "45077   McDonald's  lA5BOb5Om5cn_dfwiOgbNg           111    1.5          Reno\n",
       "86328   McDonald's  _mGAcxIOqKcL3muEg3LHLA           106    1.5          Reno\n",
       "...            ...                     ...           ...    ...           ...\n",
       "80461   McDonald's  eQG5bKz5S4F0jG8mMw7ohQ             5    1.0         Tampa\n",
       "97359   McDonald's  nJxCI5M1-stOtXyFrYhuxw             5    1.0  Philadelphia\n",
       "97509   McDonald's  UYIr1d1zJr3jVYhXOoxyLg             5    1.0      Jennings\n",
       "130950  McDonald's  UJQGJ0tlKO93Lia2JGidZA             5    1.0  Philadelphia\n",
       "142579  McDonald's  z00F0RSAGimvSU9IrTevOw             5    1.0    New Castle\n",
       "\n",
       "[703 rows x 5 columns]"
      ]
     },
     "execution_count": 59,
     "metadata": {},
     "output_type": "execute_result"
    }
   ],
   "source": [
    "# \n",
    "mcdonalds = biz_df.loc[biz_df['name'] == \"McDonald's\"]\n",
    "mcdonalds[['name', 'business_id', 'review_count', 'stars','city']].sort_values(['review_count', 'stars'], ascending=[False, False])\n"
   ]
  },
  {
   "cell_type": "markdown",
   "metadata": {},
   "source": [
    "Mcdonalds has lowly rated stars with an average of 1.3 stars meaning that its services are viewed by consumers as subpar compared to their expectations. Let us check a smaller firm"
   ]
  },
  {
   "cell_type": "code",
   "execution_count": 60,
   "metadata": {},
   "outputs": [
    {
     "data": {
      "text/html": [
       "<div>\n",
       "<style scoped>\n",
       "    .dataframe tbody tr th:only-of-type {\n",
       "        vertical-align: middle;\n",
       "    }\n",
       "\n",
       "    .dataframe tbody tr th {\n",
       "        vertical-align: top;\n",
       "    }\n",
       "\n",
       "    .dataframe thead th {\n",
       "        text-align: right;\n",
       "    }\n",
       "</style>\n",
       "<table border=\"1\" class=\"dataframe\">\n",
       "  <thead>\n",
       "    <tr style=\"text-align: right;\">\n",
       "      <th></th>\n",
       "      <th>name</th>\n",
       "      <th>business_id</th>\n",
       "      <th>review_count</th>\n",
       "      <th>stars</th>\n",
       "      <th>city</th>\n",
       "    </tr>\n",
       "  </thead>\n",
       "  <tbody>\n",
       "    <tr>\n",
       "      <th>19574</th>\n",
       "      <td>Gavas Alterations</td>\n",
       "      <td>OXZyNord5kMOa495-phxXw</td>\n",
       "      <td>10</td>\n",
       "      <td>4.5</td>\n",
       "      <td>Santa Barbara</td>\n",
       "    </tr>\n",
       "  </tbody>\n",
       "</table>\n",
       "</div>"
      ],
      "text/plain": [
       "                    name             business_id  review_count  stars  \\\n",
       "19574  Gavas Alterations  OXZyNord5kMOa495-phxXw            10    4.5   \n",
       "\n",
       "                city  \n",
       "19574  Santa Barbara  "
      ]
     },
     "execution_count": 60,
     "metadata": {},
     "output_type": "execute_result"
    }
   ],
   "source": [
    "Gava_alterations = biz_df.loc[biz_df['name'] == \"Gavas Alterations\"]\n",
    "Gava_alterations[['name','business_id', 'review_count','stars','city']].sort_values(by=['review_count','stars'],ascending=[False, False])"
   ]
  },
  {
   "cell_type": "markdown",
   "metadata": {},
   "source": [
    "A smaller firm Gava Alterations has 10 reviews, and is rated 4.5 stars.This means that firms that are small are able to serve their consumers well thus surpassing their expections."
   ]
  },
  {
   "cell_type": "markdown",
   "metadata": {},
   "source": [
    "Note: Small firms might have higher ratings due to few reviews which may skew the distribution of the stars in their favor.Let us check another large firm to check any simillarity with our hypothesis."
   ]
  },
  {
   "cell_type": "code",
   "execution_count": 61,
   "metadata": {},
   "outputs": [
    {
     "data": {
      "text/html": [
       "<div>\n",
       "<style scoped>\n",
       "    .dataframe tbody tr th:only-of-type {\n",
       "        vertical-align: middle;\n",
       "    }\n",
       "\n",
       "    .dataframe tbody tr th {\n",
       "        vertical-align: top;\n",
       "    }\n",
       "\n",
       "    .dataframe thead th {\n",
       "        text-align: right;\n",
       "    }\n",
       "</style>\n",
       "<table border=\"1\" class=\"dataframe\">\n",
       "  <thead>\n",
       "    <tr style=\"text-align: right;\">\n",
       "      <th></th>\n",
       "      <th>name</th>\n",
       "      <th>business_id</th>\n",
       "      <th>review_count</th>\n",
       "      <th>stars</th>\n",
       "      <th>city</th>\n",
       "    </tr>\n",
       "  </thead>\n",
       "  <tbody>\n",
       "    <tr>\n",
       "      <th>140052</th>\n",
       "      <td>Domino's Pizza</td>\n",
       "      <td>_DvAGDt7KnXPvlY9kxWbiQ</td>\n",
       "      <td>131</td>\n",
       "      <td>1.5</td>\n",
       "      <td>New Orleans</td>\n",
       "    </tr>\n",
       "    <tr>\n",
       "      <th>69102</th>\n",
       "      <td>Domino's Pizza</td>\n",
       "      <td>C809UuprygJyEgJw4wr2Pg</td>\n",
       "      <td>106</td>\n",
       "      <td>1.5</td>\n",
       "      <td>Philadelphia</td>\n",
       "    </tr>\n",
       "    <tr>\n",
       "      <th>35701</th>\n",
       "      <td>Domino's Pizza</td>\n",
       "      <td>P9hB7eIDMuk2_yRd91hr9A</td>\n",
       "      <td>100</td>\n",
       "      <td>2.0</td>\n",
       "      <td>Reno</td>\n",
       "    </tr>\n",
       "    <tr>\n",
       "      <th>61725</th>\n",
       "      <td>Domino's Pizza</td>\n",
       "      <td>vg3JmN8hAiOV1suoxTi1yA</td>\n",
       "      <td>81</td>\n",
       "      <td>2.0</td>\n",
       "      <td>Philadelphia</td>\n",
       "    </tr>\n",
       "    <tr>\n",
       "      <th>73428</th>\n",
       "      <td>Domino's Pizza</td>\n",
       "      <td>d-5kMts7CzenaPgDzesQDg</td>\n",
       "      <td>79</td>\n",
       "      <td>2.5</td>\n",
       "      <td>Goleta</td>\n",
       "    </tr>\n",
       "    <tr>\n",
       "      <th>...</th>\n",
       "      <td>...</td>\n",
       "      <td>...</td>\n",
       "      <td>...</td>\n",
       "      <td>...</td>\n",
       "      <td>...</td>\n",
       "    </tr>\n",
       "    <tr>\n",
       "      <th>2985</th>\n",
       "      <td>Domino's Pizza</td>\n",
       "      <td>Yl4Am6NhqWo_YMmo1SyU5A</td>\n",
       "      <td>5</td>\n",
       "      <td>2.0</td>\n",
       "      <td>Philadelphia</td>\n",
       "    </tr>\n",
       "    <tr>\n",
       "      <th>60618</th>\n",
       "      <td>Domino's Pizza</td>\n",
       "      <td>mKGJ9d33coH3kJN16BeQXQ</td>\n",
       "      <td>5</td>\n",
       "      <td>2.0</td>\n",
       "      <td>Carmel</td>\n",
       "    </tr>\n",
       "    <tr>\n",
       "      <th>94220</th>\n",
       "      <td>Domino's Pizza</td>\n",
       "      <td>E3f7uDqc_lrTSLkxIyZWhQ</td>\n",
       "      <td>5</td>\n",
       "      <td>2.0</td>\n",
       "      <td>Boyertown</td>\n",
       "    </tr>\n",
       "    <tr>\n",
       "      <th>121923</th>\n",
       "      <td>Domino's Pizza</td>\n",
       "      <td>nWe5p-PNN2rD4-b9ap5uiQ</td>\n",
       "      <td>5</td>\n",
       "      <td>2.0</td>\n",
       "      <td>Indianapolis</td>\n",
       "    </tr>\n",
       "    <tr>\n",
       "      <th>91116</th>\n",
       "      <td>Domino's Pizza</td>\n",
       "      <td>14qpO42l9qPbr6oxy_aoSQ</td>\n",
       "      <td>5</td>\n",
       "      <td>1.5</td>\n",
       "      <td>Indianapolis</td>\n",
       "    </tr>\n",
       "  </tbody>\n",
       "</table>\n",
       "<p>295 rows × 5 columns</p>\n",
       "</div>"
      ],
      "text/plain": [
       "                  name             business_id  review_count  stars  \\\n",
       "140052  Domino's Pizza  _DvAGDt7KnXPvlY9kxWbiQ           131    1.5   \n",
       "69102   Domino's Pizza  C809UuprygJyEgJw4wr2Pg           106    1.5   \n",
       "35701   Domino's Pizza  P9hB7eIDMuk2_yRd91hr9A           100    2.0   \n",
       "61725   Domino's Pizza  vg3JmN8hAiOV1suoxTi1yA            81    2.0   \n",
       "73428   Domino's Pizza  d-5kMts7CzenaPgDzesQDg            79    2.5   \n",
       "...                ...                     ...           ...    ...   \n",
       "2985    Domino's Pizza  Yl4Am6NhqWo_YMmo1SyU5A             5    2.0   \n",
       "60618   Domino's Pizza  mKGJ9d33coH3kJN16BeQXQ             5    2.0   \n",
       "94220   Domino's Pizza  E3f7uDqc_lrTSLkxIyZWhQ             5    2.0   \n",
       "121923  Domino's Pizza  nWe5p-PNN2rD4-b9ap5uiQ             5    2.0   \n",
       "91116   Domino's Pizza  14qpO42l9qPbr6oxy_aoSQ             5    1.5   \n",
       "\n",
       "                city  \n",
       "140052   New Orleans  \n",
       "69102   Philadelphia  \n",
       "35701           Reno  \n",
       "61725   Philadelphia  \n",
       "73428         Goleta  \n",
       "...              ...  \n",
       "2985    Philadelphia  \n",
       "60618         Carmel  \n",
       "94220      Boyertown  \n",
       "121923  Indianapolis  \n",
       "91116   Indianapolis  \n",
       "\n",
       "[295 rows x 5 columns]"
      ]
     },
     "execution_count": 61,
     "metadata": {},
     "output_type": "execute_result"
    }
   ],
   "source": [
    "Dominos_Pizza = biz_df[biz_df['name'] == \"Domino's Pizza\"]\n",
    "Dominos_Pizza[['name','business_id','review_count', 'stars', 'city']].sort_values(by=['review_count','stars'], ascending = [False,False])"
   ]
  },
  {
   "cell_type": "markdown",
   "metadata": {},
   "source": [
    "a similar larger firm Domino's pizza is also low rated and has an average of 2.2 stars. This shows that dominant firms are providing services that most of their consumers consider them lesser than their expectations thus proofing our hypothesis."
   ]
  },
  {
   "cell_type": "markdown",
   "metadata": {},
   "source": [
    "Some cities may have the same name but are from different states thus we will combine both a city and its state to show a them as one."
   ]
  },
  {
   "cell_type": "code",
   "execution_count": 62,
   "metadata": {},
   "outputs": [
    {
     "data": {
      "text/html": [
       "<div>\n",
       "<style scoped>\n",
       "    .dataframe tbody tr th:only-of-type {\n",
       "        vertical-align: middle;\n",
       "    }\n",
       "\n",
       "    .dataframe tbody tr th {\n",
       "        vertical-align: top;\n",
       "    }\n",
       "\n",
       "    .dataframe thead th {\n",
       "        text-align: right;\n",
       "    }\n",
       "</style>\n",
       "<table border=\"1\" class=\"dataframe\">\n",
       "  <thead>\n",
       "    <tr style=\"text-align: right;\">\n",
       "      <th></th>\n",
       "      <th>business_id</th>\n",
       "      <th>name</th>\n",
       "      <th>address</th>\n",
       "      <th>city</th>\n",
       "      <th>state</th>\n",
       "      <th>postal_code</th>\n",
       "      <th>latitude</th>\n",
       "      <th>longitude</th>\n",
       "      <th>stars</th>\n",
       "      <th>review_count</th>\n",
       "      <th>is_open</th>\n",
       "      <th>attributes</th>\n",
       "      <th>categories</th>\n",
       "      <th>hours</th>\n",
       "      <th>city_state</th>\n",
       "    </tr>\n",
       "  </thead>\n",
       "  <tbody>\n",
       "    <tr>\n",
       "      <th>0</th>\n",
       "      <td>Pns2l4eNsfO8kk83dixA6A</td>\n",
       "      <td>Abby Rappoport, LAC, CMQ</td>\n",
       "      <td>1616 Chapala St, Ste 2</td>\n",
       "      <td>Santa Barbara</td>\n",
       "      <td>CA</td>\n",
       "      <td>93101</td>\n",
       "      <td>34.426679</td>\n",
       "      <td>-119.711197</td>\n",
       "      <td>5.0</td>\n",
       "      <td>7</td>\n",
       "      <td>0</td>\n",
       "      <td>{'ByAppointmentOnly': 'True'}</td>\n",
       "      <td>Doctors, Traditional Chinese Medicine, Naturop...</td>\n",
       "      <td>None</td>\n",
       "      <td>Santa Barbara CA</td>\n",
       "    </tr>\n",
       "    <tr>\n",
       "      <th>1</th>\n",
       "      <td>mpf3x-BjTdTEA3yCZrAYPw</td>\n",
       "      <td>The UPS Store</td>\n",
       "      <td>87 Grasso Plaza Shopping Center</td>\n",
       "      <td>Affton</td>\n",
       "      <td>MO</td>\n",
       "      <td>63123</td>\n",
       "      <td>38.551126</td>\n",
       "      <td>-90.335695</td>\n",
       "      <td>3.0</td>\n",
       "      <td>15</td>\n",
       "      <td>1</td>\n",
       "      <td>{'BusinessAcceptsCreditCards': 'True'}</td>\n",
       "      <td>Shipping Centers, Local Services, Notaries, Ma...</td>\n",
       "      <td>{'Monday': '0:0-0:0', 'Tuesday': '8:0-18:30', ...</td>\n",
       "      <td>Affton MO</td>\n",
       "    </tr>\n",
       "    <tr>\n",
       "      <th>2</th>\n",
       "      <td>tUFrWirKiKi_TAnsVWINQQ</td>\n",
       "      <td>Target</td>\n",
       "      <td>5255 E Broadway Blvd</td>\n",
       "      <td>Tucson</td>\n",
       "      <td>AZ</td>\n",
       "      <td>85711</td>\n",
       "      <td>32.223236</td>\n",
       "      <td>-110.880452</td>\n",
       "      <td>3.5</td>\n",
       "      <td>22</td>\n",
       "      <td>0</td>\n",
       "      <td>{'BikeParking': 'True', 'BusinessAcceptsCredit...</td>\n",
       "      <td>Department Stores, Shopping, Fashion, Home &amp; G...</td>\n",
       "      <td>{'Monday': '8:0-22:0', 'Tuesday': '8:0-22:0', ...</td>\n",
       "      <td>Tucson AZ</td>\n",
       "    </tr>\n",
       "    <tr>\n",
       "      <th>3</th>\n",
       "      <td>MTSW4McQd7CbVtyjqoe9mw</td>\n",
       "      <td>St Honore Pastries</td>\n",
       "      <td>935 Race St</td>\n",
       "      <td>Philadelphia</td>\n",
       "      <td>PA</td>\n",
       "      <td>19107</td>\n",
       "      <td>39.955505</td>\n",
       "      <td>-75.155564</td>\n",
       "      <td>4.0</td>\n",
       "      <td>80</td>\n",
       "      <td>1</td>\n",
       "      <td>{'RestaurantsDelivery': 'False', 'OutdoorSeati...</td>\n",
       "      <td>Restaurants, Food, Bubble Tea, Coffee &amp; Tea, B...</td>\n",
       "      <td>{'Monday': '7:0-20:0', 'Tuesday': '7:0-20:0', ...</td>\n",
       "      <td>Philadelphia PA</td>\n",
       "    </tr>\n",
       "    <tr>\n",
       "      <th>4</th>\n",
       "      <td>mWMc6_wTdE0EUBKIGXDVfA</td>\n",
       "      <td>Perkiomen Valley Brewery</td>\n",
       "      <td>101 Walnut St</td>\n",
       "      <td>Green Lane</td>\n",
       "      <td>PA</td>\n",
       "      <td>18054</td>\n",
       "      <td>40.338183</td>\n",
       "      <td>-75.471659</td>\n",
       "      <td>4.5</td>\n",
       "      <td>13</td>\n",
       "      <td>1</td>\n",
       "      <td>{'BusinessAcceptsCreditCards': 'True', 'Wheelc...</td>\n",
       "      <td>Brewpubs, Breweries, Food</td>\n",
       "      <td>{'Wednesday': '14:0-22:0', 'Thursday': '16:0-2...</td>\n",
       "      <td>Green Lane PA</td>\n",
       "    </tr>\n",
       "  </tbody>\n",
       "</table>\n",
       "</div>"
      ],
      "text/plain": [
       "              business_id                      name  \\\n",
       "0  Pns2l4eNsfO8kk83dixA6A  Abby Rappoport, LAC, CMQ   \n",
       "1  mpf3x-BjTdTEA3yCZrAYPw             The UPS Store   \n",
       "2  tUFrWirKiKi_TAnsVWINQQ                    Target   \n",
       "3  MTSW4McQd7CbVtyjqoe9mw        St Honore Pastries   \n",
       "4  mWMc6_wTdE0EUBKIGXDVfA  Perkiomen Valley Brewery   \n",
       "\n",
       "                           address           city state postal_code  \\\n",
       "0           1616 Chapala St, Ste 2  Santa Barbara    CA       93101   \n",
       "1  87 Grasso Plaza Shopping Center         Affton    MO       63123   \n",
       "2             5255 E Broadway Blvd         Tucson    AZ       85711   \n",
       "3                      935 Race St   Philadelphia    PA       19107   \n",
       "4                    101 Walnut St     Green Lane    PA       18054   \n",
       "\n",
       "    latitude   longitude  stars  review_count  is_open  \\\n",
       "0  34.426679 -119.711197    5.0             7        0   \n",
       "1  38.551126  -90.335695    3.0            15        1   \n",
       "2  32.223236 -110.880452    3.5            22        0   \n",
       "3  39.955505  -75.155564    4.0            80        1   \n",
       "4  40.338183  -75.471659    4.5            13        1   \n",
       "\n",
       "                                          attributes  \\\n",
       "0                      {'ByAppointmentOnly': 'True'}   \n",
       "1             {'BusinessAcceptsCreditCards': 'True'}   \n",
       "2  {'BikeParking': 'True', 'BusinessAcceptsCredit...   \n",
       "3  {'RestaurantsDelivery': 'False', 'OutdoorSeati...   \n",
       "4  {'BusinessAcceptsCreditCards': 'True', 'Wheelc...   \n",
       "\n",
       "                                          categories  \\\n",
       "0  Doctors, Traditional Chinese Medicine, Naturop...   \n",
       "1  Shipping Centers, Local Services, Notaries, Ma...   \n",
       "2  Department Stores, Shopping, Fashion, Home & G...   \n",
       "3  Restaurants, Food, Bubble Tea, Coffee & Tea, B...   \n",
       "4                          Brewpubs, Breweries, Food   \n",
       "\n",
       "                                               hours        city_state  \n",
       "0                                               None  Santa Barbara CA  \n",
       "1  {'Monday': '0:0-0:0', 'Tuesday': '8:0-18:30', ...         Affton MO  \n",
       "2  {'Monday': '8:0-22:0', 'Tuesday': '8:0-22:0', ...         Tucson AZ  \n",
       "3  {'Monday': '7:0-20:0', 'Tuesday': '7:0-20:0', ...   Philadelphia PA  \n",
       "4  {'Wednesday': '14:0-22:0', 'Thursday': '16:0-2...     Green Lane PA  "
      ]
     },
     "execution_count": 62,
     "metadata": {},
     "output_type": "execute_result"
    }
   ],
   "source": [
    "# combining city with its repective state\n",
    "biz_df['city_state'] = biz_df['city'] + ' ' + biz_df['state']\n",
    "biz_df.head(5)"
   ]
  },
  {
   "cell_type": "markdown",
   "metadata": {},
   "source": [
    "1. Top 10 cities with highest number of reviews"
   ]
  },
  {
   "cell_type": "code",
   "execution_count": 63,
   "metadata": {},
   "outputs": [
    {
     "data": {
      "image/png": "[encoded data removed]",
      "text/plain": [
       "<Figure size 864x504 with 1 Axes>"
      ]
     },
     "metadata": {
      "needs_background": "light"
     },
     "output_type": "display_data"
    }
   ],
   "source": [
    "import seaborn as sns\n",
    "plt.figure(figsize=(12, 7))\n",
    "# grouping cities in relation to number of reviews\n",
    "top_state = biz_df.groupby(\"city_state\")['review_count'].sum().reset_index().sort_values(by='review_count', ascending = False)\n",
    "# visualising our data\n",
    "state = sns.barplot(x='city_state', y= 'review_count', data=top_state[:10])\n",
    "state.set_xticklabels(state.get_xticklabels(), rotation=45)\n",
    "plt.title(\"Top 10 locations with highest review counts\")\n",
    "plt.show()"
   ]
  },
  {
   "cell_type": "markdown",
   "metadata": {},
   "source": [
    "from the plot above, Philadelphia PA has the largest bar with more than 800000 reviews, follwed by New Orleans LA with 600000 reviews while Boise ID has the lowest bar with less than 200000 reviews."
   ]
  },
  {
   "cell_type": "markdown",
   "metadata": {},
   "source": [
    "conslusion:A quick google search shows Philadelphia has a larger population compared to New Orleans, also New Orleans with Tampa FL upto Boise ID. This shows the higher the population a city has, the higher the aggregate number of reviews a city has."
   ]
  },
  {
   "cell_type": "markdown",
   "metadata": {},
   "source": [
    "Top 10 Businesses with highest number of stars"
   ]
  },
  {
   "cell_type": "code",
   "execution_count": 64,
   "metadata": {},
   "outputs": [
    {
     "name": "stderr",
     "output_type": "stream",
     "text": [
      "C:\\Users\\test\\AppData\\Local\\Temp\\ipykernel_6684\\754663043.py:4: UserWarning:\n",
      "\n",
      "FixedFormatter should only be used together with FixedLocator\n",
      "\n",
      "c:\\Users\\test\\AppData\\Local\\Programs\\Python\\Python39\\lib\\site-packages\\IPython\\core\\pylabtools.py:151: UserWarning:\n",
      "\n",
      "Glyph 128 (\\x80) missing from current font.\n",
      "\n",
      "c:\\Users\\test\\AppData\\Local\\Programs\\Python\\Python39\\lib\\site-packages\\IPython\\core\\pylabtools.py:151: UserWarning:\n",
      "\n",
      "Glyph 139 (\\x8b) missing from current font.\n",
      "\n"
     ]
    },
    {
     "data": {
      "image/png": "[encoded data removed]",
      "text/plain": [
       "<Figure size 1080x504 with 1 Axes>"
      ]
     },
     "metadata": {
      "needs_background": "light"
     },
     "output_type": "display_data"
    }
   ],
   "source": [
    "top_name = biz_df.groupby(\"name\")['stars'].mean().reset_index().sort_values(by='stars', ascending=False)\n",
    "plt.figure(figsize=(15, 7))\n",
    "name_df = sns.barplot(y=\"name\", x='stars', data=top_name[:10])\n",
    "name_df.set_xticklabels(name_df.get_xticklabels(), rotation = 45)\n",
    "plt.title(\"Businesses with high rating stars\")\n",
    "plt.show()"
   ]
  },
  {
   "cell_type": "markdown",
   "metadata": {},
   "source": [
    "From above plot the bars have the same size thus there is no diffrence in ratings of the 10 top businesses."
   ]
  },
  {
   "cell_type": "markdown",
   "metadata": {},
   "source": [
    "conslusion: These buinesses have ratings stars that are closely related such that there is no significant difference in mean rating of any any of these businesses."
   ]
  },
  {
   "cell_type": "markdown",
   "metadata": {},
   "source": [
    "Top 10 Businesses with high reviews in our dataset"
   ]
  },
  {
   "cell_type": "code",
   "execution_count": 65,
   "metadata": {},
   "outputs": [
    {
     "data": {
      "text/plain": [
       "Text(0.5, 1.0, 'Top 10 businesses which had high reviews')"
      ]
     },
     "execution_count": 65,
     "metadata": {},
     "output_type": "execute_result"
    },
    {
     "data": {
      "image/png": "[encoded data removed]",
      "text/plain": [
       "<Figure size 432x288 with 1 Axes>"
      ]
     },
     "metadata": {
      "needs_background": "light"
     },
     "output_type": "display_data"
    }
   ],
   "source": [
    "top_businesses = biz_df.groupby(\"name\")['review_count'].sum().reset_index().sort_values(by='review_count', ascending=False)\n",
    "sns.barplot(x='review_count', y='name', data=top_businesses[:10])\n",
    "plt.title(\"Top 10 businesses which had high reviews\")"
   ]
  },
  {
   "cell_type": "markdown",
   "metadata": {},
   "source": [
    "from above plot Starbucks has the largest bar with 20000 review counts, follwed by McDonald's with 17500 review counts while Panera Bread has the smallest bar with less than 7500 review counts."
   ]
  },
  {
   "cell_type": "markdown",
   "metadata": {},
   "source": [
    "conslusion: Dominant firms like Starbucks, mcDonald's have high review counts since they have a huge consumer base while small firms like Panera Bread have fewer review counts as they have fewer markets."
   ]
  },
  {
   "cell_type": "markdown",
   "metadata": {},
   "source": [
    "Brewery Recommendation"
   ]
  },
  {
   "cell_type": "markdown",
   "metadata": {},
   "source": [
    "We are going to make breweries recommendation based on the locations where one is. In order to this, we will use longitudes and latitudes to make recommendations."
   ]
  },
  {
   "cell_type": "code",
   "execution_count": 66,
   "metadata": {},
   "outputs": [
    {
     "data": {
      "text/html": [
       "<div>\n",
       "<style scoped>\n",
       "    .dataframe tbody tr th:only-of-type {\n",
       "        vertical-align: middle;\n",
       "    }\n",
       "\n",
       "    .dataframe tbody tr th {\n",
       "        vertical-align: top;\n",
       "    }\n",
       "\n",
       "    .dataframe thead th {\n",
       "        text-align: right;\n",
       "    }\n",
       "</style>\n",
       "<table border=\"1\" class=\"dataframe\">\n",
       "  <thead>\n",
       "    <tr style=\"text-align: right;\">\n",
       "      <th></th>\n",
       "      <th>business_id</th>\n",
       "      <th>name</th>\n",
       "      <th>address</th>\n",
       "      <th>city</th>\n",
       "      <th>state</th>\n",
       "      <th>postal_code</th>\n",
       "      <th>latitude</th>\n",
       "      <th>longitude</th>\n",
       "      <th>stars</th>\n",
       "      <th>review_count</th>\n",
       "      <th>is_open</th>\n",
       "      <th>attributes</th>\n",
       "      <th>categories</th>\n",
       "      <th>hours</th>\n",
       "      <th>city_state</th>\n",
       "      <th>Breweries</th>\n",
       "    </tr>\n",
       "  </thead>\n",
       "  <tbody>\n",
       "    <tr>\n",
       "      <th>0</th>\n",
       "      <td>Pns2l4eNsfO8kk83dixA6A</td>\n",
       "      <td>Abby Rappoport, LAC, CMQ</td>\n",
       "      <td>1616 Chapala St, Ste 2</td>\n",
       "      <td>Santa Barbara</td>\n",
       "      <td>CA</td>\n",
       "      <td>93101</td>\n",
       "      <td>34.426679</td>\n",
       "      <td>-119.711197</td>\n",
       "      <td>5.0</td>\n",
       "      <td>7</td>\n",
       "      <td>0</td>\n",
       "      <td>{'ByAppointmentOnly': 'True'}</td>\n",
       "      <td>Doctors, Traditional Chinese Medicine, Naturop...</td>\n",
       "      <td>None</td>\n",
       "      <td>Santa Barbara CA</td>\n",
       "      <td>False</td>\n",
       "    </tr>\n",
       "    <tr>\n",
       "      <th>1</th>\n",
       "      <td>mpf3x-BjTdTEA3yCZrAYPw</td>\n",
       "      <td>The UPS Store</td>\n",
       "      <td>87 Grasso Plaza Shopping Center</td>\n",
       "      <td>Affton</td>\n",
       "      <td>MO</td>\n",
       "      <td>63123</td>\n",
       "      <td>38.551126</td>\n",
       "      <td>-90.335695</td>\n",
       "      <td>3.0</td>\n",
       "      <td>15</td>\n",
       "      <td>1</td>\n",
       "      <td>{'BusinessAcceptsCreditCards': 'True'}</td>\n",
       "      <td>Shipping Centers, Local Services, Notaries, Ma...</td>\n",
       "      <td>{'Monday': '0:0-0:0', 'Tuesday': '8:0-18:30', ...</td>\n",
       "      <td>Affton MO</td>\n",
       "      <td>False</td>\n",
       "    </tr>\n",
       "    <tr>\n",
       "      <th>2</th>\n",
       "      <td>tUFrWirKiKi_TAnsVWINQQ</td>\n",
       "      <td>Target</td>\n",
       "      <td>5255 E Broadway Blvd</td>\n",
       "      <td>Tucson</td>\n",
       "      <td>AZ</td>\n",
       "      <td>85711</td>\n",
       "      <td>32.223236</td>\n",
       "      <td>-110.880452</td>\n",
       "      <td>3.5</td>\n",
       "      <td>22</td>\n",
       "      <td>0</td>\n",
       "      <td>{'BikeParking': 'True', 'BusinessAcceptsCredit...</td>\n",
       "      <td>Department Stores, Shopping, Fashion, Home &amp; G...</td>\n",
       "      <td>{'Monday': '8:0-22:0', 'Tuesday': '8:0-22:0', ...</td>\n",
       "      <td>Tucson AZ</td>\n",
       "      <td>False</td>\n",
       "    </tr>\n",
       "    <tr>\n",
       "      <th>3</th>\n",
       "      <td>MTSW4McQd7CbVtyjqoe9mw</td>\n",
       "      <td>St Honore Pastries</td>\n",
       "      <td>935 Race St</td>\n",
       "      <td>Philadelphia</td>\n",
       "      <td>PA</td>\n",
       "      <td>19107</td>\n",
       "      <td>39.955505</td>\n",
       "      <td>-75.155564</td>\n",
       "      <td>4.0</td>\n",
       "      <td>80</td>\n",
       "      <td>1</td>\n",
       "      <td>{'RestaurantsDelivery': 'False', 'OutdoorSeati...</td>\n",
       "      <td>Restaurants, Food, Bubble Tea, Coffee &amp; Tea, B...</td>\n",
       "      <td>{'Monday': '7:0-20:0', 'Tuesday': '7:0-20:0', ...</td>\n",
       "      <td>Philadelphia PA</td>\n",
       "      <td>False</td>\n",
       "    </tr>\n",
       "    <tr>\n",
       "      <th>4</th>\n",
       "      <td>mWMc6_wTdE0EUBKIGXDVfA</td>\n",
       "      <td>Perkiomen Valley Brewery</td>\n",
       "      <td>101 Walnut St</td>\n",
       "      <td>Green Lane</td>\n",
       "      <td>PA</td>\n",
       "      <td>18054</td>\n",
       "      <td>40.338183</td>\n",
       "      <td>-75.471659</td>\n",
       "      <td>4.5</td>\n",
       "      <td>13</td>\n",
       "      <td>1</td>\n",
       "      <td>{'BusinessAcceptsCreditCards': 'True', 'Wheelc...</td>\n",
       "      <td>Brewpubs, Breweries, Food</td>\n",
       "      <td>{'Wednesday': '14:0-22:0', 'Thursday': '16:0-2...</td>\n",
       "      <td>Green Lane PA</td>\n",
       "      <td>True</td>\n",
       "    </tr>\n",
       "  </tbody>\n",
       "</table>\n",
       "</div>"
      ],
      "text/plain": [
       "              business_id                      name  \\\n",
       "0  Pns2l4eNsfO8kk83dixA6A  Abby Rappoport, LAC, CMQ   \n",
       "1  mpf3x-BjTdTEA3yCZrAYPw             The UPS Store   \n",
       "2  tUFrWirKiKi_TAnsVWINQQ                    Target   \n",
       "3  MTSW4McQd7CbVtyjqoe9mw        St Honore Pastries   \n",
       "4  mWMc6_wTdE0EUBKIGXDVfA  Perkiomen Valley Brewery   \n",
       "\n",
       "                           address           city state postal_code  \\\n",
       "0           1616 Chapala St, Ste 2  Santa Barbara    CA       93101   \n",
       "1  87 Grasso Plaza Shopping Center         Affton    MO       63123   \n",
       "2             5255 E Broadway Blvd         Tucson    AZ       85711   \n",
       "3                      935 Race St   Philadelphia    PA       19107   \n",
       "4                    101 Walnut St     Green Lane    PA       18054   \n",
       "\n",
       "    latitude   longitude  stars  review_count  is_open  \\\n",
       "0  34.426679 -119.711197    5.0             7        0   \n",
       "1  38.551126  -90.335695    3.0            15        1   \n",
       "2  32.223236 -110.880452    3.5            22        0   \n",
       "3  39.955505  -75.155564    4.0            80        1   \n",
       "4  40.338183  -75.471659    4.5            13        1   \n",
       "\n",
       "                                          attributes  \\\n",
       "0                      {'ByAppointmentOnly': 'True'}   \n",
       "1             {'BusinessAcceptsCreditCards': 'True'}   \n",
       "2  {'BikeParking': 'True', 'BusinessAcceptsCredit...   \n",
       "3  {'RestaurantsDelivery': 'False', 'OutdoorSeati...   \n",
       "4  {'BusinessAcceptsCreditCards': 'True', 'Wheelc...   \n",
       "\n",
       "                                          categories  \\\n",
       "0  Doctors, Traditional Chinese Medicine, Naturop...   \n",
       "1  Shipping Centers, Local Services, Notaries, Ma...   \n",
       "2  Department Stores, Shopping, Fashion, Home & G...   \n",
       "3  Restaurants, Food, Bubble Tea, Coffee & Tea, B...   \n",
       "4                          Brewpubs, Breweries, Food   \n",
       "\n",
       "                                               hours        city_state  \\\n",
       "0                                               None  Santa Barbara CA   \n",
       "1  {'Monday': '0:0-0:0', 'Tuesday': '8:0-18:30', ...         Affton MO   \n",
       "2  {'Monday': '8:0-22:0', 'Tuesday': '8:0-22:0', ...         Tucson AZ   \n",
       "3  {'Monday': '7:0-20:0', 'Tuesday': '7:0-20:0', ...   Philadelphia PA   \n",
       "4  {'Wednesday': '14:0-22:0', 'Thursday': '16:0-2...     Green Lane PA   \n",
       "\n",
       "  Breweries  \n",
       "0     False  \n",
       "1     False  \n",
       "2     False  \n",
       "3     False  \n",
       "4      True  "
      ]
     },
     "execution_count": 66,
     "metadata": {},
     "output_type": "execute_result"
    }
   ],
   "source": [
    "# creating a dataset with only breweries as it core categorical data\n",
    "biz_df['Breweries'] = biz_df['categories'].str.contains('Breweries')\n",
    "biz_df.head()"
   ]
  },
  {
   "cell_type": "code",
   "execution_count": 67,
   "metadata": {},
   "outputs": [],
   "source": [
    "df_breweries = biz_df.loc[biz_df.Breweries == True]\n"
   ]
  },
  {
   "cell_type": "code",
   "execution_count": 68,
   "metadata": {},
   "outputs": [
    {
     "data": {
      "text/plain": [
       "business_id      object\n",
       "name             object\n",
       "address          object\n",
       "city             object\n",
       "state            object\n",
       "postal_code      object\n",
       "latitude        float64\n",
       "longitude       float64\n",
       "stars           float64\n",
       "review_count      int64\n",
       "is_open           int64\n",
       "attributes       object\n",
       "categories       object\n",
       "hours            object\n",
       "city_state       object\n",
       "Breweries        object\n",
       "dtype: object"
      ]
     },
     "execution_count": 68,
     "metadata": {},
     "output_type": "execute_result"
    }
   ],
   "source": [
    "biz_df.dtypes"
   ]
  },
  {
   "cell_type": "code",
   "execution_count": 69,
   "metadata": {},
   "outputs": [
    {
     "data": {
      "text/plain": [
       "(863, 16)"
      ]
     },
     "execution_count": 69,
     "metadata": {},
     "output_type": "execute_result"
    }
   ],
   "source": [
    "# shape of our data\n",
    "df_breweries.shape"
   ]
  },
  {
   "cell_type": "markdown",
   "metadata": {},
   "source": [
    "Our breweries dataset has 863 rows and 16 columns"
   ]
  },
  {
   "cell_type": "code",
   "execution_count": 70,
   "metadata": {},
   "outputs": [
    {
     "data": {
      "text/html": [
       "<div>\n",
       "<style scoped>\n",
       "    .dataframe tbody tr th:only-of-type {\n",
       "        vertical-align: middle;\n",
       "    }\n",
       "\n",
       "    .dataframe tbody tr th {\n",
       "        vertical-align: top;\n",
       "    }\n",
       "\n",
       "    .dataframe thead th {\n",
       "        text-align: right;\n",
       "    }\n",
       "</style>\n",
       "<table border=\"1\" class=\"dataframe\">\n",
       "  <thead>\n",
       "    <tr style=\"text-align: right;\">\n",
       "      <th></th>\n",
       "      <th>business_id</th>\n",
       "      <th>name</th>\n",
       "      <th>address</th>\n",
       "      <th>city</th>\n",
       "      <th>state</th>\n",
       "      <th>postal_code</th>\n",
       "      <th>latitude</th>\n",
       "      <th>longitude</th>\n",
       "      <th>stars</th>\n",
       "      <th>review_count</th>\n",
       "      <th>is_open</th>\n",
       "      <th>attributes</th>\n",
       "      <th>categories</th>\n",
       "      <th>hours</th>\n",
       "      <th>city_state</th>\n",
       "      <th>Breweries</th>\n",
       "    </tr>\n",
       "  </thead>\n",
       "  <tbody>\n",
       "    <tr>\n",
       "      <th>117197</th>\n",
       "      <td>L5LLN0RafiV1Z9cddzvuCw</td>\n",
       "      <td>Ulele</td>\n",
       "      <td>1810 N Highland Ave</td>\n",
       "      <td>Tampa</td>\n",
       "      <td>FL</td>\n",
       "      <td>33602</td>\n",
       "      <td>27.960161</td>\n",
       "      <td>-82.462530</td>\n",
       "      <td>4.0</td>\n",
       "      <td>3064</td>\n",
       "      <td>1</td>\n",
       "      <td>{'BusinessAcceptsCreditCards': 'True', 'Outdoo...</td>\n",
       "      <td>Breweries, Food, American (New), Beer, Wine &amp; ...</td>\n",
       "      <td>{'Monday': '0:0-0:0', 'Tuesday': '11:0-22:0', ...</td>\n",
       "      <td>Tampa FL</td>\n",
       "      <td>True</td>\n",
       "    </tr>\n",
       "    <tr>\n",
       "      <th>3913</th>\n",
       "      <td>TDKBPcViJQDMrdUm6a9XZA</td>\n",
       "      <td>The Depot Craft Brewery Distillery</td>\n",
       "      <td>325 E 4th St</td>\n",
       "      <td>Reno</td>\n",
       "      <td>NV</td>\n",
       "      <td>89512</td>\n",
       "      <td>39.531107</td>\n",
       "      <td>-119.809618</td>\n",
       "      <td>4.0</td>\n",
       "      <td>1245</td>\n",
       "      <td>1</td>\n",
       "      <td>{'Smoking': 'u'no'', 'Alcohol': 'u'full_bar'',...</td>\n",
       "      <td>Food, Restaurants, Brasseries, Breweries, Dist...</td>\n",
       "      <td>{'Monday': '0:0-0:0', 'Tuesday': '15:0-21:0', ...</td>\n",
       "      <td>Reno NV</td>\n",
       "      <td>True</td>\n",
       "    </tr>\n",
       "    <tr>\n",
       "      <th>142860</th>\n",
       "      <td>4gszBjoouIzfi1ltSQZ2BQ</td>\n",
       "      <td>Tampa Bay Brewing Company</td>\n",
       "      <td>1600 E 8th Ave</td>\n",
       "      <td>Tampa</td>\n",
       "      <td>FL</td>\n",
       "      <td>33605</td>\n",
       "      <td>27.961543</td>\n",
       "      <td>-82.441147</td>\n",
       "      <td>4.0</td>\n",
       "      <td>1086</td>\n",
       "      <td>1</td>\n",
       "      <td>{'RestaurantsTakeOut': 'True', 'RestaurantsAtt...</td>\n",
       "      <td>Restaurants, Food, Breweries, American (Tradit...</td>\n",
       "      <td>{'Monday': '11:0-22:0', 'Tuesday': '11:0-22:0'...</td>\n",
       "      <td>Tampa FL</td>\n",
       "      <td>True</td>\n",
       "    </tr>\n",
       "    <tr>\n",
       "      <th>36430</th>\n",
       "      <td>j8feOxyJqlIJWOi8su2qzw</td>\n",
       "      <td>Serial Grillers</td>\n",
       "      <td>5975 E Speedway Blvd</td>\n",
       "      <td>Tucson</td>\n",
       "      <td>AZ</td>\n",
       "      <td>85712</td>\n",
       "      <td>32.236675</td>\n",
       "      <td>-110.865028</td>\n",
       "      <td>4.5</td>\n",
       "      <td>986</td>\n",
       "      <td>1</td>\n",
       "      <td>{'NoiseLevel': 'u'average'', 'WiFi': 'u'no'', ...</td>\n",
       "      <td>Cheesesteaks, Food, Salad, Restaurants, Sandwi...</td>\n",
       "      <td>{'Monday': '11:0-20:0', 'Tuesday': '11:0-20:0'...</td>\n",
       "      <td>Tucson AZ</td>\n",
       "      <td>True</td>\n",
       "    </tr>\n",
       "    <tr>\n",
       "      <th>49799</th>\n",
       "      <td>ECOUuwE5H1HHE8xBfNAjFg</td>\n",
       "      <td>Crescent City Brewhouse</td>\n",
       "      <td>527 Decatur St</td>\n",
       "      <td>New Orleans</td>\n",
       "      <td>LA</td>\n",
       "      <td>70130</td>\n",
       "      <td>29.955685</td>\n",
       "      <td>-90.063888</td>\n",
       "      <td>3.5</td>\n",
       "      <td>929</td>\n",
       "      <td>1</td>\n",
       "      <td>{'RestaurantsDelivery': 'False', 'OutdoorSeati...</td>\n",
       "      <td>American (Traditional), Restaurants, Food, Nig...</td>\n",
       "      <td>{'Monday': '12:0-20:0', 'Thursday': '12:0-20:0...</td>\n",
       "      <td>New Orleans LA</td>\n",
       "      <td>True</td>\n",
       "    </tr>\n",
       "  </tbody>\n",
       "</table>\n",
       "</div>"
      ],
      "text/plain": [
       "                   business_id                                name  \\\n",
       "117197  L5LLN0RafiV1Z9cddzvuCw                               Ulele   \n",
       "3913    TDKBPcViJQDMrdUm6a9XZA  The Depot Craft Brewery Distillery   \n",
       "142860  4gszBjoouIzfi1ltSQZ2BQ           Tampa Bay Brewing Company   \n",
       "36430   j8feOxyJqlIJWOi8su2qzw                     Serial Grillers   \n",
       "49799   ECOUuwE5H1HHE8xBfNAjFg             Crescent City Brewhouse   \n",
       "\n",
       "                     address         city state postal_code   latitude  \\\n",
       "117197   1810 N Highland Ave        Tampa    FL       33602  27.960161   \n",
       "3913            325 E 4th St         Reno    NV       89512  39.531107   \n",
       "142860        1600 E 8th Ave        Tampa    FL       33605  27.961543   \n",
       "36430   5975 E Speedway Blvd       Tucson    AZ       85712  32.236675   \n",
       "49799         527 Decatur St  New Orleans    LA       70130  29.955685   \n",
       "\n",
       "         longitude  stars  review_count  is_open  \\\n",
       "117197  -82.462530    4.0          3064        1   \n",
       "3913   -119.809618    4.0          1245        1   \n",
       "142860  -82.441147    4.0          1086        1   \n",
       "36430  -110.865028    4.5           986        1   \n",
       "49799   -90.063888    3.5           929        1   \n",
       "\n",
       "                                               attributes  \\\n",
       "117197  {'BusinessAcceptsCreditCards': 'True', 'Outdoo...   \n",
       "3913    {'Smoking': 'u'no'', 'Alcohol': 'u'full_bar'',...   \n",
       "142860  {'RestaurantsTakeOut': 'True', 'RestaurantsAtt...   \n",
       "36430   {'NoiseLevel': 'u'average'', 'WiFi': 'u'no'', ...   \n",
       "49799   {'RestaurantsDelivery': 'False', 'OutdoorSeati...   \n",
       "\n",
       "                                               categories  \\\n",
       "117197  Breweries, Food, American (New), Beer, Wine & ...   \n",
       "3913    Food, Restaurants, Brasseries, Breweries, Dist...   \n",
       "142860  Restaurants, Food, Breweries, American (Tradit...   \n",
       "36430   Cheesesteaks, Food, Salad, Restaurants, Sandwi...   \n",
       "49799   American (Traditional), Restaurants, Food, Nig...   \n",
       "\n",
       "                                                    hours      city_state  \\\n",
       "117197  {'Monday': '0:0-0:0', 'Tuesday': '11:0-22:0', ...        Tampa FL   \n",
       "3913    {'Monday': '0:0-0:0', 'Tuesday': '15:0-21:0', ...         Reno NV   \n",
       "142860  {'Monday': '11:0-22:0', 'Tuesday': '11:0-22:0'...        Tampa FL   \n",
       "36430   {'Monday': '11:0-20:0', 'Tuesday': '11:0-20:0'...       Tucson AZ   \n",
       "49799   {'Monday': '12:0-20:0', 'Thursday': '12:0-20:0...  New Orleans LA   \n",
       "\n",
       "       Breweries  \n",
       "117197      True  \n",
       "3913        True  \n",
       "142860      True  \n",
       "36430       True  \n",
       "49799       True  "
      ]
     },
     "execution_count": 70,
     "metadata": {},
     "output_type": "execute_result"
    }
   ],
   "source": [
    "# soring breweries according to the ones with highest number of reviews\n",
    "top_breweries = df_breweries.sort_values(by=['review_count', 'stars'], ascending=False)[:20]\n",
    "top_breweries.head()"
   ]
  },
  {
   "cell_type": "code",
   "execution_count": 71,
   "metadata": {},
   "outputs": [
    {
     "data": {
      "text/plain": [
       "Text(0.5, 1.0, 'Distribution of beweries in relation to stars')"
      ]
     },
     "execution_count": 71,
     "metadata": {},
     "output_type": "execute_result"
    },
    {
     "data": {
      "image/png": "[encoded data removed]",
      "text/plain": [
       "<Figure size 720x504 with 1 Axes>"
      ]
     },
     "metadata": {
      "needs_background": "light"
     },
     "output_type": "display_data"
    }
   ],
   "source": [
    "plt.figure(figsize=(10, 7))\n",
    "# plotting a barplot of stars in relation to breweries names\n",
    "sns.barplot(x=top_breweries['stars'],y=top_breweries['name'])\n",
    "plt.title(\"Distribution of beweries in relation to stars\")"
   ]
  },
  {
   "cell_type": "markdown",
   "metadata": {},
   "source": [
    "From the figure above, Only two breweries had stars averaging more than 4 stars namely Serial Grillers and Cigar City brewing while The low rated breweries had an average of 3 stars of which are only two, Bj's Retaurant & Brewhouse and Rock Bottom Restaurant & brewery. Most of the breweries had an average of approximately 3 to 4 stars."
   ]
  },
  {
   "cell_type": "code",
   "execution_count": 72,
   "metadata": {},
   "outputs": [],
   "source": [
    "import plotly\n",
    "import plotly.offline as py \n",
    "import plotly.graph_objs as go \n",
    "import plotly.express as px"
   ]
  },
  {
   "cell_type": "code",
   "execution_count": 73,
   "metadata": {},
   "outputs": [
    {
     "data": {
      "application/vnd.plotly.v1+json": {
       "config": {
        "plotlyServerURL": "https://plot.ly"
       },
       "data": [
        {
         "hovertemplate": "review_count=%{marker.size}<br>latitude=%{lat}<br>longitude=%{lon}<br>stars=%{marker.color}<extra></extra>",
         "lat": [
          40.3381827,
          39.9625821,
          39.8755319,
          38.6001971,
          39.5295616355,
          39.7664200969,
          40.035282,
          32.2014539061,
          27.7854888011,
          29.9170045,
          43.61337,
          40.1298141,
          34.4211189,
          34.4161821,
          39.4562814,
          40.2763769,
          28.0942004067,
          38.61496,
          38.6254323,
          35.933616,
          32.214412,
          38.700028,
          39.9119165358,
          35.92817,
          32.4275740361,
          34.4157949941,
          39.9569253992,
          40.2279048915,
          38.545541,
          39.730792,
          39.7768783,
          53.5201345852,
          39.8693211,
          29.9202527,
          39.5311073,
          39.9518148443,
          40.247596,
          39.971541,
          53.637005268,
          39.8704638,
          39.952126,
          36.1578883,
          39.7659626275,
          39.948902,
          36.1606228,
          28.039776,
          36.1862404613,
          40.2636267,
          40.0066759391,
          38.6336134157,
          28.1862569,
          39.9524541763,
          36.1504112236,
          39.7686835,
          34.4145556,
          27.9814984,
          28.0378445013,
          29.9566647,
          27.7663058,
          39.4735945005,
          27.894733938,
          39.530593,
          39.782987062,
          28.146028,
          39.7706478,
          40.2437403,
          32.1774317,
          34.4167478,
          39.952616,
          39.7713425,
          39.851736,
          43.6204010336,
          39.5267029,
          39.760517,
          40.1820951,
          39.897999,
          53.4517809,
          39.795593,
          39.6633471,
          29.9483769,
          27.9873996102,
          40.220294,
          53.5612036,
          32.3815966,
          38.6348147,
          39.9736435923,
          39.9667,
          40.179341,
          29.929775227,
          32.1849889,
          35.945213,
          39.9744581,
          40.3110241,
          34.4209477132,
          27.9588456788,
          28.0488849,
          39.9264742,
          27.744608,
          39.9628296,
          36.1437292075,
          40.3971,
          39.8735797809,
          39.7753059941,
          28.1927167,
          29.9412806,
          38.6130896,
          28.005142,
          39.9775302,
          32.2580614814,
          43.6333991311,
          28.145966,
          38.531804,
          39.5312516,
          43.6116474,
          39.94761,
          40.0945067,
          53.498558,
          38.6213717252,
          29.960564,
          40.1413641125,
          40.1089421227,
          39.730451,
          40.0885697,
          28.178063,
          27.9825580301,
          27.8411430791,
          38.6170166,
          32.2186822,
          40.1853487896,
          36.1526438,
          27.7718141,
          38.7381598,
          40.0852019,
          29.9563144,
          27.9825952,
          28.1490285,
          53.51263,
          39.6832338,
          39.8265832,
          29.948039,
          36.153530244,
          39.9772706548,
          39.814839,
          36.1362316845,
          43.6545728,
          27.8953002056,
          39.82533048,
          39.9609706195,
          38.736352,
          27.955275,
          38.7147194241,
          40.2339045,
          39.9645049,
          39.7662077768,
          28.0655455,
          39.6140641,
          32.2218876,
          27.960763,
          35.9685695231,
          28.0110141,
          38.5135155286,
          40.0997996,
          39.9587612,
          27.9161590111,
          27.7704416,
          39.6742771,
          39.8814486,
          39.4054981322,
          38.598477,
          39.9551108358,
          32.1853786782,
          32.2771655806,
          39.9146201,
          38.7791755,
          43.6082096355,
          40.0446083,
          28.0139804694,
          40.0561939,
          27.9512638236,
          40.0750694,
          39.9242151883,
          39.960528,
          40.0427547,
          43.619767,
          32.1846376,
          43.6460438159,
          39.9092493994,
          27.7718397,
          38.6300479842,
          39.759889,
          40.1340672,
          40.1213203,
          36.2977196,
          39.8493601,
          40.0802597,
          53.4548797084,
          38.6329915093,
          40.130919,
          39.8969760778,
          36.2051935,
          39.8398071904,
          53.4290164,
          27.9548779,
          27.838758,
          28.1894162291,
          32.249416,
          38.6120199,
          40.043974,
          43.654628,
          40.0700084807,
          38.6160491,
          39.6138758,
          39.7512174,
          29.940038,
          28.1451320857,
          40.02981848,
          39.8424600423,
          39.633992,
          43.6209601,
          53.614606,
          27.9416001192,
          36.1696538,
          32.236675,
          40.441594,
          39.9561946841,
          36.1523805,
          43.630023,
          38.5931036,
          27.771794,
          43.6112430971,
          40.0253102,
          32.2236269,
          27.787383,
          34.42949848,
          28.0224327,
          40.086094,
          38.6348582,
          28.0614149846,
          28.2500242348,
          39.531055,
          39.9910316491,
          38.6379784,
          43.5777234,
          27.8222405,
          40.1060945,
          40.1266014,
          39.8701062594,
          40.162025,
          27.9236518,
          39.8705204,
          40.148341,
          40.1359706277,
          27.9961256,
          39.8447907,
          39.767299,
          43.6451516,
          39.8946877107,
          39.950221,
          39.948506,
          34.4129009,
          39.8088723651,
          40.2565223549,
          32.3323120784,
          40.1942293,
          27.9905009,
          28.1546542,
          27.8191754,
          29.9825653407,
          39.8991924,
          38.6237065,
          36.165071,
          38.531399,
          38.5924883,
          38.6487208,
          39.7357639,
          39.9846878,
          39.8565206,
          36.1510743,
          40.147441,
          27.887546,
          39.9175793684,
          38.6249745716,
          53.6347855,
          29.9219677,
          36.142608,
          39.7442438413,
          29.9607242,
          40.1078347,
          40.2423665,
          39.9716783569,
          53.5438756,
          53.532142,
          29.9626495,
          39.6742771,
          39.9568924,
          38.9216711192,
          39.8426549,
          39.5073813771,
          29.955685,
          39.8284077123,
          27.77168,
          27.771651,
          29.9510658,
          27.7562988,
          39.9757762264,
          40.059176,
          27.986666,
          40.0349311,
          39.9506875,
          39.534924,
          32.2464508,
          39.7824059,
          39.697085966,
          28.0960115,
          35.9556475516,
          40.3457562693,
          53.6304403084,
          39.92633,
          27.9350782111,
          32.3306846312,
          34.420334,
          53.5437372,
          32.283428,
          39.9515764639,
          39.9484739,
          40.0235057,
          40.0536485528,
          28.1939950985,
          39.7814844,
          40.1341234,
          38.554561,
          32.341565,
          53.547993,
          29.9170045,
          53.54212,
          39.865437,
          40.2386259,
          38.3356324515,
          38.774174,
          39.9116912,
          27.7399198,
          39.7496404,
          38.7047034,
          39.9289360744,
          39.9391831963,
          39.76496,
          39.7898879,
          39.960817,
          43.626926,
          39.9126393,
          34.4167478,
          27.894191,
          39.6894260691,
          27.9589183541,
          39.7067386,
          27.956936,
          36.1519283,
          39.7714404911,
          29.948397,
          28.0164788643,
          40.1568009,
          36.16175,
          36.2729228472,
          27.770836,
          28.234426,
          39.5140788,
          40.1051193,
          32.2259066,
          39.9269698,
          39.8921552049,
          27.9168771,
          53.3560856149,
          27.956936,
          39.909977,
          36.275565,
          28.2800982253,
          39.7401014717,
          27.920991,
          43.6135259,
          36.1795278082,
          39.8032315442,
          43.6086789,
          39.7628778,
          40.3642728,
          34.422903,
          39.769075,
          27.847786,
          32.2090595,
          34.4141317,
          39.9590722536,
          39.79051,
          39.9044484999,
          29.9599592,
          39.8536587888,
          28.1849492,
          34.4187305,
          39.7727796,
          40.0253102242,
          39.9262114,
          53.43589,
          28.1874743295,
          38.5791702888,
          39.959851,
          39.860276,
          39.5204179485,
          38.562829,
          39.9085041,
          39.75116,
          36.2041047,
          40.0240264,
          38.623996,
          39.5271354558,
          29.9200434,
          43.6118143,
          28.0982306,
          39.5058565,
          39.9011830887,
          39.9580802,
          40.148427,
          39.7571288094,
          39.9013661,
          39.7129360699,
          27.982602,
          39.7512293,
          27.7863139549,
          40.3654270954,
          39.5165222012,
          27.9817652,
          39.764179,
          43.6424422,
          39.7353494105,
          43.645471,
          40.074276,
          28.009788,
          43.6179079,
          39.9846697,
          38.6713918,
          28.0781341313,
          38.630873,
          28.014458,
          36.1743697975,
          27.9274895,
          39.8940034,
          40.0945825,
          28.2064814,
          39.760286,
          39.900798,
          36.176528,
          39.9256471573,
          32.1202584772,
          32.2190628052,
          38.5927045,
          39.9417090706,
          27.887477,
          40.3685291,
          28.0133938,
          28.0161401499,
          27.7699563,
          39.839760768,
          53.5470166,
          39.8526654171,
          27.867012,
          53.54431,
          34.422925,
          39.9122883,
          27.9614269,
          38.6212170703,
          39.9603099077,
          27.9604929,
          40.2307865271,
          38.8143022827,
          39.9775836,
          27.9409839,
          43.6451761,
          40.3320701,
          39.8646455,
          43.6174032454,
          32.2194879,
          28.0376634896,
          27.770054,
          29.9752441466,
          28.4686599,
          39.7977066721,
          53.423741,
          39.935604,
          40.1343728096,
          28.1464122,
          39.7636743,
          36.2033097,
          27.8015387,
          43.7736865,
          39.7772342,
          39.975801,
          39.8444365,
          39.632688,
          29.9865508,
          38.5984666,
          36.3811302185,
          40.10131,
          38.4611781,
          39.9557476,
          35.8949256472,
          40.3651772211,
          39.536071,
          39.8467373,
          40.324379,
          40.1192525,
          34.4174016,
          39.732007,
          34.421122,
          34.4120313,
          40.0136369648,
          38.8892587928,
          39.7818058292,
          43.6320897,
          43.62301591,
          38.625777948,
          39.9166192,
          39.8755453,
          39.9763680823,
          40.0696387843,
          38.621365332,
          39.9852488,
          40.1334835,
          39.9607952311,
          28.2499650611,
          39.894533,
          39.766304,
          27.9167293679,
          28.0736050058,
          40.0229869,
          36.1663346,
          40.0736955,
          32.2267024,
          40.128968,
          39.6780095,
          36.1491273,
          39.7148812,
          39.95536,
          28.0657873955,
          40.2799108111,
          40.1542749,
          39.9583399,
          39.7215431,
          27.9863175,
          43.6164712659,
          39.9724958,
          27.95502,
          27.8818613345,
          27.958601,
          28.0768995,
          28.0638738,
          39.5315968,
          32.221328,
          39.9852575,
          53.4906191808,
          38.5989847867,
          38.3350431,
          40.0476220049,
          38.6335485,
          39.8493601,
          39.7133641,
          39.9671254924,
          53.517236262,
          28.0154905,
          43.6114868,
          27.8860455,
          40.0399294,
          39.4762117,
          39.9477306374,
          43.5681,
          43.625593,
          36.157153,
          43.6324386348,
          32.1216770942,
          39.849343,
          28.1816972,
          36.0459308,
          43.617830059,
          27.7446333,
          39.7708278746,
          39.5140788,
          27.769011,
          39.5156575,
          27.9236814414,
          36.1213368,
          28.001226,
          38.7989712,
          36.170064,
          39.4213028,
          36.1514044,
          27.874716,
          27.844811,
          27.8156609,
          36.1744652226,
          39.9261812341,
          39.862061,
          39.5255899139,
          40.130997625,
          27.810902,
          39.9868092,
          53.5514635,
          43.6566658,
          36.1520086,
          39.531036,
          38.5447884,
          39.9652138,
          27.7704297,
          40.0487466,
          39.7575299737,
          39.7832099,
          40.3105021,
          39.769917,
          27.7713502,
          36.2439146,
          39.7334079298,
          38.635211,
          38.5825304,
          38.6760983,
          40.0780419,
          39.766086,
          43.5907168424,
          40.1804513,
          39.9625821369,
          39.9471691258,
          40.1959631,
          27.9611699,
          43.6044424,
          32.2490610766,
          43.5919229918,
          39.4835647,
          28.0139878,
          28.1644555,
          39.6153269081,
          43.633533,
          40.0629418275,
          39.7688652311,
          39.8695854,
          40.0539009,
          40.1328404383,
          38.5379853,
          39.962137,
          27.9426378,
          39.7648517,
          39.5138908816,
          28.0099900989,
          38.591452,
          32.2506734,
          36.1945332874,
          27.782702,
          36.1931966442,
          27.9667559,
          32.224231,
          39.9757885,
          40.177201,
          32.2209457,
          40.2160031388,
          39.781274,
          36.1533602,
          40.148549,
          28.192732,
          43.611077,
          35.894663,
          39.9508319,
          43.6480103,
          36.3120624414,
          28.0137414,
          40.0779257,
          39.721799,
          38.633578,
          39.9826101,
          32.2218854,
          39.856493,
          39.873278,
          39.772868,
          38.5367268,
          39.8549869689,
          35.95179,
          36.1626638,
          40.2653148078,
          34.432251449,
          27.976725964,
          40.0875557319,
          38.5934396,
          27.8782169937,
          40.1340014427,
          27.9601605512,
          39.513814,
          32.249418,
          39.927189,
          34.432786,
          39.9732621,
          39.7749162356,
          40.1337010559,
          30.0268477368,
          39.9358189,
          36.1549763,
          38.5832418285,
          27.77106169,
          27.739433,
          39.529722,
          38.7742201,
          39.856367,
          39.9530598,
          38.62884188,
          27.747254,
          27.9361534,
          39.777248,
          40.0887758,
          27.5996625,
          40.004724153,
          28.3456652,
          40.2518873857,
          39.7100999,
          39.534219,
          40.0068182,
          27.9601890291,
          27.9831666942,
          39.5266567,
          34.4143027,
          29.951526,
          30.0035435807,
          39.7803595,
          36.1558279,
          27.870748,
          32.221197,
          39.9412093,
          39.9812622,
          36.1503769,
          29.9636904,
          40.36217,
          34.4146284148,
          27.959297,
          38.647513,
          34.4179179487,
          32.2275798,
          38.7130955,
          32.2446174,
          39.7715904,
          40.2274364,
          40.0378279,
          27.9562885,
          27.9575349697,
          28.014677,
          34.3955994187,
          39.533189,
          40.2436138,
          53.495389,
          32.4092232,
          39.9506571027,
          28.0153331,
          40.1745828,
          53.6221099,
          38.59971,
          32.284417,
          38.6264979,
          27.7699113,
          53.5217443,
          40.2383491,
          38.672359,
          36.136314,
          28.1959306,
          40.0741808,
          40.0915290875,
          34.4236787312,
          29.9521098,
          40.084106,
          36.1812735377,
          39.8693211,
          39.7905571268,
          39.577048,
          39.9158862,
          40.207844,
          38.6267192,
          34.4037868,
          34.440315,
          39.9941508772,
          28.047482,
          27.8546081786,
          36.1059302,
          38.6261821399,
          53.5163264846,
          39.703051,
          39.9703347,
          40.1855636,
          32.235704,
          39.776632,
          36.1769451,
          32.2320319,
          28.243686,
          40.3105021,
          39.5311187265,
          39.9614570819,
          34.398372,
          40.1297271,
          39.9239563124,
          40.2893931,
          28.0364067,
          27.8741170074,
          28.06833,
          39.5316419,
          27.9549045,
          40.245577,
          39.776012,
          40.0086639,
          28.047415,
          38.5906156,
          39.977299,
          40.144655,
          53.5426749992,
          40.0176257845,
          30.0023569,
          43.6215412544,
          34.4037868,
          28.0859959,
          27.9068736,
          40.151529,
          39.9182627,
          29.9170045,
          40.084106,
          39.7904009329,
          27.961543,
          39.9553408854,
          39.9099676,
          39.636183,
          40.0274932,
          40.0086321,
          39.9701645,
          39.7553507,
          32.260227,
          43.61737,
          34.4003767215,
          40.072159,
          34.439349,
          39.9501977,
          39.7980911011,
          39.7519742,
          32.2581829,
          27.7814633491,
          40.155282,
          27.7710804,
          40.2360700766,
          43.609536,
          40.1409367,
          27.770772,
          32.183977,
          40.245868,
          39.528762254,
          36.1562398,
          39.5276192,
          36.1199298,
          39.994503,
          39.799650845,
          28.1961869912,
          39.9801329616,
          39.8671702349,
          40.022471,
          39.9677250832,
          39.8494971,
          36.1584426,
          39.9735324,
          39.5350952044,
          39.7339098866
         ],
         "legendgroup": "",
         "lon": [
          -75.4716585,
          -75.1356571,
          -86.0828565,
          -90.2135377,
          -119.8145651258,
          -86.1592453161,
          -75.5552598633,
          -110.823107399,
          -82.7302946082,
          -90.0982621,
          -116.215271,
          -75.5764069,
          -119.690633,
          -119.6897762,
          -119.7774657,
          -74.796004,
          -82.5044666603,
          -90.197527,
          -90.2512859,
          -86.821486,
          -110.9595118,
          -90.4630169,
          -86.1184757185,
          -86.868185,
          -111.0795866362,
          -119.6885961141,
          -86.142973568,
          -75.4043170169,
          -90.2653434,
          -75.633549,
          -75.5950446,
          -113.5962501821,
          -86.1407479,
          -90.0799468,
          -119.8096181,
          -86.2781691611,
          -75.720699,
          -86.197146,
          -113.5762614813,
          -75.1265807,
          -75.186438,
          -86.8486309,
          -86.1411079553,
          -75.587254,
          -86.8493654,
          -82.78422,
          -86.7470884886,
          -75.2835425,
          -75.2903721129,
          -90.2377156531,
          -82.3674802,
          -75.0471065193,
          -86.7759260162,
          -86.153515,
          -119.6918679,
          -82.8267454,
          -82.6476599503,
          -90.1073935,
          -82.6655627,
          -119.767087789,
          -82.3181672347,
          -119.809295,
          -86.1350676433,
          -82.7531084,
          -86.1677694,
          -75.2865954,
          -110.9185309,
          -119.6957697,
          -75.159445,
          -86.1573709,
          -74.998271,
          -116.3383125233,
          -119.7669877,
          -75.56564,
          -74.9056134,
          -75.032645,
          -113.4865457,
          -75.468385,
          -75.092893,
          -90.13067,
          -82.6986599326,
          -75.279396,
          -113.6290667,
          -110.9631344676,
          -90.2207305,
          -75.1395907626,
          -75.13997,
          -75.1048453,
          -90.0665992134,
          -110.9114292,
          -86.821891,
          -75.1808263,
          -75.1308993,
          -119.690492184,
          -82.4596794695,
          -82.424675,
          -86.2289108,
          -82.751258,
          -75.1719117,
          -86.7364399508,
          -75.1543,
          -86.142783297,
          -86.1475182458,
          -82.3929411,
          -90.0778522,
          -90.3147605,
          -82.4593244,
          -75.1855542,
          -110.796773891,
          -116.2535184994,
          -82.753098,
          -90.496103,
          -119.8088564,
          -116.2024218,
          -75.22253,
          -75.1255616,
          -113.484976,
          -90.2137754532,
          -90.059689,
          -75.0062698871,
          -75.3447142113,
          -75.1292033,
          -75.0926421,
          -82.69741,
          -82.4588757269,
          -82.3803390563,
          -90.2110242,
          -110.8758823,
          -75.4529857635,
          -86.7913121,
          -82.641279,
          -90.3024199,
          -74.9019637,
          -90.0627314,
          -82.7967877,
          -82.755007,
          -113.476381,
          -74.99181,
          -86.159577,
          -90.064975,
          -86.8328311777,
          -75.1435684785,
          -75.225442,
          -86.8010383454,
          -116.2955334,
          -82.5205411449,
          -75.7836088885,
          -75.146908,
          -90.35363,
          -82.4367928505,
          -90.4329047697,
          -75.2709627,
          -86.0223611,
          -86.1560133765,
          -82.6321798,
          -86.1095489,
          -110.9693205,
          -82.444854,
          -86.5033515595,
          -82.47309,
          -89.981879449,
          -75.1491112,
          -75.61067,
          -82.760906294,
          -82.6572477,
          -86.3731626,
          -75.0785009,
          -119.7487956598,
          -90.26312,
          -86.0005093549,
          -110.9141315147,
          -110.9796426124,
          -86.11124,
          -90.5081617,
          -116.2128426,
          -75.1818294,
          -82.7877538767,
          -75.667209,
          -82.4475069411,
          -75.2055144,
          -86.0367340918,
          -75.605486,
          -75.0102746,
          -116.26065,
          -110.9101485,
          -116.2686621246,
          -86.2592608854,
          -82.6445672,
          -90.281469542,
          -86.1570461,
          -75.5137942,
          -74.9764089,
          -86.7015164,
          -86.1413094,
          -75.6902378,
          -113.5150758175,
          -90.2098684685,
          -75.547578,
          -86.2531792911,
          -86.7632037,
          -86.1238662302,
          -113.4785441,
          -82.3337474,
          -82.68628,
          -82.5406694412,
          -110.891206,
          -90.321942,
          -74.908497,
          -116.29571,
          -75.4443346941,
          -90.2291565,
          -86.1099672,
          -86.1394634,
          -90.071909,
          -82.7528609176,
          -75.63039501,
          -75.7068300247,
          -86.121517,
          -116.2390103,
          -113.515972,
          -82.4516271427,
          -86.6816933,
          -110.865028,
          -75.3355242,
          -75.1689851604,
          -86.7893889,
          -116.203129,
          -90.3614207,
          -82.64105,
          -116.2063820288,
          -75.2227694,
          -110.9652399,
          -82.638203,
          -119.8711372792,
          -82.7847229,
          -75.230789,
          -90.2242288,
          -82.7072238922,
          -82.7188636735,
          -119.765909,
          -74.8006918807,
          -90.2258219,
          -116.2730074,
          -82.6702324,
          -75.1470899,
          -75.4165221,
          -86.084013725,
          -75.23432,
          -82.3408292,
          -86.1412303,
          -74.713917,
          -75.5458424386,
          -82.5827766,
          -86.3812113,
          -86.158755,
          -116.2712377,
          -85.9244347653,
          -75.166583,
          -75.143475,
          -119.8578105,
          -75.6738064845,
          -75.3440810367,
          -111.0568096288,
          -75.5340012,
          -82.6939319,
          -82.7605505,
          -82.8252257,
          -90.105281479,
          -74.8237438,
          -90.1918757,
          -86.79512,
          -90.264834,
          -90.2184099,
          -90.3264971,
          -75.5598295,
          -75.1224542,
          -75.1245738,
          -86.7968263,
          -75.0269164,
          -82.237778,
          -75.388318839,
          -90.2738366594,
          -113.6267402,
          -90.1073935,
          -86.767013,
          -75.5488270192,
          -90.0340021,
          -74.9008725,
          -74.8385061,
          -86.1293040309,
          -113.4923393,
          -113.293211,
          -90.0572362,
          -86.3731626,
          -75.1695151,
          -90.1735826843,
          -86.1458764,
          -119.9021545798,
          -90.063888,
          -75.0772022853,
          -82.650667,
          -82.6506471,
          -90.0715323,
          -82.762359,
          -86.1294844061,
          -75.1904467,
          -82.7512762,
          -75.2170593,
          -86.0414641,
          -119.7725573,
          -110.9938341,
          -86.2405885,
          -75.0072892407,
          -82.7379594,
          -86.6664834042,
          -75.0336737491,
          -113.6257171019,
          -86.0448719,
          -82.2931700786,
          -111.0558185354,
          -119.7107494,
          -113.5005477,
          -110.976743,
          -75.1596684381,
          -75.1435556,
          -75.3227774,
          -75.5267200936,
          -82.3898355387,
          -86.12531,
          -75.512543,
          -90.039019,
          -111.014601,
          -113.5263498,
          -90.0982725,
          -113.31294,
          -75.3425,
          -74.8063198,
          -90.1505376399,
          -90.484639,
          -86.1361078,
          -82.7082707,
          -86.1404603,
          -90.4477309,
          -75.1650834829,
          -75.1792988554,
          -86.160194,
          -74.9277732,
          -75.601902,
          -116.2444421,
          -86.2091253,
          -119.6957697,
          -82.247009,
          -86.4442471001,
          -82.4438944446,
          -75.6851082,
          -82.481185,
          -86.7991006,
          -86.1545743939,
          -90.0083328,
          -82.7348620601,
          -75.2180486,
          -86.7748,
          -87.0630159894,
          -82.6652361,
          -82.178912,
          -119.8075498,
          -74.8594624,
          -110.9701718,
          -75.1710674,
          -74.921794698,
          -82.7941382,
          -113.4166124091,
          -82.481185,
          -86.113452,
          -86.6865119,
          -82.6953527902,
          -75.1454226554,
          -82.3278095,
          -116.3540418,
          -86.7831176933,
          -86.1528689048,
          -116.2431171,
          -86.1548521,
          -74.9512785,
          -119.687689,
          -86.154679,
          -82.351725,
          -110.9558095,
          -119.6886868,
          -75.6062233821,
          -86.182467,
          -75.1696318388,
          -90.0900045,
          -75.0204055375,
          -82.7413519,
          -119.6976933,
          -86.1386414,
          -75.2227694169,
          -86.0988667,
          -113.60416,
          -82.6855055906,
          -89.9307184185,
          -86.117214,
          -86.007047,
          -119.8173108747,
          -90.0842214,
          -75.0461244,
          -86.140084,
          -86.738438,
          -75.0361858,
          -90.1846217,
          -119.7376460248,
          -90.0812105,
          -116.2031078,
          -82.3990062,
          -119.774971,
          -74.9844760782,
          -86.0137119,
          -74.7137149788,
          -86.1452718371,
          -75.0833123,
          -75.135428601,
          -82.458643,
          -86.1396785,
          -82.7832909586,
          -75.2879559153,
          -119.807410651,
          -82.7565384,
          -86.1461204,
          -116.2087047,
          -86.1399575695,
          -116.272059,
          -75.20258,
          -82.7326362,
          -116.205131,
          -75.0204985,
          -89.986116,
          -82.7676041082,
          -90.18532,
          -82.542257,
          -86.7763120141,
          -82.7947455,
          -75.0716549,
          -75.1252351,
          -82.4621807,
          -86.157197,
          -74.824,
          -86.756662,
          -75.0473671415,
          -110.9373089373,
          -110.9385681152,
          -90.2183843,
          -74.8528488725,
          -82.699619,
          -74.9477228,
          -82.7842836,
          -82.7900071616,
          -82.6601169,
          -86.1446750707,
          -113.5217839,
          -75.022542,
          -82.643936,
          -113.5007,
          -119.704424,
          -74.9692065,
          -82.3299169,
          -90.2127919014,
          -75.1554151252,
          -82.437813,
          -75.1369362138,
          -89.9592797086,
          -75.1853081,
          -82.4828919,
          -116.2712275,
          -75.6353558,
          -86.1039189,
          -116.2066782442,
          -110.8413918,
          -82.6582185924,
          -82.63822,
          -90.1097293605,
          -82.5086905,
          -86.1530978364,
          -113.4748383,
          -85.9481849,
          -75.5161316693,
          -82.7550858,
          -86.3459223,
          -86.7414476,
          -82.6381847,
          -116.2639481,
          -86.161783,
          -86.128891,
          -75.7196478,
          -86.159121,
          -90.05925,
          -90.2099141,
          -86.4647445679,
          -75.152418,
          -90.087709,
          -75.144334,
          -86.8664296466,
          -74.9539691582,
          -119.7570873,
          -75.7098447,
          -75.06132,
          -75.3535838,
          -119.6958927,
          -75.128681,
          -119.690633,
          -119.6957699,
          -75.2006627311,
          -90.1805781304,
          -86.1371317178,
          -116.2863998,
          -116.2254746631,
          -90.518127818,
          -75.0712235,
          -86.0832671,
          -75.1375425607,
          -75.4442427596,
          -90.2814438035,
          -75.3082941,
          -75.5173656,
          -75.6017864126,
          -82.7240844665,
          -85.924631,
          -86.159322,
          -82.7603392137,
          -82.7672098204,
          -75.1616977,
          -86.511644,
          -75.2925155,
          -110.9669746,
          -75.453737,
          -86.3698201,
          -86.7705877,
          -86.2974891,
          -86.000373,
          -82.5708636795,
          -75.2156012877,
          -75.2229967,
          -75.6106018,
          -86.0851455,
          -82.4514662,
          -116.208926104,
          -75.3151004,
          -82.332727,
          -82.850119248,
          -82.509346,
          -82.7665058,
          -82.5043702,
          -119.8084375,
          -110.9680603,
          -75.3085305,
          -113.4564548909,
          -90.214238932,
          -90.1492429,
          -75.4415199906,
          -90.237621,
          -86.1413094,
          -75.5952076,
          -75.1661240918,
          -113.4950723872,
          -82.7876709,
          -116.2066223,
          -82.7626699,
          -75.5428708,
          -119.7899853,
          -75.2227761947,
          -116.12125,
          -116.210989,
          -86.8394228,
          -116.2747420276,
          -110.9394648321,
          -86.141152,
          -82.6500747,
          -86.9551422,
          -116.202910915,
          -82.7512966,
          -86.0708856583,
          -119.8075498,
          -82.6625993,
          -119.8083936,
          -82.3400028053,
          -86.7906057,
          -82.4508954,
          -90.31903,
          -86.6655607,
          -119.7585984,
          -86.8356821,
          -82.26888,
          -82.7947,
          -82.6213311,
          -86.7763882084,
          -75.1730921385,
          -75.543657,
          -119.8057960021,
          -75.5194324628,
          -82.755175,
          -86.1406425,
          -113.5291668,
          -116.30247,
          -86.775343,
          -119.722747,
          -90.357825,
          -75.1355053,
          -82.6604544,
          -75.1953934,
          -75.5622589588,
          -75.6040189,
          -75.1291577,
          -74.8869409,
          -82.6687869,
          -86.7562715,
          -75.5604558438,
          -90.22481,
          -90.4058179,
          -90.4019681,
          -75.6347654,
          -75.537323,
          -116.3692766055,
          -75.5480057,
          -75.1356569678,
          -74.973307339,
          -75.5336293,
          -82.4427741,
          -116.1926761,
          -111.0064803173,
          -116.3657069206,
          -119.7310213,
          -82.7897738,
          -82.7716965,
          -86.0908108036,
          -116.253646,
          -75.1929348251,
          -86.1451292038,
          -86.1458504,
          -75.1941853,
          -75.5209848148,
          -90.0211703,
          -75.153399,
          -82.4538137,
          -86.1603919,
          -119.8059972,
          -82.4505398422,
          -89.912272,
          -110.9868184,
          -86.7885275048,
          -82.6577014,
          -86.7543190433,
          -82.4674479,
          -110.964911,
          -75.133938,
          -75.1066071,
          -110.9665522,
          -75.2765133125,
          -86.1155554,
          -86.7742212,
          -75.02248,
          -82.625587,
          -116.206413,
          -86.866396,
          -86.2620791,
          -116.4125959,
          -86.5884450159,
          -82.7890185,
          -74.8586588,
          -86.090067,
          -90.237634,
          -75.1273561,
          -110.9680923,
          -86.395008,
          -86.142666,
          -86.138667,
          -90.4973422,
          -75.4257186651,
          -86.808228,
          -86.7816016,
          -75.6683065445,
          -119.8760843181,
          -82.5377468,
          -75.3933920029,
          -90.2286266,
          -82.6938993484,
          -75.5163239386,
          -82.4625296518,
          -119.805937,
          -110.891184,
          -86.160537,
          -119.868537,
          -86.1967335,
          -86.1457541448,
          -75.5178608436,
          -90.0282972039,
          -74.9091853,
          -86.7771099,
          -90.3027806989,
          -82.6409144,
          -82.707511,
          -119.812778,
          -90.4845612,
          -75.403889,
          -75.1606397,
          -90.2934071789,
          -82.414091,
          -82.4751877,
          -86.161837,
          -75.3920693,
          -82.5123613,
          -75.6938191261,
          -82.7020259,
          -75.2387094498,
          -86.1399972,
          -119.716101,
          -75.7008481,
          -82.7523944884,
          -82.8266093167,
          -119.7674485,
          -119.6871819,
          -90.100077,
          -90.1836739339,
          -86.2413155,
          -86.8484441,
          -82.735568,
          -110.8747117411,
          -75.1522391,
          -74.8100782,
          -86.7794576,
          -90.046948,
          -74.951146,
          -119.6907882741,
          -82.459935,
          -90.339804,
          -119.6971540715,
          -110.9677733,
          -90.4488946,
          -110.8544497,
          -74.8995479,
          -74.9098704,
          -75.6333107,
          -82.4301625,
          -82.4597,
          -82.7889553,
          -119.5206894833,
          -119.802863,
          -75.2875736,
          -113.487933,
          -110.9963955,
          -86.0413652658,
          -82.782842,
          -74.9485052,
          -113.6429127,
          -90.223697,
          -110.97764,
          -90.2617607,
          -82.6632619,
          -113.6188774,
          -74.8358169,
          -90.433439,
          -86.8012261,
          -82.4645475,
          -75.2030783,
          -75.3502310067,
          -119.6865684787,
          -90.0975682,
          -75.250293,
          -86.7861705,
          -86.1407477,
          -86.1824292423,
          -86.096285,
          -74.9512906,
          -75.2235665,
          -90.2611974,
          -119.5339549,
          -119.738162,
          -74.7881163549,
          -82.1877318,
          -82.3164156822,
          -86.7553865,
          -90.341212,
          -113.4982048536,
          -75.113113,
          -86.1281971,
          -75.452407,
          -110.946571,
          -85.9603209,
          -86.7535693,
          -110.9582544,
          -82.350696,
          -75.1291577,
          -119.8086464985,
          -75.1541474462,
          -119.518002,
          -75.3450439,
          -75.1788754016,
          -75.1994282,
          -82.6578325,
          -82.6400910196,
          -82.72472,
          -119.8064269,
          -82.3334943,
          -75.648378,
          -86.1472933,
          -75.2976249,
          -82.187644,
          -90.2578601,
          -75.143601,
          -75.167492,
          -113.5305956664,
          -75.3222002462,
          -90.0190646,
          -116.3502899644,
          -119.5339549,
          -82.5792673,
          -82.6911212,
          -75.305562,
          -75.3980514,
          -90.0982725,
          -75.250293,
          -86.1424664537,
          -82.441147,
          -75.000189101,
          -75.0487196,
          -86.084987,
          -75.218518,
          -75.2937697,
          -75.1475834,
          -86.1770037,
          -110.943309,
          -116.20312,
          -119.5203872275,
          -74.9399661,
          -119.851617,
          -75.1666386,
          -86.2619450854,
          -86.1380487,
          -110.7965958,
          -82.7373180724,
          -75.221012,
          -82.6613086,
          -74.9434574254,
          -116.290935,
          -75.5480946,
          -82.663949,
          -110.9171804,
          -75.649334,
          -119.8802269761,
          -86.8470916,
          -119.8010251,
          -86.9199163,
          -86.346672,
          -74.9314785004,
          -82.4644707778,
          -75.1291918382,
          -86.390688826,
          -75.2188,
          -75.1340245083,
          -75.1424527,
          -86.8102008,
          -86.0029699,
          -119.7541334637,
          -75.3185484
         ],
         "marker": {
          "color": [
           4.5,
           3.5,
           4.5,
           4.5,
           3.5,
           3.5,
           4.5,
           4.5,
           4,
           4.5,
           4,
           4.5,
           4,
           4,
           4,
           4,
           3.5,
           4,
           4.5,
           3.5,
           4,
           4,
           4,
           3,
           3,
           4.5,
           4,
           4,
           4,
           4.5,
           3,
           3.5,
           4,
           4.5,
           4,
           4,
           4,
           3.5,
           4.5,
           4,
           3.5,
           4.5,
           4,
           4.5,
           4,
           4.5,
           4.5,
           5,
           4,
           4.5,
           4,
           5,
           4.5,
           4.5,
           4,
           4,
           4,
           4.5,
           4.5,
           4.5,
           3,
           4.5,
           4.5,
           4.5,
           4.5,
           4.5,
           4.5,
           4,
           4.5,
           4.5,
           3.5,
           4,
           3.5,
           4.5,
           3.5,
           4.5,
           4,
           4.5,
           4.5,
           4.5,
           4.5,
           4.5,
           4.5,
           3.5,
           4.5,
           4,
           4,
           4.5,
           4.5,
           4.5,
           3.5,
           4.5,
           4.5,
           4.5,
           4.5,
           4.5,
           4.5,
           5,
           3.5,
           5,
           4.5,
           3.5,
           4,
           3.5,
           4.5,
           4,
           4,
           3,
           3,
           4.5,
           4,
           3,
           4.5,
           4,
           4,
           3,
           5,
           4,
           5,
           5,
           4,
           4,
           4,
           5,
           4.5,
           5,
           4,
           3.5,
           3.5,
           4.5,
           4,
           4,
           4.5,
           3,
           4.5,
           4.5,
           4,
           4,
           4,
           3,
           4.5,
           4.5,
           4,
           3,
           5,
           4,
           4.5,
           4,
           2.5,
           5,
           4.5,
           3.5,
           5,
           3.5,
           4,
           4.5,
           4,
           4,
           3,
           4.5,
           5,
           4.5,
           4.5,
           3.5,
           5,
           4.5,
           4,
           3.5,
           4.5,
           4,
           4.5,
           4.5,
           4.5,
           4,
           4.5,
           5,
           4,
           3.5,
           4.5,
           3.5,
           4,
           3.5,
           3.5,
           4.5,
           3.5,
           5,
           4.5,
           4.5,
           4,
           3,
           4,
           2,
           2.5,
           4.5,
           4.5,
           3,
           4,
           3.5,
           4.5,
           4,
           4.5,
           4,
           4,
           3.5,
           3,
           3,
           4,
           2.5,
           3,
           3,
           4,
           4.5,
           5,
           4.5,
           4,
           3.5,
           4,
           3.5,
           4,
           2.5,
           5,
           4.5,
           4.5,
           4,
           4.5,
           5,
           3.5,
           4.5,
           4,
           4.5,
           4.5,
           4,
           3.5,
           3.5,
           4.5,
           3,
           3.5,
           3.5,
           4.5,
           4.5,
           4,
           4.5,
           4,
           4.5,
           3,
           4,
           3.5,
           4.5,
           4.5,
           4,
           3.5,
           4.5,
           5,
           5,
           3.5,
           4.5,
           4.5,
           3.5,
           3.5,
           4,
           4.5,
           4,
           4,
           3,
           4.5,
           5,
           5,
           4.5,
           4,
           3,
           4.5,
           3,
           3,
           4,
           3.5,
           4.5,
           2.5,
           3.5,
           4.5,
           4.5,
           3.5,
           4.5,
           3.5,
           5,
           4.5,
           4,
           4.5,
           4.5,
           4,
           4,
           4,
           4.5,
           4.5,
           3.5,
           4,
           3.5,
           4,
           5,
           3.5,
           3,
           4,
           4,
           5,
           4,
           4,
           4,
           4.5,
           5,
           4.5,
           3.5,
           4.5,
           4.5,
           4.5,
           3,
           4.5,
           3.5,
           4,
           3.5,
           4.5,
           4.5,
           4.5,
           4,
           3,
           4,
           4,
           3.5,
           4,
           3.5,
           4.5,
           4,
           4.5,
           3,
           4,
           4,
           3,
           2,
           4.5,
           4.5,
           4,
           4.5,
           5,
           4.5,
           3.5,
           4.5,
           3.5,
           3.5,
           4,
           3.5,
           4.5,
           3,
           3.5,
           3.5,
           4.5,
           5,
           3.5,
           4.5,
           3.5,
           4,
           5,
           3.5,
           5,
           3,
           5,
           4.5,
           4.5,
           4.5,
           4.5,
           4,
           4.5,
           4.5,
           4.5,
           5,
           4.5,
           3.5,
           4.5,
           4.5,
           4.5,
           3.5,
           3,
           4.5,
           4,
           4,
           4,
           4.5,
           4,
           5,
           4.5,
           4.5,
           4.5,
           4,
           4,
           3,
           4,
           4,
           2.5,
           3.5,
           4.5,
           3.5,
           3.5,
           5,
           4.5,
           4,
           4,
           4,
           3.5,
           3,
           3.5,
           4.5,
           1.5,
           4,
           5,
           4.5,
           4,
           4,
           4.5,
           3,
           4.5,
           4,
           4,
           4,
           4.5,
           4.5,
           4,
           5,
           4,
           4.5,
           3.5,
           4.5,
           4.5,
           4,
           4.5,
           4.5,
           4.5,
           3,
           4.5,
           4.5,
           4,
           4.5,
           3,
           4.5,
           4,
           4.5,
           4.5,
           4,
           4.5,
           4.5,
           4,
           4,
           3,
           4.5,
           4.5,
           4,
           3,
           4,
           4,
           4.5,
           4.5,
           4.5,
           4.5,
           3.5,
           4.5,
           2.5,
           4.5,
           4.5,
           4.5,
           4,
           4.5,
           4.5,
           4.5,
           2.5,
           4,
           3,
           3.5,
           3.5,
           4,
           4,
           5,
           4.5,
           4,
           3.5,
           4.5,
           5,
           4.5,
           3.5,
           4,
           4.5,
           4.5,
           3.5,
           4.5,
           2.5,
           4,
           4.5,
           3.5,
           3.5,
           4,
           4.5,
           4.5,
           4,
           4,
           5,
           5,
           4.5,
           3.5,
           5,
           4.5,
           4.5,
           3.5,
           4.5,
           4,
           4,
           3.5,
           4,
           4,
           4.5,
           5,
           4.5,
           4.5,
           4.5,
           4.5,
           4.5,
           4.5,
           4.5,
           5,
           4,
           3.5,
           4.5,
           4,
           3,
           4.5,
           4.5,
           4.5,
           4,
           4,
           3.5,
           4,
           3,
           4.5,
           3,
           4.5,
           3.5,
           4.5,
           4,
           4.5,
           4.5,
           4.5,
           4.5,
           4,
           3.5,
           4.5,
           4.5,
           4.5,
           3.5,
           4.5,
           4.5,
           3.5,
           4.5,
           3.5,
           4.5,
           4.5,
           3.5,
           4,
           3.5,
           4.5,
           4,
           4,
           4,
           4.5,
           3,
           4,
           4,
           4,
           4,
           4,
           4,
           2.5,
           3.5,
           4.5,
           3,
           4,
           4.5,
           4.5,
           4.5,
           4.5,
           5,
           4.5,
           4,
           4,
           4.5,
           4,
           4,
           5,
           4.5,
           2,
           4,
           5,
           4,
           3,
           4.5,
           5,
           2.5,
           4.5,
           4.5,
           4,
           4.5,
           4.5,
           4.5,
           3.5,
           4.5,
           4.5,
           3.5,
           4,
           3.5,
           5,
           4,
           4.5,
           3.5,
           4,
           3,
           4,
           4.5,
           4.5,
           4.5,
           4.5,
           4,
           4,
           4.5,
           4.5,
           3,
           4.5,
           4,
           5,
           4,
           5,
           4,
           4.5,
           4,
           4.5,
           3,
           4.5,
           4,
           3.5,
           4,
           3,
           4,
           4,
           4.5,
           4,
           2,
           4.5,
           4.5,
           4.5,
           4.5,
           4,
           4,
           5,
           3.5,
           4.5,
           4.5,
           4.5,
           4,
           4.5,
           4.5,
           4.5,
           3.5,
           4.5,
           4.5,
           4,
           4.5,
           5,
           4,
           4.5,
           4,
           3,
           4,
           4,
           4.5,
           4.5,
           3,
           5,
           4,
           4.5,
           3,
           3.5,
           4,
           4.5,
           4,
           4,
           4,
           4,
           3,
           4.5,
           3.5,
           4,
           4,
           5,
           5,
           4.5,
           4,
           4,
           4,
           3.5,
           3,
           4.5,
           5,
           4.5,
           4.5,
           4.5,
           4,
           4,
           4.5,
           4,
           5,
           4.5,
           4.5,
           3,
           4.5,
           4.5,
           4,
           3,
           2.5,
           5,
           4,
           3.5,
           4.5,
           4.5,
           3,
           3,
           4,
           4,
           5,
           4,
           4,
           4.5,
           4,
           4.5,
           4.5,
           3.5,
           3,
           4,
           4,
           4,
           4.5,
           4.5,
           4.5,
           4.5,
           4.5,
           4,
           4.5,
           4,
           4.5,
           4.5,
           3.5,
           3.5,
           3.5,
           3.5,
           4.5,
           4.5,
           4,
           4,
           3,
           3.5,
           5,
           3.5,
           4.5,
           4.5,
           4.5,
           3.5,
           4.5,
           3.5,
           5,
           4,
           4.5,
           3.5,
           4,
           4.5,
           4.5,
           4.5,
           4,
           4.5,
           4.5,
           4,
           4,
           4.5,
           4,
           4.5,
           4,
           2.5,
           4.5,
           3.5,
           4.5,
           3.5,
           5,
           4,
           4,
           4.5,
           4.5,
           3.5,
           3.5,
           4.5,
           4.5,
           4.5,
           4.5,
           4.5,
           3.5,
           3.5,
           3.5,
           4.5,
           4,
           4.5,
           4,
           4.5,
           4,
           4,
           5,
           4.5,
           4.5,
           3.5,
           3.5,
           4,
           4,
           4.5,
           4,
           5,
           4.5,
           3,
           4.5,
           4,
           4.5,
           4.5,
           3,
           4.5,
           5,
           4.5,
           4.5,
           4,
           4.5,
           4,
           3.5,
           4,
           4,
           4,
           3.5,
           4,
           4,
           4.5,
           4.5,
           4.5,
           4.5,
           4.5,
           4.5,
           4.5,
           4.5,
           4.5,
           4.5,
           4,
           4,
           3.5,
           3.5,
           4.5,
           4.5,
           3.5,
           4,
           5
          ],
          "coloraxis": "coloraxis",
          "size": [
           13,
           65,
           139,
           605,
           592,
           258,
           29,
           35,
           125,
           13,
           121,
           56,
           5,
           32,
           75,
           46,
           14,
           345,
           187,
           356,
           611,
           16,
           184,
           9,
           182,
           105,
           244,
           29,
           125,
           24,
           28,
           37,
           97,
           69,
           1245,
           66,
           71,
           187,
           9,
           8,
           30,
           23,
           153,
           75,
           17,
           10,
           103,
           36,
           459,
           46,
           136,
           53,
           421,
           9,
           162,
           26,
           476,
           42,
           31,
           53,
           19,
           76,
           305,
           18,
           52,
           65,
           34,
           362,
           5,
           44,
           289,
           236,
           30,
           10,
           5,
           35,
           9,
           7,
           10,
           9,
           109,
           17,
           7,
           51,
           38,
           24,
           221,
           56,
           186,
           48,
           264,
           178,
           21,
           183,
           46,
           97,
           126,
           8,
           6,
           31,
           18,
           378,
           17,
           301,
           8,
           615,
           235,
           12,
           7,
           5,
           20,
           40,
           47,
           79,
           13,
           63,
           15,
           115,
           45,
           6,
           207,
           29,
           223,
           13,
           148,
           10,
           658,
           13,
           154,
           232,
           30,
           227,
           115,
           167,
           24,
           17,
           63,
           23,
           20,
           611,
           40,
           40,
           53,
           6,
           18,
           124,
           18,
           755,
           178,
           19,
           75,
           122,
           11,
           467,
           122,
           16,
           121,
           162,
           23,
           133,
           7,
           29,
           7,
           103,
           41,
           41,
           55,
           472,
           166,
           50,
           22,
           61,
           33,
           56,
           21,
           12,
           590,
           41,
           7,
           384,
           152,
           353,
           5,
           18,
           165,
           10,
           25,
           32,
           105,
           223,
           274,
           9,
           11,
           381,
           48,
           42,
           671,
           162,
           41,
           98,
           99,
           32,
           8,
           366,
           78,
           36,
           132,
           14,
           8,
           162,
           6,
           35,
           8,
           220,
           45,
           323,
           41,
           267,
           79,
           33,
           5,
           158,
           986,
           113,
           51,
           5,
           212,
           33,
           203,
           125,
           23,
           7,
           24,
           550,
           5,
           114,
           52,
           155,
           24,
           176,
           91,
           245,
           58,
           48,
           19,
           34,
           455,
           7,
           6,
           587,
           43,
           6,
           23,
           24,
           357,
           37,
           133,
           339,
           318,
           15,
           30,
           29,
           67,
           32,
           28,
           25,
           6,
           82,
           33,
           229,
           216,
           58,
           95,
           177,
           290,
           18,
           11,
           293,
           51,
           61,
           427,
           40,
           12,
           11,
           36,
           160,
           94,
           7,
           632,
           150,
           13,
           6,
           131,
           321,
           5,
           33,
           177,
           13,
           929,
           38,
           326,
           14,
           5,
           437,
           250,
           380,
           44,
           54,
           42,
           66,
           87,
           134,
           7,
           254,
           41,
           172,
           7,
           215,
           36,
           62,
           85,
           28,
           15,
           324,
           561,
           101,
           21,
           118,
           41,
           117,
           7,
           218,
           11,
           19,
           29,
           15,
           10,
           42,
           56,
           483,
           33,
           168,
           104,
           20,
           93,
           366,
           22,
           53,
           41,
           135,
           642,
           9,
           106,
           37,
           148,
           67,
           269,
           465,
           16,
           274,
           20,
           764,
           11,
           35,
           42,
           32,
           10,
           209,
           209,
           42,
           132,
           5,
           8,
           15,
           434,
           8,
           12,
           227,
           146,
           17,
           71,
           10,
           175,
           19,
           137,
           17,
           12,
           43,
           269,
           48,
           5,
           361,
           5,
           89,
           7,
           24,
           202,
           6,
           260,
           10,
           23,
           74,
           472,
           150,
           694,
           298,
           50,
           136,
           40,
           5,
           7,
           26,
           371,
           11,
           278,
           5,
           14,
           644,
           20,
           227,
           71,
           99,
           40,
           5,
           526,
           75,
           691,
           51,
           320,
           127,
           60,
           41,
           108,
           119,
           29,
           99,
           107,
           72,
           288,
           132,
           54,
           12,
           11,
           138,
           78,
           122,
           11,
           104,
           50,
           5,
           50,
           29,
           35,
           273,
           49,
           52,
           193,
           91,
           50,
           89,
           10,
           54,
           21,
           15,
           105,
           30,
           88,
           162,
           209,
           29,
           23,
           129,
           124,
           8,
           73,
           14,
           76,
           164,
           23,
           43,
           149,
           6,
           83,
           30,
           40,
           150,
           40,
           9,
           65,
           87,
           26,
           42,
           174,
           200,
           56,
           283,
           124,
           36,
           75,
           11,
           20,
           8,
           490,
           25,
           116,
           25,
           19,
           150,
           30,
           20,
           696,
           95,
           147,
           109,
           17,
           25,
           29,
           70,
           38,
           27,
           5,
           99,
           17,
           54,
           15,
           9,
           50,
           21,
           128,
           73,
           27,
           52,
           140,
           18,
           30,
           64,
           88,
           22,
           78,
           291,
           98,
           243,
           6,
           19,
           136,
           52,
           8,
           24,
           26,
           876,
           57,
           38,
           155,
           172,
           110,
           9,
           154,
           57,
           171,
           99,
           200,
           6,
           387,
           89,
           117,
           112,
           68,
           211,
           668,
           549,
           37,
           215,
           254,
           118,
           7,
           104,
           56,
           54,
           543,
           94,
           294,
           47,
           427,
           19,
           12,
           33,
           140,
           56,
           248,
           142,
           6,
           114,
           39,
           113,
           9,
           103,
           174,
           145,
           6,
           10,
           43,
           34,
           56,
           9,
           22,
           19,
           149,
           120,
           12,
           78,
           8,
           13,
           6,
           336,
           98,
           512,
           57,
           250,
           28,
           28,
           45,
           44,
           34,
           23,
           384,
           72,
           104,
           206,
           182,
           26,
           6,
           106,
           8,
           272,
           32,
           27,
           369,
           10,
           51,
           132,
           260,
           42,
           7,
           76,
           44,
           101,
           385,
           5,
           23,
           65,
           155,
           26,
           49,
           283,
           7,
           333,
           22,
           44,
           60,
           18,
           84,
           17,
           22,
           25,
           13,
           15,
           21,
           41,
           8,
           92,
           150,
           22,
           122,
           56,
           21,
           15,
           9,
           55,
           19,
           133,
           75,
           164,
           274,
           119,
           70,
           116,
           3064,
           416,
           304,
           246,
           139,
           85,
           521,
           66,
           16,
           7,
           380,
           6,
           242,
           146,
           14,
           380,
           40,
           68,
           142,
           88,
           103,
           149,
           16,
           45,
           592,
           11,
           26,
           26,
           621,
           75,
           5,
           160,
           112,
           6,
           46,
           315,
           442,
           96,
           225,
           380,
           347,
           15,
           254,
           34,
           41,
           425,
           139,
           211,
           133,
           163,
           65,
           126,
           17,
           27,
           84,
           443,
           29,
           79,
           266,
           90,
           168,
           23,
           236,
           86,
           62,
           15,
           15,
           14,
           261,
           96,
           25,
           18,
           14,
           350,
           168,
           10,
           10,
           66,
           82,
           35,
           124,
           186,
           384,
           101,
           28,
           17,
           283,
           383,
           50,
           9,
           100,
           419,
           74,
           100,
           71,
           9,
           19,
           62,
           73,
           337,
           7,
           15,
           359,
           33,
           44,
           43,
           151,
           455,
           8,
           53,
           9,
           16,
           139,
           124,
           57,
           26,
           48,
           28,
           208,
           84,
           178,
           83,
           17,
           10,
           55,
           35,
           194,
           84,
           42,
           5,
           8,
           252,
           147,
           35,
           116,
           1086,
           14,
           15,
           128,
           26,
           452,
           6,
           37,
           228,
           27,
           10,
           99,
           110,
           221,
           14,
           136,
           48,
           135,
           41,
           5,
           91,
           413,
           21,
           102,
           35,
           50,
           80,
           7,
           122,
           311,
           249,
           12,
           28,
           9,
           36,
           692,
           95,
           49,
           36,
           110,
           580,
           6
          ],
          "sizemode": "area",
          "sizeref": 3.4044444444444446
         },
         "mode": "markers",
         "name": "",
         "showlegend": false,
         "subplot": "mapbox",
         "type": "scattermapbox"
        }
       ],
       "layout": {
        "coloraxis": {
         "colorbar": {
          "title": {
           "text": "stars"
          }
         },
         "colorscale": [
          [
           0,
           "#0d0887"
          ],
          [
           0.1111111111111111,
           "#46039f"
          ],
          [
           0.2222222222222222,
           "#7201a8"
          ],
          [
           0.3333333333333333,
           "#9c179e"
          ],
          [
           0.4444444444444444,
           "#bd3786"
          ],
          [
           0.5555555555555556,
           "#d8576b"
          ],
          [
           0.6666666666666666,
           "#ed7953"
          ],
          [
           0.7777777777777778,
           "#fb9f3a"
          ],
          [
           0.8888888888888888,
           "#fdca26"
          ],
          [
           1,
           "#f0f921"
          ]
         ]
        },
        "height": 800,
        "legend": {
         "itemsizing": "constant",
         "tracegroupgap": 0
        },
        "mapbox": {
         "center": {
          "lat": 37.091506873996636,
          "lon": -89.08052673244184
         },
         "domain": {
          "x": [
           0,
           1
          ],
          "y": [
           0,
           1
          ]
         },
         "zoom": 3
        },
        "margin": {
         "t": 60
        },
        "template": {
         "data": {
          "bar": [
           {
            "error_x": {
             "color": "#2a3f5f"
            },
            "error_y": {
             "color": "#2a3f5f"
            },
            "marker": {
             "line": {
              "color": "#E5ECF6",
              "width": 0.5
             },
             "pattern": {
              "fillmode": "overlay",
              "size": 10,
              "solidity": 0.2
             }
            },
            "type": "bar"
           }
          ],
          "barpolar": [
           {
            "marker": {
             "line": {
              "color": "#E5ECF6",
              "width": 0.5
             },
             "pattern": {
              "fillmode": "overlay",
              "size": 10,
              "solidity": 0.2
             }
            },
            "type": "barpolar"
           }
          ],
          "carpet": [
           {
            "aaxis": {
             "endlinecolor": "#2a3f5f",
             "gridcolor": "white",
             "linecolor": "white",
             "minorgridcolor": "white",
             "startlinecolor": "#2a3f5f"
            },
            "baxis": {
             "endlinecolor": "#2a3f5f",
             "gridcolor": "white",
             "linecolor": "white",
             "minorgridcolor": "white",
             "startlinecolor": "#2a3f5f"
            },
            "type": "carpet"
           }
          ],
          "choropleth": [
           {
            "colorbar": {
             "outlinewidth": 0,
             "ticks": ""
            },
            "type": "choropleth"
           }
          ],
          "contour": [
           {
            "colorbar": {
             "outlinewidth": 0,
             "ticks": ""
            },
            "colorscale": [
             [
              0,
              "#0d0887"
             ],
             [
              0.1111111111111111,
              "#46039f"
             ],
             [
              0.2222222222222222,
              "#7201a8"
             ],
             [
              0.3333333333333333,
              "#9c179e"
             ],
             [
              0.4444444444444444,
              "#bd3786"
             ],
             [
              0.5555555555555556,
              "#d8576b"
             ],
             [
              0.6666666666666666,
              "#ed7953"
             ],
             [
              0.7777777777777778,
              "#fb9f3a"
             ],
             [
              0.8888888888888888,
              "#fdca26"
             ],
             [
              1,
              "#f0f921"
             ]
            ],
            "type": "contour"
           }
          ],
          "contourcarpet": [
           {
            "colorbar": {
             "outlinewidth": 0,
             "ticks": ""
            },
            "type": "contourcarpet"
           }
          ],
          "heatmap": [
           {
            "colorbar": {
             "outlinewidth": 0,
             "ticks": ""
            },
            "colorscale": [
             [
              0,
              "#0d0887"
             ],
             [
              0.1111111111111111,
              "#46039f"
             ],
             [
              0.2222222222222222,
              "#7201a8"
             ],
             [
              0.3333333333333333,
              "#9c179e"
             ],
             [
              0.4444444444444444,
              "#bd3786"
             ],
             [
              0.5555555555555556,
              "#d8576b"
             ],
             [
              0.6666666666666666,
              "#ed7953"
             ],
             [
              0.7777777777777778,
              "#fb9f3a"
             ],
             [
              0.8888888888888888,
              "#fdca26"
             ],
             [
              1,
              "#f0f921"
             ]
            ],
            "type": "heatmap"
           }
          ],
          "heatmapgl": [
           {
            "colorbar": {
             "outlinewidth": 0,
             "ticks": ""
            },
            "colorscale": [
             [
              0,
              "#0d0887"
             ],
             [
              0.1111111111111111,
              "#46039f"
             ],
             [
              0.2222222222222222,
              "#7201a8"
             ],
             [
              0.3333333333333333,
              "#9c179e"
             ],
             [
              0.4444444444444444,
              "#bd3786"
             ],
             [
              0.5555555555555556,
              "#d8576b"
             ],
             [
              0.6666666666666666,
              "#ed7953"
             ],
             [
              0.7777777777777778,
              "#fb9f3a"
             ],
             [
              0.8888888888888888,
              "#fdca26"
             ],
             [
              1,
              "#f0f921"
             ]
            ],
            "type": "heatmapgl"
           }
          ],
          "histogram": [
           {
            "marker": {
             "pattern": {
              "fillmode": "overlay",
              "size": 10,
              "solidity": 0.2
             }
            },
            "type": "histogram"
           }
          ],
          "histogram2d": [
           {
            "colorbar": {
             "outlinewidth": 0,
             "ticks": ""
            },
            "colorscale": [
             [
              0,
              "#0d0887"
             ],
             [
              0.1111111111111111,
              "#46039f"
             ],
             [
              0.2222222222222222,
              "#7201a8"
             ],
             [
              0.3333333333333333,
              "#9c179e"
             ],
             [
              0.4444444444444444,
              "#bd3786"
             ],
             [
              0.5555555555555556,
              "#d8576b"
             ],
             [
              0.6666666666666666,
              "#ed7953"
             ],
             [
              0.7777777777777778,
              "#fb9f3a"
             ],
             [
              0.8888888888888888,
              "#fdca26"
             ],
             [
              1,
              "#f0f921"
             ]
            ],
            "type": "histogram2d"
           }
          ],
          "histogram2dcontour": [
           {
            "colorbar": {
             "outlinewidth": 0,
             "ticks": ""
            },
            "colorscale": [
             [
              0,
              "#0d0887"
             ],
             [
              0.1111111111111111,
              "#46039f"
             ],
             [
              0.2222222222222222,
              "#7201a8"
             ],
             [
              0.3333333333333333,
              "#9c179e"
             ],
             [
              0.4444444444444444,
              "#bd3786"
             ],
             [
              0.5555555555555556,
              "#d8576b"
             ],
             [
              0.6666666666666666,
              "#ed7953"
             ],
             [
              0.7777777777777778,
              "#fb9f3a"
             ],
             [
              0.8888888888888888,
              "#fdca26"
             ],
             [
              1,
              "#f0f921"
             ]
            ],
            "type": "histogram2dcontour"
           }
          ],
          "mesh3d": [
           {
            "colorbar": {
             "outlinewidth": 0,
             "ticks": ""
            },
            "type": "mesh3d"
           }
          ],
          "parcoords": [
           {
            "line": {
             "colorbar": {
              "outlinewidth": 0,
              "ticks": ""
             }
            },
            "type": "parcoords"
           }
          ],
          "pie": [
           {
            "automargin": true,
            "type": "pie"
           }
          ],
          "scatter": [
           {
            "fillpattern": {
             "fillmode": "overlay",
             "size": 10,
             "solidity": 0.2
            },
            "type": "scatter"
           }
          ],
          "scatter3d": [
           {
            "line": {
             "colorbar": {
              "outlinewidth": 0,
              "ticks": ""
             }
            },
            "marker": {
             "colorbar": {
              "outlinewidth": 0,
              "ticks": ""
             }
            },
            "type": "scatter3d"
           }
          ],
          "scattercarpet": [
           {
            "marker": {
             "colorbar": {
              "outlinewidth": 0,
              "ticks": ""
             }
            },
            "type": "scattercarpet"
           }
          ],
          "scattergeo": [
           {
            "marker": {
             "colorbar": {
              "outlinewidth": 0,
              "ticks": ""
             }
            },
            "type": "scattergeo"
           }
          ],
          "scattergl": [
           {
            "marker": {
             "colorbar": {
              "outlinewidth": 0,
              "ticks": ""
             }
            },
            "type": "scattergl"
           }
          ],
          "scattermapbox": [
           {
            "marker": {
             "colorbar": {
              "outlinewidth": 0,
              "ticks": ""
             }
            },
            "type": "scattermapbox"
           }
          ],
          "scatterpolar": [
           {
            "marker": {
             "colorbar": {
              "outlinewidth": 0,
              "ticks": ""
             }
            },
            "type": "scatterpolar"
           }
          ],
          "scatterpolargl": [
           {
            "marker": {
             "colorbar": {
              "outlinewidth": 0,
              "ticks": ""
             }
            },
            "type": "scatterpolargl"
           }
          ],
          "scatterternary": [
           {
            "marker": {
             "colorbar": {
              "outlinewidth": 0,
              "ticks": ""
             }
            },
            "type": "scatterternary"
           }
          ],
          "surface": [
           {
            "colorbar": {
             "outlinewidth": 0,
             "ticks": ""
            },
            "colorscale": [
             [
              0,
              "#0d0887"
             ],
             [
              0.1111111111111111,
              "#46039f"
             ],
             [
              0.2222222222222222,
              "#7201a8"
             ],
             [
              0.3333333333333333,
              "#9c179e"
             ],
             [
              0.4444444444444444,
              "#bd3786"
             ],
             [
              0.5555555555555556,
              "#d8576b"
             ],
             [
              0.6666666666666666,
              "#ed7953"
             ],
             [
              0.7777777777777778,
              "#fb9f3a"
             ],
             [
              0.8888888888888888,
              "#fdca26"
             ],
             [
              1,
              "#f0f921"
             ]
            ],
            "type": "surface"
           }
          ],
          "table": [
           {
            "cells": {
             "fill": {
              "color": "#EBF0F8"
             },
             "line": {
              "color": "white"
             }
            },
            "header": {
             "fill": {
              "color": "#C8D4E3"
             },
             "line": {
              "color": "white"
             }
            },
            "type": "table"
           }
          ]
         },
         "layout": {
          "annotationdefaults": {
           "arrowcolor": "#2a3f5f",
           "arrowhead": 0,
           "arrowwidth": 1
          },
          "autotypenumbers": "strict",
          "coloraxis": {
           "colorbar": {
            "outlinewidth": 0,
            "ticks": ""
           }
          },
          "colorscale": {
           "diverging": [
            [
             0,
             "#8e0152"
            ],
            [
             0.1,
             "#c51b7d"
            ],
            [
             0.2,
             "#de77ae"
            ],
            [
             0.3,
             "#f1b6da"
            ],
            [
             0.4,
             "#fde0ef"
            ],
            [
             0.5,
             "#f7f7f7"
            ],
            [
             0.6,
             "#e6f5d0"
            ],
            [
             0.7,
             "#b8e186"
            ],
            [
             0.8,
             "#7fbc41"
            ],
            [
             0.9,
             "#4d9221"
            ],
            [
             1,
             "#276419"
            ]
           ],
           "sequential": [
            [
             0,
             "#0d0887"
            ],
            [
             0.1111111111111111,
             "#46039f"
            ],
            [
             0.2222222222222222,
             "#7201a8"
            ],
            [
             0.3333333333333333,
             "#9c179e"
            ],
            [
             0.4444444444444444,
             "#bd3786"
            ],
            [
             0.5555555555555556,
             "#d8576b"
            ],
            [
             0.6666666666666666,
             "#ed7953"
            ],
            [
             0.7777777777777778,
             "#fb9f3a"
            ],
            [
             0.8888888888888888,
             "#fdca26"
            ],
            [
             1,
             "#f0f921"
            ]
           ],
           "sequentialminus": [
            [
             0,
             "#0d0887"
            ],
            [
             0.1111111111111111,
             "#46039f"
            ],
            [
             0.2222222222222222,
             "#7201a8"
            ],
            [
             0.3333333333333333,
             "#9c179e"
            ],
            [
             0.4444444444444444,
             "#bd3786"
            ],
            [
             0.5555555555555556,
             "#d8576b"
            ],
            [
             0.6666666666666666,
             "#ed7953"
            ],
            [
             0.7777777777777778,
             "#fb9f3a"
            ],
            [
             0.8888888888888888,
             "#fdca26"
            ],
            [
             1,
             "#f0f921"
            ]
           ]
          },
          "colorway": [
           "#636efa",
           "#EF553B",
           "#00cc96",
           "#ab63fa",
           "#FFA15A",
           "#19d3f3",
           "#FF6692",
           "#B6E880",
           "#FF97FF",
           "#FECB52"
          ],
          "font": {
           "color": "#2a3f5f"
          },
          "geo": {
           "bgcolor": "white",
           "lakecolor": "white",
           "landcolor": "#E5ECF6",
           "showlakes": true,
           "showland": true,
           "subunitcolor": "white"
          },
          "hoverlabel": {
           "align": "left"
          },
          "hovermode": "closest",
          "mapbox": {
           "style": "light"
          },
          "paper_bgcolor": "white",
          "plot_bgcolor": "#E5ECF6",
          "polar": {
           "angularaxis": {
            "gridcolor": "white",
            "linecolor": "white",
            "ticks": ""
           },
           "bgcolor": "#E5ECF6",
           "radialaxis": {
            "gridcolor": "white",
            "linecolor": "white",
            "ticks": ""
           }
          },
          "scene": {
           "xaxis": {
            "backgroundcolor": "#E5ECF6",
            "gridcolor": "white",
            "gridwidth": 2,
            "linecolor": "white",
            "showbackground": true,
            "ticks": "",
            "zerolinecolor": "white"
           },
           "yaxis": {
            "backgroundcolor": "#E5ECF6",
            "gridcolor": "white",
            "gridwidth": 2,
            "linecolor": "white",
            "showbackground": true,
            "ticks": "",
            "zerolinecolor": "white"
           },
           "zaxis": {
            "backgroundcolor": "#E5ECF6",
            "gridcolor": "white",
            "gridwidth": 2,
            "linecolor": "white",
            "showbackground": true,
            "ticks": "",
            "zerolinecolor": "white"
           }
          },
          "shapedefaults": {
           "line": {
            "color": "#2a3f5f"
           }
          },
          "ternary": {
           "aaxis": {
            "gridcolor": "white",
            "linecolor": "white",
            "ticks": ""
           },
           "baxis": {
            "gridcolor": "white",
            "linecolor": "white",
            "ticks": ""
           },
           "bgcolor": "#E5ECF6",
           "caxis": {
            "gridcolor": "white",
            "linecolor": "white",
            "ticks": ""
           }
          },
          "title": {
           "x": 0.05
          },
          "xaxis": {
           "automargin": true,
           "gridcolor": "white",
           "linecolor": "white",
           "ticks": "",
           "title": {
            "standoff": 15
           },
           "zerolinecolor": "white",
           "zerolinewidth": 2
          },
          "yaxis": {
           "automargin": true,
           "gridcolor": "white",
           "linecolor": "white",
           "ticks": "",
           "title": {
            "standoff": 15
           },
           "zerolinecolor": "white",
           "zerolinewidth": 2
          }
         }
        },
        "width": 1200
       }
      }
     },
     "metadata": {},
     "output_type": "display_data"
    }
   ],
   "source": [
    "\n",
    "px.scatter_mapbox(df_breweries, lat='latitude',lon='longitude', color='stars', size='review_count', size_max=30, zoom=3, width=1200, height=800)"
   ]
  },
  {
   "cell_type": "code",
   "execution_count": 74,
   "metadata": {},
   "outputs": [
    {
     "data": {
      "application/vnd.plotly.v1+json": {
       "config": {
        "plotlyServerURL": "https://plot.ly"
       },
       "data": [
        {
         "hovertemplate": "review_count=%{marker.size}<br>latitude=%{lat}<br>longitude=%{lon}<br>stars=%{marker.color}<extra></extra>",
         "lat": [
          40.3381827,
          39.9625821,
          40.035282,
          40.1298141,
          40.2279048915,
          40.247596,
          39.952126,
          39.948902,
          40.2636267,
          40.0066759391,
          40.2437403,
          39.952616,
          40.1820951,
          40.220294,
          39.9736435923,
          39.9667,
          40.179341,
          39.9744581,
          40.3110241,
          39.9628296,
          40.3971,
          39.9775302,
          39.94761,
          40.0945067,
          40.1413641125,
          40.1089421227,
          40.0885697,
          40.1853487896,
          40.0852019,
          39.9772706548,
          39.82533048,
          39.9609706195,
          40.2339045,
          40.0997996,
          39.9587612,
          40.0446083,
          40.0561939,
          40.0750694,
          39.960528,
          40.0427547,
          40.1340672,
          40.1213203,
          40.0802597,
          40.130919,
          40.0700084807,
          40.02981848,
          39.8424600423,
          40.441594,
          39.9561946841,
          40.0253102,
          40.086094,
          40.1060945,
          40.1266014,
          40.162025,
          40.1359706277,
          39.950221,
          39.948506,
          40.2565223549,
          40.1942293,
          39.9846878,
          40.147441,
          39.9175793684,
          40.1078347,
          40.2423665,
          39.9568924,
          40.059176,
          40.0349311,
          40.3457562693,
          39.9515764639,
          39.9484739,
          40.0235057,
          40.0536485528,
          40.1341234,
          39.865437,
          39.9289360744,
          39.9391831963,
          39.960817,
          40.1568009,
          40.1051193,
          39.9269698,
          40.3642728,
          39.9590722536,
          39.9044484999,
          40.0253102242,
          40.0240264,
          40.3654270954,
          40.074276,
          40.0945825,
          39.9603099077,
          40.2307865271,
          39.9775836,
          40.3320701,
          40.1343728096,
          39.8444365,
          40.10131,
          39.9557476,
          40.3651772211,
          39.8467373,
          40.324379,
          40.1192525,
          40.0136369648,
          39.9763680823,
          40.0696387843,
          39.9852488,
          40.1334835,
          39.9607952311,
          40.0229869,
          40.0736955,
          40.128968,
          40.2799108111,
          40.1542749,
          39.9583399,
          39.9724958,
          39.9852575,
          40.0476220049,
          39.9671254924,
          40.0399294,
          39.9477306374,
          39.9261812341,
          39.862061,
          40.130997625,
          39.9652138,
          40.0487466,
          40.3105021,
          40.0780419,
          40.1804513,
          39.9625821369,
          40.1959631,
          40.0629418275,
          40.0539009,
          40.1328404383,
          39.962137,
          39.9757885,
          40.177201,
          40.2160031388,
          40.148549,
          39.9826101,
          39.8549869689,
          40.2653148078,
          40.0875557319,
          40.1340014427,
          40.1337010559,
          39.856367,
          39.9530598,
          40.0887758,
          40.004724153,
          40.2518873857,
          40.0068182,
          39.9412093,
          40.36217,
          40.2274364,
          40.0378279,
          40.2436138,
          40.1745828,
          40.2383491,
          40.0741808,
          40.0915290875,
          40.084106,
          40.207844,
          40.1855636,
          40.3105021,
          39.9614570819,
          40.1297271,
          39.9239563124,
          40.2893931,
          40.245577,
          40.0086639,
          39.977299,
          40.144655,
          40.0176257845,
          40.151529,
          39.9182627,
          40.084106,
          40.0274932,
          40.0086321,
          39.9701645,
          40.072159,
          39.9501977,
          40.155282,
          40.2360700766,
          40.1409367,
          40.245868,
          39.9801329616,
          40.022471,
          39.9677250832
         ],
         "legendgroup": "",
         "lon": [
          -75.4716585,
          -75.1356571,
          -75.5552598633,
          -75.5764069,
          -75.4043170169,
          -75.720699,
          -75.186438,
          -75.587254,
          -75.2835425,
          -75.2903721129,
          -75.2865954,
          -75.159445,
          -74.9056134,
          -75.279396,
          -75.1395907626,
          -75.13997,
          -75.1048453,
          -75.1808263,
          -75.1308993,
          -75.1719117,
          -75.1543,
          -75.1855542,
          -75.22253,
          -75.1255616,
          -75.0062698871,
          -75.3447142113,
          -75.0926421,
          -75.4529857635,
          -74.9019637,
          -75.1435684785,
          -75.7836088885,
          -75.146908,
          -75.2709627,
          -75.1491112,
          -75.61067,
          -75.1818294,
          -75.667209,
          -75.2055144,
          -75.605486,
          -75.0102746,
          -75.5137942,
          -74.9764089,
          -75.6902378,
          -75.547578,
          -75.4443346941,
          -75.63039501,
          -75.7068300247,
          -75.3355242,
          -75.1689851604,
          -75.2227694,
          -75.230789,
          -75.1470899,
          -75.4165221,
          -75.23432,
          -75.5458424386,
          -75.166583,
          -75.143475,
          -75.3440810367,
          -75.5340012,
          -75.1224542,
          -75.0269164,
          -75.388318839,
          -74.9008725,
          -74.8385061,
          -75.1695151,
          -75.1904467,
          -75.2170593,
          -75.0336737491,
          -75.1596684381,
          -75.1435556,
          -75.3227774,
          -75.5267200936,
          -75.512543,
          -75.3425,
          -75.1650834829,
          -75.1792988554,
          -75.601902,
          -75.2180486,
          -74.8594624,
          -75.1710674,
          -74.9512785,
          -75.6062233821,
          -75.1696318388,
          -75.2227694169,
          -75.0361858,
          -75.2879559153,
          -75.20258,
          -75.1252351,
          -75.1554151252,
          -75.1369362138,
          -75.1853081,
          -75.6353558,
          -75.5161316693,
          -75.7196478,
          -75.152418,
          -75.144334,
          -74.9539691582,
          -75.7098447,
          -75.06132,
          -75.3535838,
          -75.2006627311,
          -75.1375425607,
          -75.4442427596,
          -75.3082941,
          -75.5173656,
          -75.6017864126,
          -75.1616977,
          -75.2925155,
          -75.453737,
          -75.2156012877,
          -75.2229967,
          -75.6106018,
          -75.3151004,
          -75.3085305,
          -75.4415199906,
          -75.1661240918,
          -75.5428708,
          -75.2227761947,
          -75.1730921385,
          -75.543657,
          -75.5194324628,
          -75.1355053,
          -75.1953934,
          -75.1291577,
          -75.6347654,
          -75.5480057,
          -75.1356569678,
          -75.5336293,
          -75.1929348251,
          -75.1941853,
          -75.5209848148,
          -75.153399,
          -75.133938,
          -75.1066071,
          -75.2765133125,
          -75.02248,
          -75.1273561,
          -75.4257186651,
          -75.6683065445,
          -75.3933920029,
          -75.5163239386,
          -75.5178608436,
          -75.403889,
          -75.1606397,
          -75.3920693,
          -75.6938191261,
          -75.2387094498,
          -75.7008481,
          -75.1522391,
          -74.951146,
          -74.9098704,
          -75.6333107,
          -75.2875736,
          -74.9485052,
          -74.8358169,
          -75.2030783,
          -75.3502310067,
          -75.250293,
          -75.2235665,
          -75.452407,
          -75.1291577,
          -75.1541474462,
          -75.3450439,
          -75.1788754016,
          -75.1994282,
          -75.648378,
          -75.2976249,
          -75.143601,
          -75.167492,
          -75.3222002462,
          -75.305562,
          -75.3980514,
          -75.250293,
          -75.218518,
          -75.2937697,
          -75.1475834,
          -74.9399661,
          -75.1666386,
          -75.221012,
          -74.9434574254,
          -75.5480946,
          -75.649334,
          -75.1291918382,
          -75.2188,
          -75.1340245083
         ],
         "marker": {
          "color": [
           4.5,
           3.5,
           4.5,
           4.5,
           4,
           4,
           3.5,
           4.5,
           5,
           4,
           4.5,
           4.5,
           3.5,
           4.5,
           4,
           4,
           4.5,
           4.5,
           4.5,
           3.5,
           4.5,
           3,
           4,
           3,
           5,
           4,
           4,
           3.5,
           4.5,
           4.5,
           4.5,
           4,
           3.5,
           4.5,
           4.5,
           5,
           3.5,
           3.5,
           3.5,
           3.5,
           4,
           2,
           4.5,
           3.5,
           3,
           3.5,
           4,
           4,
           4.5,
           4.5,
           3,
           3,
           4,
           4.5,
           4.5,
           3.5,
           3.5,
           4,
           3,
           4.5,
           4.5,
           3.5,
           4.5,
           4,
           4,
           4,
           5,
           3.5,
           4,
           4,
           3.5,
           4,
           4,
           2,
           4.5,
           3.5,
           3.5,
           5,
           4.5,
           4.5,
           4.5,
           4,
           3,
           3.5,
           4,
           4.5,
           4.5,
           4,
           4.5,
           2.5,
           3,
           4,
           4.5,
           3.5,
           4,
           5,
           3.5,
           4.5,
           4.5,
           3.5,
           4,
           4.5,
           4.5,
           5,
           4,
           3.5,
           4.5,
           4,
           4,
           4.5,
           4,
           4.5,
           4,
           3.5,
           4.5,
           4.5,
           3,
           4,
           4,
           3,
           5,
           3.5,
           4.5,
           3.5,
           4.5,
           4.5,
           4,
           4.5,
           4,
           4.5,
           4,
           4,
           4,
           5,
           4.5,
           4,
           4.5,
           4.5,
           4,
           3.5,
           4,
           4,
           4.5,
           5,
           4,
           4,
           4.5,
           4.5,
           3,
           4,
           4,
           4,
           4,
           3.5,
           4,
           3.5,
           4.5,
           3.5,
           3.5,
           4.5,
           3.5,
           4,
           4.5,
           4.5,
           3.5,
           4.5,
           3.5,
           4,
           4.5,
           4.5,
           3.5,
           3.5,
           4,
           4.5,
           4,
           4.5,
           4.5,
           4,
           4,
           3.5,
           4,
           4.5,
           4,
           3.5,
           3.5
          ],
          "coloraxis": "coloraxis",
          "size": [
           13,
           65,
           29,
           56,
           29,
           71,
           30,
           75,
           36,
           459,
           65,
           5,
           5,
           17,
           24,
           221,
           56,
           178,
           21,
           6,
           18,
           12,
           13,
           63,
           6,
           207,
           223,
           154,
           115,
           40,
           18,
           755,
           122,
           29,
           7,
           12,
           41,
           384,
           353,
           5,
           274,
           9,
           48,
           162,
           162,
           323,
           41,
           113,
           51,
           23,
           114,
           19,
           34,
           7,
           6,
           339,
           318,
           29,
           32,
           18,
           51,
           427,
           7,
           632,
           5,
           380,
           54,
           172,
           324,
           561,
           101,
           21,
           117,
           15,
           20,
           93,
           53,
           20,
           10,
           209,
           19,
           48,
           361,
           6,
           5,
           75,
           108,
           138,
           162,
           29,
           129,
           73,
           150,
           200,
           75,
           20,
           490,
           116,
           25,
           19,
           95,
           27,
           5,
           17,
           54,
           15,
           27,
           140,
           30,
           98,
           243,
           6,
           8,
           110,
           171,
           387,
           211,
           549,
           103,
           174,
           6,
           149,
           12,
           13,
           28,
           34,
           23,
           72,
           27,
           51,
           132,
           42,
           283,
           7,
           22,
           18,
           150,
           9,
           133,
           274,
           116,
           66,
           40,
           68,
           16,
           592,
           26,
           75,
           347,
           41,
           27,
           84,
           168,
           15,
           14,
           10,
           66,
           124,
           283,
           73,
           44,
           151,
           8,
           53,
           9,
           48,
           208,
           83,
           17,
           55,
           8,
           252,
           35,
           26,
           452,
           6,
           99,
           221,
           41,
           91,
           21,
           50,
           9,
           692,
           95
          ],
          "sizemode": "area",
          "sizeref": 3.3555555555555556
         },
         "mode": "markers",
         "name": "",
         "showlegend": false,
         "subplot": "mapbox",
         "type": "scattermapbox"
        }
       ],
       "layout": {
        "coloraxis": {
         "colorbar": {
          "title": {
           "text": "stars"
          }
         },
         "colorscale": [
          [
           0,
           "#0d0887"
          ],
          [
           0.1111111111111111,
           "#46039f"
          ],
          [
           0.2222222222222222,
           "#7201a8"
          ],
          [
           0.3333333333333333,
           "#9c179e"
          ],
          [
           0.4444444444444444,
           "#bd3786"
          ],
          [
           0.5555555555555556,
           "#d8576b"
          ],
          [
           0.6666666666666666,
           "#ed7953"
          ],
          [
           0.7777777777777778,
           "#fb9f3a"
          ],
          [
           0.8888888888888888,
           "#fdca26"
          ],
          [
           1,
           "#f0f921"
          ]
         ]
        },
        "height": 800,
        "legend": {
         "itemsizing": "constant",
         "tracegroupgap": 0
        },
        "mapbox": {
         "center": {
          "lat": 40.07821385447514,
          "lon": -75.28264301362324
         },
         "domain": {
          "x": [
           0,
           1
          ],
          "y": [
           0,
           1
          ]
         },
         "zoom": 10
        },
        "margin": {
         "t": 60
        },
        "template": {
         "data": {
          "bar": [
           {
            "error_x": {
             "color": "#2a3f5f"
            },
            "error_y": {
             "color": "#2a3f5f"
            },
            "marker": {
             "line": {
              "color": "#E5ECF6",
              "width": 0.5
             },
             "pattern": {
              "fillmode": "overlay",
              "size": 10,
              "solidity": 0.2
             }
            },
            "type": "bar"
           }
          ],
          "barpolar": [
           {
            "marker": {
             "line": {
              "color": "#E5ECF6",
              "width": 0.5
             },
             "pattern": {
              "fillmode": "overlay",
              "size": 10,
              "solidity": 0.2
             }
            },
            "type": "barpolar"
           }
          ],
          "carpet": [
           {
            "aaxis": {
             "endlinecolor": "#2a3f5f",
             "gridcolor": "white",
             "linecolor": "white",
             "minorgridcolor": "white",
             "startlinecolor": "#2a3f5f"
            },
            "baxis": {
             "endlinecolor": "#2a3f5f",
             "gridcolor": "white",
             "linecolor": "white",
             "minorgridcolor": "white",
             "startlinecolor": "#2a3f5f"
            },
            "type": "carpet"
           }
          ],
          "choropleth": [
           {
            "colorbar": {
             "outlinewidth": 0,
             "ticks": ""
            },
            "type": "choropleth"
           }
          ],
          "contour": [
           {
            "colorbar": {
             "outlinewidth": 0,
             "ticks": ""
            },
            "colorscale": [
             [
              0,
              "#0d0887"
             ],
             [
              0.1111111111111111,
              "#46039f"
             ],
             [
              0.2222222222222222,
              "#7201a8"
             ],
             [
              0.3333333333333333,
              "#9c179e"
             ],
             [
              0.4444444444444444,
              "#bd3786"
             ],
             [
              0.5555555555555556,
              "#d8576b"
             ],
             [
              0.6666666666666666,
              "#ed7953"
             ],
             [
              0.7777777777777778,
              "#fb9f3a"
             ],
             [
              0.8888888888888888,
              "#fdca26"
             ],
             [
              1,
              "#f0f921"
             ]
            ],
            "type": "contour"
           }
          ],
          "contourcarpet": [
           {
            "colorbar": {
             "outlinewidth": 0,
             "ticks": ""
            },
            "type": "contourcarpet"
           }
          ],
          "heatmap": [
           {
            "colorbar": {
             "outlinewidth": 0,
             "ticks": ""
            },
            "colorscale": [
             [
              0,
              "#0d0887"
             ],
             [
              0.1111111111111111,
              "#46039f"
             ],
             [
              0.2222222222222222,
              "#7201a8"
             ],
             [
              0.3333333333333333,
              "#9c179e"
             ],
             [
              0.4444444444444444,
              "#bd3786"
             ],
             [
              0.5555555555555556,
              "#d8576b"
             ],
             [
              0.6666666666666666,
              "#ed7953"
             ],
             [
              0.7777777777777778,
              "#fb9f3a"
             ],
             [
              0.8888888888888888,
              "#fdca26"
             ],
             [
              1,
              "#f0f921"
             ]
            ],
            "type": "heatmap"
           }
          ],
          "heatmapgl": [
           {
            "colorbar": {
             "outlinewidth": 0,
             "ticks": ""
            },
            "colorscale": [
             [
              0,
              "#0d0887"
             ],
             [
              0.1111111111111111,
              "#46039f"
             ],
             [
              0.2222222222222222,
              "#7201a8"
             ],
             [
              0.3333333333333333,
              "#9c179e"
             ],
             [
              0.4444444444444444,
              "#bd3786"
             ],
             [
              0.5555555555555556,
              "#d8576b"
             ],
             [
              0.6666666666666666,
              "#ed7953"
             ],
             [
              0.7777777777777778,
              "#fb9f3a"
             ],
             [
              0.8888888888888888,
              "#fdca26"
             ],
             [
              1,
              "#f0f921"
             ]
            ],
            "type": "heatmapgl"
           }
          ],
          "histogram": [
           {
            "marker": {
             "pattern": {
              "fillmode": "overlay",
              "size": 10,
              "solidity": 0.2
             }
            },
            "type": "histogram"
           }
          ],
          "histogram2d": [
           {
            "colorbar": {
             "outlinewidth": 0,
             "ticks": ""
            },
            "colorscale": [
             [
              0,
              "#0d0887"
             ],
             [
              0.1111111111111111,
              "#46039f"
             ],
             [
              0.2222222222222222,
              "#7201a8"
             ],
             [
              0.3333333333333333,
              "#9c179e"
             ],
             [
              0.4444444444444444,
              "#bd3786"
             ],
             [
              0.5555555555555556,
              "#d8576b"
             ],
             [
              0.6666666666666666,
              "#ed7953"
             ],
             [
              0.7777777777777778,
              "#fb9f3a"
             ],
             [
              0.8888888888888888,
              "#fdca26"
             ],
             [
              1,
              "#f0f921"
             ]
            ],
            "type": "histogram2d"
           }
          ],
          "histogram2dcontour": [
           {
            "colorbar": {
             "outlinewidth": 0,
             "ticks": ""
            },
            "colorscale": [
             [
              0,
              "#0d0887"
             ],
             [
              0.1111111111111111,
              "#46039f"
             ],
             [
              0.2222222222222222,
              "#7201a8"
             ],
             [
              0.3333333333333333,
              "#9c179e"
             ],
             [
              0.4444444444444444,
              "#bd3786"
             ],
             [
              0.5555555555555556,
              "#d8576b"
             ],
             [
              0.6666666666666666,
              "#ed7953"
             ],
             [
              0.7777777777777778,
              "#fb9f3a"
             ],
             [
              0.8888888888888888,
              "#fdca26"
             ],
             [
              1,
              "#f0f921"
             ]
            ],
            "type": "histogram2dcontour"
           }
          ],
          "mesh3d": [
           {
            "colorbar": {
             "outlinewidth": 0,
             "ticks": ""
            },
            "type": "mesh3d"
           }
          ],
          "parcoords": [
           {
            "line": {
             "colorbar": {
              "outlinewidth": 0,
              "ticks": ""
             }
            },
            "type": "parcoords"
           }
          ],
          "pie": [
           {
            "automargin": true,
            "type": "pie"
           }
          ],
          "scatter": [
           {
            "fillpattern": {
             "fillmode": "overlay",
             "size": 10,
             "solidity": 0.2
            },
            "type": "scatter"
           }
          ],
          "scatter3d": [
           {
            "line": {
             "colorbar": {
              "outlinewidth": 0,
              "ticks": ""
             }
            },
            "marker": {
             "colorbar": {
              "outlinewidth": 0,
              "ticks": ""
             }
            },
            "type": "scatter3d"
           }
          ],
          "scattercarpet": [
           {
            "marker": {
             "colorbar": {
              "outlinewidth": 0,
              "ticks": ""
             }
            },
            "type": "scattercarpet"
           }
          ],
          "scattergeo": [
           {
            "marker": {
             "colorbar": {
              "outlinewidth": 0,
              "ticks": ""
             }
            },
            "type": "scattergeo"
           }
          ],
          "scattergl": [
           {
            "marker": {
             "colorbar": {
              "outlinewidth": 0,
              "ticks": ""
             }
            },
            "type": "scattergl"
           }
          ],
          "scattermapbox": [
           {
            "marker": {
             "colorbar": {
              "outlinewidth": 0,
              "ticks": ""
             }
            },
            "type": "scattermapbox"
           }
          ],
          "scatterpolar": [
           {
            "marker": {
             "colorbar": {
              "outlinewidth": 0,
              "ticks": ""
             }
            },
            "type": "scatterpolar"
           }
          ],
          "scatterpolargl": [
           {
            "marker": {
             "colorbar": {
              "outlinewidth": 0,
              "ticks": ""
             }
            },
            "type": "scatterpolargl"
           }
          ],
          "scatterternary": [
           {
            "marker": {
             "colorbar": {
              "outlinewidth": 0,
              "ticks": ""
             }
            },
            "type": "scatterternary"
           }
          ],
          "surface": [
           {
            "colorbar": {
             "outlinewidth": 0,
             "ticks": ""
            },
            "colorscale": [
             [
              0,
              "#0d0887"
             ],
             [
              0.1111111111111111,
              "#46039f"
             ],
             [
              0.2222222222222222,
              "#7201a8"
             ],
             [
              0.3333333333333333,
              "#9c179e"
             ],
             [
              0.4444444444444444,
              "#bd3786"
             ],
             [
              0.5555555555555556,
              "#d8576b"
             ],
             [
              0.6666666666666666,
              "#ed7953"
             ],
             [
              0.7777777777777778,
              "#fb9f3a"
             ],
             [
              0.8888888888888888,
              "#fdca26"
             ],
             [
              1,
              "#f0f921"
             ]
            ],
            "type": "surface"
           }
          ],
          "table": [
           {
            "cells": {
             "fill": {
              "color": "#EBF0F8"
             },
             "line": {
              "color": "white"
             }
            },
            "header": {
             "fill": {
              "color": "#C8D4E3"
             },
             "line": {
              "color": "white"
             }
            },
            "type": "table"
           }
          ]
         },
         "layout": {
          "annotationdefaults": {
           "arrowcolor": "#2a3f5f",
           "arrowhead": 0,
           "arrowwidth": 1
          },
          "autotypenumbers": "strict",
          "coloraxis": {
           "colorbar": {
            "outlinewidth": 0,
            "ticks": ""
           }
          },
          "colorscale": {
           "diverging": [
            [
             0,
             "#8e0152"
            ],
            [
             0.1,
             "#c51b7d"
            ],
            [
             0.2,
             "#de77ae"
            ],
            [
             0.3,
             "#f1b6da"
            ],
            [
             0.4,
             "#fde0ef"
            ],
            [
             0.5,
             "#f7f7f7"
            ],
            [
             0.6,
             "#e6f5d0"
            ],
            [
             0.7,
             "#b8e186"
            ],
            [
             0.8,
             "#7fbc41"
            ],
            [
             0.9,
             "#4d9221"
            ],
            [
             1,
             "#276419"
            ]
           ],
           "sequential": [
            [
             0,
             "#0d0887"
            ],
            [
             0.1111111111111111,
             "#46039f"
            ],
            [
             0.2222222222222222,
             "#7201a8"
            ],
            [
             0.3333333333333333,
             "#9c179e"
            ],
            [
             0.4444444444444444,
             "#bd3786"
            ],
            [
             0.5555555555555556,
             "#d8576b"
            ],
            [
             0.6666666666666666,
             "#ed7953"
            ],
            [
             0.7777777777777778,
             "#fb9f3a"
            ],
            [
             0.8888888888888888,
             "#fdca26"
            ],
            [
             1,
             "#f0f921"
            ]
           ],
           "sequentialminus": [
            [
             0,
             "#0d0887"
            ],
            [
             0.1111111111111111,
             "#46039f"
            ],
            [
             0.2222222222222222,
             "#7201a8"
            ],
            [
             0.3333333333333333,
             "#9c179e"
            ],
            [
             0.4444444444444444,
             "#bd3786"
            ],
            [
             0.5555555555555556,
             "#d8576b"
            ],
            [
             0.6666666666666666,
             "#ed7953"
            ],
            [
             0.7777777777777778,
             "#fb9f3a"
            ],
            [
             0.8888888888888888,
             "#fdca26"
            ],
            [
             1,
             "#f0f921"
            ]
           ]
          },
          "colorway": [
           "#636efa",
           "#EF553B",
           "#00cc96",
           "#ab63fa",
           "#FFA15A",
           "#19d3f3",
           "#FF6692",
           "#B6E880",
           "#FF97FF",
           "#FECB52"
          ],
          "font": {
           "color": "#2a3f5f"
          },
          "geo": {
           "bgcolor": "white",
           "lakecolor": "white",
           "landcolor": "#E5ECF6",
           "showlakes": true,
           "showland": true,
           "subunitcolor": "white"
          },
          "hoverlabel": {
           "align": "left"
          },
          "hovermode": "closest",
          "mapbox": {
           "style": "light"
          },
          "paper_bgcolor": "white",
          "plot_bgcolor": "#E5ECF6",
          "polar": {
           "angularaxis": {
            "gridcolor": "white",
            "linecolor": "white",
            "ticks": ""
           },
           "bgcolor": "#E5ECF6",
           "radialaxis": {
            "gridcolor": "white",
            "linecolor": "white",
            "ticks": ""
           }
          },
          "scene": {
           "xaxis": {
            "backgroundcolor": "#E5ECF6",
            "gridcolor": "white",
            "gridwidth": 2,
            "linecolor": "white",
            "showbackground": true,
            "ticks": "",
            "zerolinecolor": "white"
           },
           "yaxis": {
            "backgroundcolor": "#E5ECF6",
            "gridcolor": "white",
            "gridwidth": 2,
            "linecolor": "white",
            "showbackground": true,
            "ticks": "",
            "zerolinecolor": "white"
           },
           "zaxis": {
            "backgroundcolor": "#E5ECF6",
            "gridcolor": "white",
            "gridwidth": 2,
            "linecolor": "white",
            "showbackground": true,
            "ticks": "",
            "zerolinecolor": "white"
           }
          },
          "shapedefaults": {
           "line": {
            "color": "#2a3f5f"
           }
          },
          "ternary": {
           "aaxis": {
            "gridcolor": "white",
            "linecolor": "white",
            "ticks": ""
           },
           "baxis": {
            "gridcolor": "white",
            "linecolor": "white",
            "ticks": ""
           },
           "bgcolor": "#E5ECF6",
           "caxis": {
            "gridcolor": "white",
            "linecolor": "white",
            "ticks": ""
           }
          },
          "title": {
           "x": 0.05
          },
          "xaxis": {
           "automargin": true,
           "gridcolor": "white",
           "linecolor": "white",
           "ticks": "",
           "title": {
            "standoff": 15
           },
           "zerolinecolor": "white",
           "zerolinewidth": 2
          },
          "yaxis": {
           "automargin": true,
           "gridcolor": "white",
           "linecolor": "white",
           "ticks": "",
           "title": {
            "standoff": 15
           },
           "zerolinecolor": "white",
           "zerolinewidth": 2
          }
         }
        },
        "width": 1200
       }
      }
     },
     "metadata": {},
     "output_type": "display_data"
    }
   ],
   "source": [
    "vancouver = df_breweries[df_breweries.state == 'PA']\n",
    "px.scatter_mapbox(vancouver, lat='latitude', lon='longitude', color='stars', size='review_count', size_max=15, zoom=10, width=1200, height=800)\n"
   ]
  },
  {
   "cell_type": "markdown",
   "metadata": {},
   "source": [
    "KMeans clustering"
   ]
  },
  {
   "cell_type": "markdown",
   "metadata": {},
   "source": [
    "This is unsupervised clustering algorithm that groups  unlabelled data depending on how they are laid up in a space. It Uses eucledian distance which measures the difference between 2 points that is if there is point x and y, eucledian distance is ||x - y||.\n"
   ]
  },
  {
   "cell_type": "markdown",
   "metadata": {},
   "source": [
    "k-means establishes a hard clustering, meaning that each data point is assigned to one\n",
    "and only one cluster. The algorithm learns to position the cluster centers such that\n",
    "the total sum of the Euclidean distance between each data point and its cluster center\n",
    "is minimized."
   ]
  },
  {
   "cell_type": "markdown",
   "metadata": {},
   "source": [
    "well, This algorithm will group locations of breweries based on the distance between them into clusters such that if we give it a certain location based on latitude and longitude coordinates, it will show us breweries located nearby."
   ]
  },
  {
   "cell_type": "code",
   "execution_count": 75,
   "metadata": {},
   "outputs": [],
   "source": [
    "from sklearn.cluster import KMeans\n",
    "# specifiying our region latitude and longitudes\n",
    "coords = vancouver[['longitude','latitude']]\n",
    "# an empty list\n",
    "distortions = []\n",
    "# range of centroids that will be itrated to find appropriate cluster\n",
    "K = range(1, 25)\n",
    "for k in K:\n",
    "    # iterating inorder to get the right number of clusters\n",
    "    kmeans_m = KMeans(n_clusters = k)\n",
    "    # training our model\n",
    "    kmeans_m = kmeans_m.fit(coords)\n",
    "    # measuring how  well a dataset was clustered and addin into our empty list\n",
    "    distortions.append(kmeans_m.inertia_)\n"
   ]
  },
  {
   "cell_type": "markdown",
   "metadata": {},
   "source": [
    "Elbow Plot"
   ]
  },
  {
   "cell_type": "markdown",
   "metadata": {},
   "source": [
    "Below is a figure that will show the appropriate number of clusters to use in our model"
   ]
  },
  {
   "cell_type": "code",
   "execution_count": 76,
   "metadata": {},
   "outputs": [
    {
     "data": {
      "image/png": "[encoded data removed]",
      "text/plain": [
       "<Figure size 864x504 with 1 Axes>"
      ]
     },
     "metadata": {
      "needs_background": "light"
     },
     "output_type": "display_data"
    }
   ],
   "source": [
    "fig, ax = plt.subplots(figsize=(12, 7))\n",
    "plt.plot(K, distortions, marker = '+')\n",
    "plt.xlabel(\"k (number of clusters)\")\n",
    "plt.ylabel(\"distortions\")\n",
    "plt.title(\"Elbow method for optimal K\")\n",
    "plt.show()"
   ]
  },
  {
   "cell_type": "markdown",
   "metadata": {},
   "source": [
    "The above figure forms an elbow at 5 clusters where distortions/inertia starts to decrease in a linear manner thus 5 is the optimal number of clusters we will use in our model."
   ]
  },
  {
   "cell_type": "code",
   "execution_count": 77,
   "metadata": {},
   "outputs": [],
   "source": [
    "# using 5 clusters and \n",
    "kmeans = KMeans(n_clusters=5, init='k-means++')\n",
    "# trainign iour model based on Vancouver location\n",
    "kmeans.fit(coords)\n",
    "# receiving labels as indices of the clusters\n",
    "labels = kmeans.labels_"
   ]
  },
  {
   "cell_type": "code",
   "execution_count": 88,
   "metadata": {},
   "outputs": [
    {
     "name": "stderr",
     "output_type": "stream",
     "text": [
      "C:\\Users\\test\\AppData\\Local\\Temp\\ipykernel_6684\\3164257088.py:2: SettingWithCopyWarning:\n",
      "\n",
      "\n",
      "A value is trying to be set on a copy of a slice from a DataFrame.\n",
      "Try using .loc[row_indexer,col_indexer] = value instead\n",
      "\n",
      "See the caveats in the documentation: https://pandas.pydata.org/pandas-docs/stable/user_guide/indexing.html#returning-a-view-versus-a-copy\n",
      "\n"
     ]
    },
    {
     "data": {
      "text/html": [
       "<div>\n",
       "<style scoped>\n",
       "    .dataframe tbody tr th:only-of-type {\n",
       "        vertical-align: middle;\n",
       "    }\n",
       "\n",
       "    .dataframe tbody tr th {\n",
       "        vertical-align: top;\n",
       "    }\n",
       "\n",
       "    .dataframe thead th {\n",
       "        text-align: right;\n",
       "    }\n",
       "</style>\n",
       "<table border=\"1\" class=\"dataframe\">\n",
       "  <thead>\n",
       "    <tr style=\"text-align: right;\">\n",
       "      <th></th>\n",
       "      <th>business_id</th>\n",
       "      <th>name</th>\n",
       "      <th>latitude</th>\n",
       "      <th>longitude</th>\n",
       "      <th>city_state</th>\n",
       "      <th>cluster</th>\n",
       "    </tr>\n",
       "  </thead>\n",
       "  <tbody>\n",
       "    <tr>\n",
       "      <th>4</th>\n",
       "      <td>mWMc6_wTdE0EUBKIGXDVfA</td>\n",
       "      <td>Perkiomen Valley Brewery</td>\n",
       "      <td>40.338183</td>\n",
       "      <td>-75.471659</td>\n",
       "      <td>Green Lane PA</td>\n",
       "      <td>4</td>\n",
       "    </tr>\n",
       "    <tr>\n",
       "      <th>35</th>\n",
       "      <td>aPNXGTDkf-4bjhyMBQxqpQ</td>\n",
       "      <td>Craft Hall</td>\n",
       "      <td>39.962582</td>\n",
       "      <td>-75.135657</td>\n",
       "      <td>Philadelphia PA</td>\n",
       "      <td>1</td>\n",
       "    </tr>\n",
       "    <tr>\n",
       "      <th>640</th>\n",
       "      <td>SBgr-5n-kV3EeZztYsstUQ</td>\n",
       "      <td>Locust Lane Craft Brewery</td>\n",
       "      <td>40.035282</td>\n",
       "      <td>-75.555260</td>\n",
       "      <td>Malvern PA</td>\n",
       "      <td>2</td>\n",
       "    </tr>\n",
       "    <tr>\n",
       "      <th>1341</th>\n",
       "      <td>uxoQdZD3mEptaPohiLQg1w</td>\n",
       "      <td>Stone House Grille</td>\n",
       "      <td>40.129814</td>\n",
       "      <td>-75.576407</td>\n",
       "      <td>Kimberton PA</td>\n",
       "      <td>4</td>\n",
       "    </tr>\n",
       "    <tr>\n",
       "      <th>3301</th>\n",
       "      <td>23kqKB5n32XkHliOA2JfFg</td>\n",
       "      <td>Brothers Kershner Brewing Co.</td>\n",
       "      <td>40.227905</td>\n",
       "      <td>-75.404317</td>\n",
       "      <td>Schwenksville PA</td>\n",
       "      <td>4</td>\n",
       "    </tr>\n",
       "    <tr>\n",
       "      <th>3984</th>\n",
       "      <td>yQjEjXR3E_9bLTK-Xj07FA</td>\n",
       "      <td>Hidden River Brewing Company</td>\n",
       "      <td>40.247596</td>\n",
       "      <td>-75.720699</td>\n",
       "      <td>Douglassville PA</td>\n",
       "      <td>4</td>\n",
       "    </tr>\n",
       "    <tr>\n",
       "      <th>4306</th>\n",
       "      <td>dO4iyNK2KzLMe1kXLCskbw</td>\n",
       "      <td>St. Declan's Well</td>\n",
       "      <td>39.952126</td>\n",
       "      <td>-75.186438</td>\n",
       "      <td>Philadelphia PA</td>\n",
       "      <td>1</td>\n",
       "    </tr>\n",
       "    <tr>\n",
       "      <th>4823</th>\n",
       "      <td>Muftkox9yn0qai-SEpEZGQ</td>\n",
       "      <td>Levante Brewing Company</td>\n",
       "      <td>39.948902</td>\n",
       "      <td>-75.587254</td>\n",
       "      <td>West Chester PA</td>\n",
       "      <td>2</td>\n",
       "    </tr>\n",
       "    <tr>\n",
       "      <th>5078</th>\n",
       "      <td>pm8E0D_NXD7OEMIq8P3YNQ</td>\n",
       "      <td>Imprint Beer</td>\n",
       "      <td>40.263627</td>\n",
       "      <td>-75.283542</td>\n",
       "      <td>Hatfield PA</td>\n",
       "      <td>0</td>\n",
       "    </tr>\n",
       "    <tr>\n",
       "      <th>5138</th>\n",
       "      <td>gK9CdFaCXmHoW8aLfXiSqg</td>\n",
       "      <td>Tired Hands Fermentaria</td>\n",
       "      <td>40.006676</td>\n",
       "      <td>-75.290372</td>\n",
       "      <td>Ardmore PA</td>\n",
       "      <td>1</td>\n",
       "    </tr>\n",
       "    <tr>\n",
       "      <th>7263</th>\n",
       "      <td>indl78vhU8vTjq_kBJXhaA</td>\n",
       "      <td>Well Crafted Beer Company</td>\n",
       "      <td>40.243740</td>\n",
       "      <td>-75.286595</td>\n",
       "      <td>Lansdale PA</td>\n",
       "      <td>0</td>\n",
       "    </tr>\n",
       "    <tr>\n",
       "      <th>7858</th>\n",
       "      <td>pe01uqQsa6raj-4HWRjgGg</td>\n",
       "      <td>Independence Brew Pub</td>\n",
       "      <td>39.952616</td>\n",
       "      <td>-75.159445</td>\n",
       "      <td>Philadelphia PA</td>\n",
       "      <td>1</td>\n",
       "    </tr>\n",
       "    <tr>\n",
       "      <th>9149</th>\n",
       "      <td>oV7nQsD6m95ZsNk-ZLAj1A</td>\n",
       "      <td>Golden Beverage</td>\n",
       "      <td>40.182095</td>\n",
       "      <td>-74.905613</td>\n",
       "      <td>Langhorne PA</td>\n",
       "      <td>3</td>\n",
       "    </tr>\n",
       "  </tbody>\n",
       "</table>\n",
       "</div>"
      ],
      "text/plain": [
       "                 business_id                           name   latitude  \\\n",
       "4     mWMc6_wTdE0EUBKIGXDVfA       Perkiomen Valley Brewery  40.338183   \n",
       "35    aPNXGTDkf-4bjhyMBQxqpQ                     Craft Hall  39.962582   \n",
       "640   SBgr-5n-kV3EeZztYsstUQ      Locust Lane Craft Brewery  40.035282   \n",
       "1341  uxoQdZD3mEptaPohiLQg1w             Stone House Grille  40.129814   \n",
       "3301  23kqKB5n32XkHliOA2JfFg  Brothers Kershner Brewing Co.  40.227905   \n",
       "3984  yQjEjXR3E_9bLTK-Xj07FA   Hidden River Brewing Company  40.247596   \n",
       "4306  dO4iyNK2KzLMe1kXLCskbw              St. Declan's Well  39.952126   \n",
       "4823  Muftkox9yn0qai-SEpEZGQ        Levante Brewing Company  39.948902   \n",
       "5078  pm8E0D_NXD7OEMIq8P3YNQ                   Imprint Beer  40.263627   \n",
       "5138  gK9CdFaCXmHoW8aLfXiSqg        Tired Hands Fermentaria  40.006676   \n",
       "7263  indl78vhU8vTjq_kBJXhaA      Well Crafted Beer Company  40.243740   \n",
       "7858  pe01uqQsa6raj-4HWRjgGg          Independence Brew Pub  39.952616   \n",
       "9149  oV7nQsD6m95ZsNk-ZLAj1A                Golden Beverage  40.182095   \n",
       "\n",
       "      longitude        city_state  cluster  \n",
       "4    -75.471659     Green Lane PA        4  \n",
       "35   -75.135657   Philadelphia PA        1  \n",
       "640  -75.555260        Malvern PA        2  \n",
       "1341 -75.576407      Kimberton PA        4  \n",
       "3301 -75.404317  Schwenksville PA        4  \n",
       "3984 -75.720699  Douglassville PA        4  \n",
       "4306 -75.186438   Philadelphia PA        1  \n",
       "4823 -75.587254   West Chester PA        2  \n",
       "5078 -75.283542       Hatfield PA        0  \n",
       "5138 -75.290372        Ardmore PA        1  \n",
       "7263 -75.286595       Lansdale PA        0  \n",
       "7858 -75.159445   Philadelphia PA        1  \n",
       "9149 -74.905613      Langhorne PA        3  "
      ]
     },
     "execution_count": 88,
     "metadata": {},
     "output_type": "execute_result"
    }
   ],
   "source": [
    "# making prediction based on Vancouver location and clustering them\n",
    "vancouver['cluster'] = kmeans.predict(vancouver.loc[:, ['longitude','latitude']])\n",
    "# diplaying the clusters\n",
    "vancouver[['business_id', 'name', 'latitude', 'longitude', 'city_state', 'cluster']].head(13)"
   ]
  },
  {
   "cell_type": "code",
   "execution_count": 79,
   "metadata": {},
   "outputs": [
    {
     "data": {
      "application/vnd.plotly.v1+json": {
       "config": {
        "plotlyServerURL": "https://plot.ly"
       },
       "data": [
        {
         "customdata": [
          [
           "Perkiomen Valley Brewery",
           40.3381827,
           -75.4716585
          ],
          [
           "Craft Hall",
           39.9625821,
           -75.1356571
          ],
          [
           "Locust Lane Craft Brewery",
           40.035282,
           -75.5552598633
          ],
          [
           "Stone House Grille",
           40.1298141,
           -75.5764069
          ],
          [
           "Brothers Kershner Brewing Co.",
           40.2279048915,
           -75.4043170169
          ],
          [
           "Hidden River Brewing Company",
           40.247596,
           -75.720699
          ],
          [
           "St. Declan's Well",
           39.952126,
           -75.186438
          ],
          [
           "Levante Brewing Company",
           39.948902,
           -75.587254
          ],
          [
           "Imprint Beer",
           40.2636267,
           -75.2835425
          ],
          [
           "Tired Hands Fermentaria",
           40.0066759391,
           -75.2903721129
          ],
          [
           "Well Crafted Beer Company",
           40.2437403,
           -75.2865954
          ],
          [
           "Independence Brew Pub",
           39.952616,
           -75.159445
          ],
          [
           "Golden Beverage",
           40.1820951,
           -74.9056134
          ],
          [
           "McAllister Brewing",
           40.220294,
           -75.279396
          ],
          [
           "Punch Buggy Brewing",
           39.9736435923,
           -75.1395907626
          ],
          [
           "Urban Village Brewing Co",
           39.9667,
           -75.13997
          ],
          [
           "Crooked Eye Brewery",
           40.179341,
           -75.1048453
          ],
          [
           "Crime & Punishment Brewing",
           39.9744581,
           -75.1808263
          ],
          [
           "Geronimo Brewing at Lillyâs Jury Room",
           40.3110241,
           -75.1308993
          ],
          [
           "Tiedhouse",
           39.9628296,
           -75.1719117
          ],
          [
           "Bucks County Brewery",
           40.3971,
           -75.1543
          ],
          [
           "Brewerytown Taproom",
           39.9775302,
           -75.1855542
          ],
          [
           "Dock Street Cannery and Tasting Room",
           39.94761,
           -75.22253
          ],
          [
           "Guild Hall Brewing Company",
           40.0945067,
           -75.1255616
          ],
          [
           "Wine Barley & Hops Homebrew Supply",
           40.1413641125,
           -75.0062698871
          ],
          [
           "Puddlers Kitchen & Tap- Conshohocken Brewing",
           40.1089421227,
           -75.3447142113
          ],
          [
           "Iron Hill Brewery & Restaurant",
           40.0885697,
           -75.0926421
          ],
          [
           "Appalachian Brewing Co.",
           40.1853487896,
           -75.4529857635
          ],
          [
           "Neshaminy Creek Brewing Company",
           40.0852019,
           -74.9019637
          ],
          [
           "Human Robot",
           39.9772706548,
           -75.1435684785
          ],
          [
           "Be Here Brewing Company",
           39.82533048,
           -75.7836088885
          ],
          [
           "Yards Brewing Company",
           39.9609706195,
           -75.146908
          ],
          [
           "Prism Brewing Company",
           40.2339045,
           -75.2709627
          ],
          [
           "Bill's Best",
           40.0997996,
           -75.1491112
          ],
          [
           "Wrong Crowd Beer Co",
           39.9587612,
           -75.61067
          ],
          [
           "Young American Cider",
           40.0446083,
           -75.1818294
          ],
          [
           "Iron Hill Brewery TapHouse",
           40.0561939,
           -75.667209
          ],
          [
           "Iron Hill Brewery & Restaurant",
           40.0750694,
           -75.2055144
          ],
          [
           "Iron Hill Brewery & Restaurant",
           39.960528,
           -75.605486
          ],
          [
           "Holiday Beverages",
           40.0427547,
           -75.0102746
          ],
          [
           "Iron Hill Brewery & Restaurant",
           40.1340672,
           -75.5137942
          ],
          [
           "Neshaminy Inn",
           40.1213203,
           -74.9764089
          ],
          [
           "Levante Stables",
           40.0802597,
           -75.6902378
          ],
          [
           "Sly Fox Brewhouse & Eatery",
           40.130919,
           -75.547578
          ],
          [
           "McKenzie Brew House",
           40.0700084807,
           -75.4443346941
          ],
          [
           "The Pour House - Exton",
           40.02981848,
           -75.63039501
          ],
          [
           "Braeloch Brewing",
           39.8424600423,
           -75.7068300247
          ],
          [
           "The Proper Brewing Company",
           40.441594,
           -75.3355242
          ],
          [
           "Victory Brewing Company Philadelphia",
           39.9561946841,
           -75.1689851604
          ],
          [
           "Bald Birds Brewing Company",
           40.0253102,
           -75.2227694
          ],
          [
           "Bruno's",
           40.086094,
           -75.230789
          ],
          [
           "G.G. Brewers Brewing Company t/a Sir Winston's Pub",
           40.1060945,
           -75.1470899
          ],
          [
           "Bald Birds Brewing Company",
           40.1266014,
           -75.4165221
          ],
          [
           "Ambler Beer Company",
           40.162025,
           -75.23432
          ],
          [
           "Armstrong Ales",
           40.1359706277,
           -75.5458424386
          ],
          [
           "Nodding Head Brewery & Restaurant",
           39.950221,
           -75.166583
          ],
          [
           "Triumph Brewing Company",
           39.948506,
           -75.143475
          ],
          [
           "Blueprint Brewing",
           40.2565223549,
           -75.3440810367
          ],
          [
           "Sly Fox Brewery",
           40.1942293,
           -75.5340012
          ],
          [
           "Red Brick Craft Distillery",
           39.9846878,
           -75.1224542
          ],
          [
           "Naked Brewing",
           40.147441,
           -75.0269164
          ],
          [
           "Iron Hill Brewery & Restaurant",
           39.9175793684,
           -75.388318839
          ],
          [
           "Second Sin Brewery",
           40.1078347,
           -74.9008725
          ],
          [
           "Vault Brewing",
           40.2423665,
           -74.8385061
          ],
          [
           "With Love Beer Garden",
           39.9568924,
           -75.1695151
          ],
          [
           "Earth Bread + Brewery",
           40.059176,
           -75.1904467
          ],
          [
           "New Ridge Brewing",
           40.0349311,
           -75.2170593
          ],
          [
           "Porterhouse Restaurant & Brew Pub",
           40.3457562693,
           -75.0336737491
          ],
          [
           "Iron Hill Brewery & Restaurant",
           39.9515764639,
           -75.1596684381
          ],
          [
           "2nd Story Brewing",
           39.9484739,
           -75.1435556
          ],
          [
           "Tin Lizard Brewing Company",
           40.0235057,
           -75.3227774
          ],
          [
           "Sly Fox Taphouse at The Grove",
           40.0536485528,
           -75.5267200936
          ],
          [
           "Bluebird Distilling",
           40.1341234,
           -75.512543
          ],
          [
           "Popeyes Louisiana Kitchen",
           39.865437,
           -75.3425
          ],
          [
           "Separatist South Philly",
           39.9289360744,
           -75.1650834829
          ],
          [
           "Dock Street Brewery South",
           39.9391831963,
           -75.1792988554
          ],
          [
           "Boxcar Brewpub",
           39.960817,
           -75.601902
          ],
          [
           "Ambler Beverage Exchange",
           40.1568009,
           -75.2180486
          ],
          [
           "Odd Logic Brewing Company",
           40.1051193,
           -74.8594624
          ],
          [
           "Brew",
           39.9269698,
           -75.1710674
          ],
          [
           "Tastings and Tours",
           40.3642728,
           -74.9512785
          ],
          [
           "Sterling Pig Public House",
           39.9590722536,
           -75.6062233821
          ],
          [
           "Xfinity Live! Philadelphia",
           39.9044484999,
           -75.1696318388
          ],
          [
           "Fat Lady Brewing",
           40.0253102242,
           -75.2227694169
          ],
          [
           "Nicoletti Beverage Center",
           40.0240264,
           -75.0361858
          ],
          [
           "Free Will Brewing",
           40.3654270954,
           -75.2879559153
          ],
          [
           "Chestnut Hill Brewing Company",
           40.074276,
           -75.20258
          ],
          [
           "The Borough Brewhouse",
           40.0945825,
           -75.1252351
          ],
          [
           "Love City Brewing Company",
           39.9603099077,
           -75.1554151252
          ],
          [
           "Great Barn Taphouse",
           40.2307865271,
           -75.1369362138
          ],
          [
           "Flying Fish Crafthouse",
           39.9775836,
           -75.1853081
          ],
          [
           "The Other Farm Brewing Company",
           40.3320701,
           -75.6353558
          ],
          [
           "Root Down Brewing",
           40.1343728096,
           -75.5161316693
          ],
          [
           "Victory Brewing Company Kennett Square",
           39.8444365,
           -75.7196478
          ],
          [
           "The Ways Restaurant and Brewery",
           40.10131,
           -75.152418
          ],
          [
           "Inspired Brews",
           39.9557476,
           -75.144334
          ],
          [
           "Triumph Brewing Company",
           40.3651772211,
           -74.9539691582
          ],
          [
           "Kennett Brewing Company",
           39.8467373,
           -75.7098447
          ],
          [
           "Mad Princes Brewing",
           40.324379,
           -75.06132
          ],
          [
           "Papa Guido's Pizzeria & Beer",
           40.1192525,
           -75.3535838
          ],
          [
           "Wissahickon Brewing Company",
           40.0136369648,
           -75.2006627311
          ],
          [
           "Fermentery Form",
           39.9763680823,
           -75.1375425607
          ],
          [
           "Willâs + Billâs Brewery and Restaurant",
           40.0696387843,
           -75.4442427596
          ],
          [
           "Brew Your Own Beer",
           39.9852488,
           -75.3082941
          ],
          [
           "Rec Room by Conshohocken Brewing",
           40.1334835,
           -75.5173656
          ],
          [
           "Appalachian Brewing",
           39.9607952311,
           -75.6017864126
          ],
          [
           "Attic Brewing Company",
           40.0229869,
           -75.1616977
          ],
          [
           "Conshohocken Brewing Company",
           40.0736955,
           -75.2925155
          ],
          [
           "Godaari Ruchulu",
           40.128968,
           -75.453737
          ],
          [
           "Tower Hill Brewery",
           40.2799108111,
           -75.2156012877
          ],
          [
           "Forest & Main Brewing Company",
           40.1542749,
           -75.2229967
          ],
          [
           "Artillery Brewing",
           39.9583399,
           -75.6106018
          ],
          [
           "Manoa Beverage",
           39.9724958,
           -75.3151004
          ],
          [
           "Town Tap by Conshohocken Brewing",
           39.9852575,
           -75.3085305
          ],
          [
           "La Cabra Brewing",
           40.0476220049,
           -75.4415199906
          ],
          [
           "Bar Hygge",
           39.9671254924,
           -75.1661240918
          ],
          [
           "McKenzie Brew House",
           40.0399294,
           -75.5428708
          ],
          [
           "Dock Street Brewery",
           39.9477306374,
           -75.2227761947
          ],
          [
           "Second District Brewing",
           39.9261812341,
           -75.1730921385
          ],
          [
           "Mckenzie Brew House",
           39.862061,
           -75.543657
          ],
          [
           "Baba's Brew",
           40.130997625,
           -75.5194324628
          ],
          [
           "Goose Island Brewhouse",
           39.9652138,
           -75.1355053
          ],
          [
           "Malt House Ltd",
           40.0487466,
           -75.1953934
          ],
          [
           "Hops Bar & Grill - Doylestown Brewing Co",
           40.3105021,
           -75.1291577
          ],
          [
           "Stickman Brews",
           40.0780419,
           -75.6347654
          ],
          [
           "Tuned Up Brewing",
           40.1804513,
           -75.5480057
          ],
          [
           "Mainstay Independent Brewing",
           39.9625821369,
           -75.1356569678
          ],
          [
           "Stickman Brews",
           40.1959631,
           -75.5336293
          ],
          [
           "Brewers Outlet Of Mt. Airy & Chestnut Hill",
           40.0629418275,
           -75.1929348251
          ],
          [
           "Mount Airy Tap Room",
           40.0539009,
           -75.1941853
          ],
          [
           "Stable 12 Brewing Company",
           40.1328404383,
           -75.5209848148
          ],
          [
           "Triple Bottom Brewing",
           39.962137,
           -75.153399
          ],
          [
           "Evil Genius Beer",
           39.9757885,
           -75.133938
          ],
          [
           "Artifact Brewing",
           40.177201,
           -75.1066071
          ],
          [
           "Ten7 Brewing",
           40.2160031388,
           -75.2765133125
          ],
          [
           "Moss Mill Brewing Company",
           40.148549,
           -75.02248
          ],
          [
           "Philadelphia Brewing Company",
           39.9826101,
           -75.1273561
          ],
          [
           "Aston Abbey Brewing Company",
           39.8549869689,
           -75.4257186651
          ],
          [
           "Sly Fox Brewery & Tastinâ Room",
           40.2653148078,
           -75.6683065445
          ],
          [
           "Rock Bottom",
           40.0875557319,
           -75.3933920029
          ],
          [
           "Steel City Coffeehouse & Brewery",
           40.1340014427,
           -75.5163239386
          ],
          [
           "Crowded Castle Brewing Company",
           40.1337010559,
           -75.5178608436
          ],
          [
           "2SP Brewing Company",
           39.856367,
           -75.403889
          ],
          [
           "Philly Brew Tours by City Brew Tours",
           39.9530598,
           -75.1606397
          ],
          [
           "DAVIDsTEA",
           40.0887758,
           -75.3920693
          ],
          [
           "Victory Brewing Company Downingtown",
           40.004724153,
           -75.6938191261
          ],
          [
           "Keystone Homebrew Supply",
           40.2518873857,
           -75.2387094498
          ],
          [
           "East Branch Brewing Company",
           40.0068182,
           -75.7008481
          ],
          [
           "Bainbridge Street Barrel House",
           39.9412093,
           -75.1522391
          ],
          [
           "Great Barn Taproom",
           40.36217,
           -74.951146
          ],
          [
           "Newtown Brewing",
           40.2274364,
           -74.9098704
          ],
          [
           "Stolen Sun",
           40.0378279,
           -75.6333107
          ],
          [
           "Round Guys Brewing Company",
           40.2436138,
           -75.2875736
          ],
          [
           "The Langhorne Brewing Company",
           40.1745828,
           -74.9485052
          ],
          [
           "Vault Taproom",
           40.2383491,
           -74.8358169
          ],
          [
           "Chestnut Hill Brewing Co - Taproom",
           40.0741808,
           -75.2030783
          ],
          [
           "Workhorse Brewing Company",
           40.0915290875,
           -75.3502310067
          ],
          [
           "Barren Hill Tavern & Brewery",
           40.084106,
           -75.250293
          ],
          [
           "Iron Hill Brewery & Restaurant",
           40.207844,
           -75.2235665
          ],
          [
           "Trouble's End Brewing",
           40.1855636,
           -75.452407
          ],
          [
           "Doylestown Brewing Company",
           40.3105021,
           -75.1291577
          ],
          [
           "Roy-Pitz Barrel House",
           39.9614570819,
           -75.1541474462
          ],
          [
           "Von C Brewing",
           40.1297271,
           -75.3450439
          ],
          [
           "Brewery ARS",
           39.9239563124,
           -75.1788754016
          ],
          [
           "Chal-Brit Beverages",
           40.2893931,
           -75.1994282
          ],
          [
           "Pottstown United Brewing Company",
           40.245577,
           -75.648378
          ],
          [
           "Iron Hill Brewery & Restaurant",
           40.0086639,
           -75.2976249
          ],
          [
           "Saint Benjamin Brewing Company",
           39.977299,
           -75.143601
          ],
          [
           "Track 3 Microbrewery and Coffee House",
           40.144655,
           -75.167492
          ],
          [
           "La Cabra Brewing Smokehouse",
           40.0176257845,
           -75.3222002462
          ],
          [
           "Whitpain Beverage",
           40.151529,
           -75.305562
          ],
          [
           "Sterling Pig Brewery",
           39.9182627,
           -75.3980514
          ],
          [
           "General Lafayette Inn & Brewery",
           40.084106,
           -75.250293
          ],
          [
           "Twisted Gingers Brewing Company",
           40.0274932,
           -75.218518
          ],
          [
           "Tired Hands Brewing",
           40.0086321,
           -75.2937697
          ],
          [
           "Northern Liberties Beer",
           39.9701645,
           -75.1475834
          ],
          [
           "Broken Goblet Brewing",
           40.072159,
           -74.9399661
          ],
          [
           "1518 Bar & Grill",
           39.9501977,
           -75.1666386
          ],
          [
           "Tannery Run Brew Works",
           40.155282,
           -75.221012
          ],
          [
           "Iron Hill Brewery & Restaurant",
           40.2360700766,
           -74.9434574254
          ],
          [
           "Rebel Hill Brewing",
           40.1409367,
           -75.5480946
          ],
          [
           "JJ Ratigan Brewing Co",
           40.245868,
           -75.649334
          ],
          [
           "St. Onerâs",
           39.9801329616,
           -75.1291918382
          ],
          [
           "Manayunk Brewery",
           40.022471,
           -75.2188
          ],
          [
           "Fishtown Brewpub",
           39.9677250832,
           -75.1340245083
          ]
         ],
         "hovertemplate": "review_count=%{marker.size}<br>latitude=%{customdata[1]}<br>longitude=%{customdata[2]}<br>name=%{customdata[0]}<br>cluster=%{marker.color}<extra></extra>",
         "lat": [
          40.3381827,
          39.9625821,
          40.035282,
          40.1298141,
          40.2279048915,
          40.247596,
          39.952126,
          39.948902,
          40.2636267,
          40.0066759391,
          40.2437403,
          39.952616,
          40.1820951,
          40.220294,
          39.9736435923,
          39.9667,
          40.179341,
          39.9744581,
          40.3110241,
          39.9628296,
          40.3971,
          39.9775302,
          39.94761,
          40.0945067,
          40.1413641125,
          40.1089421227,
          40.0885697,
          40.1853487896,
          40.0852019,
          39.9772706548,
          39.82533048,
          39.9609706195,
          40.2339045,
          40.0997996,
          39.9587612,
          40.0446083,
          40.0561939,
          40.0750694,
          39.960528,
          40.0427547,
          40.1340672,
          40.1213203,
          40.0802597,
          40.130919,
          40.0700084807,
          40.02981848,
          39.8424600423,
          40.441594,
          39.9561946841,
          40.0253102,
          40.086094,
          40.1060945,
          40.1266014,
          40.162025,
          40.1359706277,
          39.950221,
          39.948506,
          40.2565223549,
          40.1942293,
          39.9846878,
          40.147441,
          39.9175793684,
          40.1078347,
          40.2423665,
          39.9568924,
          40.059176,
          40.0349311,
          40.3457562693,
          39.9515764639,
          39.9484739,
          40.0235057,
          40.0536485528,
          40.1341234,
          39.865437,
          39.9289360744,
          39.9391831963,
          39.960817,
          40.1568009,
          40.1051193,
          39.9269698,
          40.3642728,
          39.9590722536,
          39.9044484999,
          40.0253102242,
          40.0240264,
          40.3654270954,
          40.074276,
          40.0945825,
          39.9603099077,
          40.2307865271,
          39.9775836,
          40.3320701,
          40.1343728096,
          39.8444365,
          40.10131,
          39.9557476,
          40.3651772211,
          39.8467373,
          40.324379,
          40.1192525,
          40.0136369648,
          39.9763680823,
          40.0696387843,
          39.9852488,
          40.1334835,
          39.9607952311,
          40.0229869,
          40.0736955,
          40.128968,
          40.2799108111,
          40.1542749,
          39.9583399,
          39.9724958,
          39.9852575,
          40.0476220049,
          39.9671254924,
          40.0399294,
          39.9477306374,
          39.9261812341,
          39.862061,
          40.130997625,
          39.9652138,
          40.0487466,
          40.3105021,
          40.0780419,
          40.1804513,
          39.9625821369,
          40.1959631,
          40.0629418275,
          40.0539009,
          40.1328404383,
          39.962137,
          39.9757885,
          40.177201,
          40.2160031388,
          40.148549,
          39.9826101,
          39.8549869689,
          40.2653148078,
          40.0875557319,
          40.1340014427,
          40.1337010559,
          39.856367,
          39.9530598,
          40.0887758,
          40.004724153,
          40.2518873857,
          40.0068182,
          39.9412093,
          40.36217,
          40.2274364,
          40.0378279,
          40.2436138,
          40.1745828,
          40.2383491,
          40.0741808,
          40.0915290875,
          40.084106,
          40.207844,
          40.1855636,
          40.3105021,
          39.9614570819,
          40.1297271,
          39.9239563124,
          40.2893931,
          40.245577,
          40.0086639,
          39.977299,
          40.144655,
          40.0176257845,
          40.151529,
          39.9182627,
          40.084106,
          40.0274932,
          40.0086321,
          39.9701645,
          40.072159,
          39.9501977,
          40.155282,
          40.2360700766,
          40.1409367,
          40.245868,
          39.9801329616,
          40.022471,
          39.9677250832
         ],
         "legendgroup": "",
         "lon": [
          -75.4716585,
          -75.1356571,
          -75.5552598633,
          -75.5764069,
          -75.4043170169,
          -75.720699,
          -75.186438,
          -75.587254,
          -75.2835425,
          -75.2903721129,
          -75.2865954,
          -75.159445,
          -74.9056134,
          -75.279396,
          -75.1395907626,
          -75.13997,
          -75.1048453,
          -75.1808263,
          -75.1308993,
          -75.1719117,
          -75.1543,
          -75.1855542,
          -75.22253,
          -75.1255616,
          -75.0062698871,
          -75.3447142113,
          -75.0926421,
          -75.4529857635,
          -74.9019637,
          -75.1435684785,
          -75.7836088885,
          -75.146908,
          -75.2709627,
          -75.1491112,
          -75.61067,
          -75.1818294,
          -75.667209,
          -75.2055144,
          -75.605486,
          -75.0102746,
          -75.5137942,
          -74.9764089,
          -75.6902378,
          -75.547578,
          -75.4443346941,
          -75.63039501,
          -75.7068300247,
          -75.3355242,
          -75.1689851604,
          -75.2227694,
          -75.230789,
          -75.1470899,
          -75.4165221,
          -75.23432,
          -75.5458424386,
          -75.166583,
          -75.143475,
          -75.3440810367,
          -75.5340012,
          -75.1224542,
          -75.0269164,
          -75.388318839,
          -74.9008725,
          -74.8385061,
          -75.1695151,
          -75.1904467,
          -75.2170593,
          -75.0336737491,
          -75.1596684381,
          -75.1435556,
          -75.3227774,
          -75.5267200936,
          -75.512543,
          -75.3425,
          -75.1650834829,
          -75.1792988554,
          -75.601902,
          -75.2180486,
          -74.8594624,
          -75.1710674,
          -74.9512785,
          -75.6062233821,
          -75.1696318388,
          -75.2227694169,
          -75.0361858,
          -75.2879559153,
          -75.20258,
          -75.1252351,
          -75.1554151252,
          -75.1369362138,
          -75.1853081,
          -75.6353558,
          -75.5161316693,
          -75.7196478,
          -75.152418,
          -75.144334,
          -74.9539691582,
          -75.7098447,
          -75.06132,
          -75.3535838,
          -75.2006627311,
          -75.1375425607,
          -75.4442427596,
          -75.3082941,
          -75.5173656,
          -75.6017864126,
          -75.1616977,
          -75.2925155,
          -75.453737,
          -75.2156012877,
          -75.2229967,
          -75.6106018,
          -75.3151004,
          -75.3085305,
          -75.4415199906,
          -75.1661240918,
          -75.5428708,
          -75.2227761947,
          -75.1730921385,
          -75.543657,
          -75.5194324628,
          -75.1355053,
          -75.1953934,
          -75.1291577,
          -75.6347654,
          -75.5480057,
          -75.1356569678,
          -75.5336293,
          -75.1929348251,
          -75.1941853,
          -75.5209848148,
          -75.153399,
          -75.133938,
          -75.1066071,
          -75.2765133125,
          -75.02248,
          -75.1273561,
          -75.4257186651,
          -75.6683065445,
          -75.3933920029,
          -75.5163239386,
          -75.5178608436,
          -75.403889,
          -75.1606397,
          -75.3920693,
          -75.6938191261,
          -75.2387094498,
          -75.7008481,
          -75.1522391,
          -74.951146,
          -74.9098704,
          -75.6333107,
          -75.2875736,
          -74.9485052,
          -74.8358169,
          -75.2030783,
          -75.3502310067,
          -75.250293,
          -75.2235665,
          -75.452407,
          -75.1291577,
          -75.1541474462,
          -75.3450439,
          -75.1788754016,
          -75.1994282,
          -75.648378,
          -75.2976249,
          -75.143601,
          -75.167492,
          -75.3222002462,
          -75.305562,
          -75.3980514,
          -75.250293,
          -75.218518,
          -75.2937697,
          -75.1475834,
          -74.9399661,
          -75.1666386,
          -75.221012,
          -74.9434574254,
          -75.5480946,
          -75.649334,
          -75.1291918382,
          -75.2188,
          -75.1340245083
         ],
         "marker": {
          "color": [
           4,
           1,
           2,
           4,
           4,
           4,
           1,
           2,
           0,
           1,
           0,
           1,
           3,
           0,
           1,
           1,
           3,
           1,
           0,
           1,
           0,
           1,
           1,
           1,
           3,
           4,
           1,
           4,
           3,
           1,
           2,
           1,
           0,
           1,
           2,
           1,
           2,
           1,
           2,
           3,
           4,
           3,
           2,
           4,
           4,
           2,
           2,
           0,
           1,
           1,
           1,
           1,
           4,
           0,
           4,
           1,
           1,
           0,
           4,
           1,
           3,
           1,
           3,
           3,
           1,
           1,
           1,
           3,
           1,
           1,
           1,
           4,
           4,
           1,
           1,
           1,
           2,
           0,
           3,
           1,
           3,
           2,
           1,
           1,
           1,
           0,
           1,
           1,
           1,
           0,
           1,
           4,
           4,
           2,
           1,
           1,
           3,
           2,
           3,
           4,
           1,
           1,
           4,
           1,
           4,
           2,
           1,
           1,
           4,
           0,
           0,
           2,
           1,
           1,
           4,
           1,
           2,
           1,
           1,
           2,
           4,
           1,
           1,
           0,
           2,
           4,
           1,
           4,
           1,
           1,
           4,
           1,
           1,
           3,
           0,
           3,
           1,
           2,
           4,
           4,
           4,
           4,
           2,
           1,
           4,
           2,
           0,
           2,
           1,
           3,
           3,
           2,
           0,
           3,
           3,
           1,
           4,
           1,
           0,
           4,
           0,
           1,
           4,
           1,
           0,
           4,
           1,
           1,
           0,
           1,
           0,
           2,
           1,
           1,
           1,
           1,
           3,
           1,
           0,
           3,
           4,
           4,
           1,
           1,
           1
          ],
          "coloraxis": "coloraxis",
          "size": [
           13,
           65,
           29,
           56,
           29,
           71,
           30,
           75,
           36,
           459,
           65,
           5,
           5,
           17,
           24,
           221,
           56,
           178,
           21,
           6,
           18,
           12,
           13,
           63,
           6,
           207,
           223,
           154,
           115,
           40,
           18,
           755,
           122,
           29,
           7,
           12,
           41,
           384,
           353,
           5,
           274,
           9,
           48,
           162,
           162,
           323,
           41,
           113,
           51,
           23,
           114,
           19,
           34,
           7,
           6,
           339,
           318,
           29,
           32,
           18,
           51,
           427,
           7,
           632,
           5,
           380,
           54,
           172,
           324,
           561,
           101,
           21,
           117,
           15,
           20,
           93,
           53,
           20,
           10,
           209,
           19,
           48,
           361,
           6,
           5,
           75,
           108,
           138,
           162,
           29,
           129,
           73,
           150,
           200,
           75,
           20,
           490,
           116,
           25,
           19,
           95,
           27,
           5,
           17,
           54,
           15,
           27,
           140,
           30,
           98,
           243,
           6,
           8,
           110,
           171,
           387,
           211,
           549,
           103,
           174,
           6,
           149,
           12,
           13,
           28,
           34,
           23,
           72,
           27,
           51,
           132,
           42,
           283,
           7,
           22,
           18,
           150,
           9,
           133,
           274,
           116,
           66,
           40,
           68,
           16,
           592,
           26,
           75,
           347,
           41,
           27,
           84,
           168,
           15,
           14,
           10,
           66,
           124,
           283,
           73,
           44,
           151,
           8,
           53,
           9,
           48,
           208,
           83,
           17,
           55,
           8,
           252,
           35,
           26,
           452,
           6,
           99,
           221,
           41,
           91,
           21,
           50,
           9,
           692,
           95
          ],
          "sizemode": "area",
          "sizeref": 1.8875
         },
         "mode": "markers",
         "name": "",
         "showlegend": false,
         "subplot": "mapbox",
         "type": "scattermapbox"
        }
       ],
       "layout": {
        "coloraxis": {
         "colorbar": {
          "title": {
           "text": "cluster"
          }
         },
         "colorscale": [
          [
           0,
           "#0d0887"
          ],
          [
           0.1111111111111111,
           "#46039f"
          ],
          [
           0.2222222222222222,
           "#7201a8"
          ],
          [
           0.3333333333333333,
           "#9c179e"
          ],
          [
           0.4444444444444444,
           "#bd3786"
          ],
          [
           0.5555555555555556,
           "#d8576b"
          ],
          [
           0.6666666666666666,
           "#ed7953"
          ],
          [
           0.7777777777777778,
           "#fb9f3a"
          ],
          [
           0.8888888888888888,
           "#fdca26"
          ],
          [
           1,
           "#f0f921"
          ]
         ]
        },
        "height": 800,
        "legend": {
         "itemsizing": "constant",
         "tracegroupgap": 0
        },
        "mapbox": {
         "center": {
          "lat": 40.07821385447514,
          "lon": -75.28264301362324
         },
         "domain": {
          "x": [
           0,
           1
          ],
          "y": [
           0,
           1
          ]
         },
         "zoom": 10
        },
        "margin": {
         "t": 60
        },
        "template": {
         "data": {
          "bar": [
           {
            "error_x": {
             "color": "#2a3f5f"
            },
            "error_y": {
             "color": "#2a3f5f"
            },
            "marker": {
             "line": {
              "color": "#E5ECF6",
              "width": 0.5
             },
             "pattern": {
              "fillmode": "overlay",
              "size": 10,
              "solidity": 0.2
             }
            },
            "type": "bar"
           }
          ],
          "barpolar": [
           {
            "marker": {
             "line": {
              "color": "#E5ECF6",
              "width": 0.5
             },
             "pattern": {
              "fillmode": "overlay",
              "size": 10,
              "solidity": 0.2
             }
            },
            "type": "barpolar"
           }
          ],
          "carpet": [
           {
            "aaxis": {
             "endlinecolor": "#2a3f5f",
             "gridcolor": "white",
             "linecolor": "white",
             "minorgridcolor": "white",
             "startlinecolor": "#2a3f5f"
            },
            "baxis": {
             "endlinecolor": "#2a3f5f",
             "gridcolor": "white",
             "linecolor": "white",
             "minorgridcolor": "white",
             "startlinecolor": "#2a3f5f"
            },
            "type": "carpet"
           }
          ],
          "choropleth": [
           {
            "colorbar": {
             "outlinewidth": 0,
             "ticks": ""
            },
            "type": "choropleth"
           }
          ],
          "contour": [
           {
            "colorbar": {
             "outlinewidth": 0,
             "ticks": ""
            },
            "colorscale": [
             [
              0,
              "#0d0887"
             ],
             [
              0.1111111111111111,
              "#46039f"
             ],
             [
              0.2222222222222222,
              "#7201a8"
             ],
             [
              0.3333333333333333,
              "#9c179e"
             ],
             [
              0.4444444444444444,
              "#bd3786"
             ],
             [
              0.5555555555555556,
              "#d8576b"
             ],
             [
              0.6666666666666666,
              "#ed7953"
             ],
             [
              0.7777777777777778,
              "#fb9f3a"
             ],
             [
              0.8888888888888888,
              "#fdca26"
             ],
             [
              1,
              "#f0f921"
             ]
            ],
            "type": "contour"
           }
          ],
          "contourcarpet": [
           {
            "colorbar": {
             "outlinewidth": 0,
             "ticks": ""
            },
            "type": "contourcarpet"
           }
          ],
          "heatmap": [
           {
            "colorbar": {
             "outlinewidth": 0,
             "ticks": ""
            },
            "colorscale": [
             [
              0,
              "#0d0887"
             ],
             [
              0.1111111111111111,
              "#46039f"
             ],
             [
              0.2222222222222222,
              "#7201a8"
             ],
             [
              0.3333333333333333,
              "#9c179e"
             ],
             [
              0.4444444444444444,
              "#bd3786"
             ],
             [
              0.5555555555555556,
              "#d8576b"
             ],
             [
              0.6666666666666666,
              "#ed7953"
             ],
             [
              0.7777777777777778,
              "#fb9f3a"
             ],
             [
              0.8888888888888888,
              "#fdca26"
             ],
             [
              1,
              "#f0f921"
             ]
            ],
            "type": "heatmap"
           }
          ],
          "heatmapgl": [
           {
            "colorbar": {
             "outlinewidth": 0,
             "ticks": ""
            },
            "colorscale": [
             [
              0,
              "#0d0887"
             ],
             [
              0.1111111111111111,
              "#46039f"
             ],
             [
              0.2222222222222222,
              "#7201a8"
             ],
             [
              0.3333333333333333,
              "#9c179e"
             ],
             [
              0.4444444444444444,
              "#bd3786"
             ],
             [
              0.5555555555555556,
              "#d8576b"
             ],
             [
              0.6666666666666666,
              "#ed7953"
             ],
             [
              0.7777777777777778,
              "#fb9f3a"
             ],
             [
              0.8888888888888888,
              "#fdca26"
             ],
             [
              1,
              "#f0f921"
             ]
            ],
            "type": "heatmapgl"
           }
          ],
          "histogram": [
           {
            "marker": {
             "pattern": {
              "fillmode": "overlay",
              "size": 10,
              "solidity": 0.2
             }
            },
            "type": "histogram"
           }
          ],
          "histogram2d": [
           {
            "colorbar": {
             "outlinewidth": 0,
             "ticks": ""
            },
            "colorscale": [
             [
              0,
              "#0d0887"
             ],
             [
              0.1111111111111111,
              "#46039f"
             ],
             [
              0.2222222222222222,
              "#7201a8"
             ],
             [
              0.3333333333333333,
              "#9c179e"
             ],
             [
              0.4444444444444444,
              "#bd3786"
             ],
             [
              0.5555555555555556,
              "#d8576b"
             ],
             [
              0.6666666666666666,
              "#ed7953"
             ],
             [
              0.7777777777777778,
              "#fb9f3a"
             ],
             [
              0.8888888888888888,
              "#fdca26"
             ],
             [
              1,
              "#f0f921"
             ]
            ],
            "type": "histogram2d"
           }
          ],
          "histogram2dcontour": [
           {
            "colorbar": {
             "outlinewidth": 0,
             "ticks": ""
            },
            "colorscale": [
             [
              0,
              "#0d0887"
             ],
             [
              0.1111111111111111,
              "#46039f"
             ],
             [
              0.2222222222222222,
              "#7201a8"
             ],
             [
              0.3333333333333333,
              "#9c179e"
             ],
             [
              0.4444444444444444,
              "#bd3786"
             ],
             [
              0.5555555555555556,
              "#d8576b"
             ],
             [
              0.6666666666666666,
              "#ed7953"
             ],
             [
              0.7777777777777778,
              "#fb9f3a"
             ],
             [
              0.8888888888888888,
              "#fdca26"
             ],
             [
              1,
              "#f0f921"
             ]
            ],
            "type": "histogram2dcontour"
           }
          ],
          "mesh3d": [
           {
            "colorbar": {
             "outlinewidth": 0,
             "ticks": ""
            },
            "type": "mesh3d"
           }
          ],
          "parcoords": [
           {
            "line": {
             "colorbar": {
              "outlinewidth": 0,
              "ticks": ""
             }
            },
            "type": "parcoords"
           }
          ],
          "pie": [
           {
            "automargin": true,
            "type": "pie"
           }
          ],
          "scatter": [
           {
            "fillpattern": {
             "fillmode": "overlay",
             "size": 10,
             "solidity": 0.2
            },
            "type": "scatter"
           }
          ],
          "scatter3d": [
           {
            "line": {
             "colorbar": {
              "outlinewidth": 0,
              "ticks": ""
             }
            },
            "marker": {
             "colorbar": {
              "outlinewidth": 0,
              "ticks": ""
             }
            },
            "type": "scatter3d"
           }
          ],
          "scattercarpet": [
           {
            "marker": {
             "colorbar": {
              "outlinewidth": 0,
              "ticks": ""
             }
            },
            "type": "scattercarpet"
           }
          ],
          "scattergeo": [
           {
            "marker": {
             "colorbar": {
              "outlinewidth": 0,
              "ticks": ""
             }
            },
            "type": "scattergeo"
           }
          ],
          "scattergl": [
           {
            "marker": {
             "colorbar": {
              "outlinewidth": 0,
              "ticks": ""
             }
            },
            "type": "scattergl"
           }
          ],
          "scattermapbox": [
           {
            "marker": {
             "colorbar": {
              "outlinewidth": 0,
              "ticks": ""
             }
            },
            "type": "scattermapbox"
           }
          ],
          "scatterpolar": [
           {
            "marker": {
             "colorbar": {
              "outlinewidth": 0,
              "ticks": ""
             }
            },
            "type": "scatterpolar"
           }
          ],
          "scatterpolargl": [
           {
            "marker": {
             "colorbar": {
              "outlinewidth": 0,
              "ticks": ""
             }
            },
            "type": "scatterpolargl"
           }
          ],
          "scatterternary": [
           {
            "marker": {
             "colorbar": {
              "outlinewidth": 0,
              "ticks": ""
             }
            },
            "type": "scatterternary"
           }
          ],
          "surface": [
           {
            "colorbar": {
             "outlinewidth": 0,
             "ticks": ""
            },
            "colorscale": [
             [
              0,
              "#0d0887"
             ],
             [
              0.1111111111111111,
              "#46039f"
             ],
             [
              0.2222222222222222,
              "#7201a8"
             ],
             [
              0.3333333333333333,
              "#9c179e"
             ],
             [
              0.4444444444444444,
              "#bd3786"
             ],
             [
              0.5555555555555556,
              "#d8576b"
             ],
             [
              0.6666666666666666,
              "#ed7953"
             ],
             [
              0.7777777777777778,
              "#fb9f3a"
             ],
             [
              0.8888888888888888,
              "#fdca26"
             ],
             [
              1,
              "#f0f921"
             ]
            ],
            "type": "surface"
           }
          ],
          "table": [
           {
            "cells": {
             "fill": {
              "color": "#EBF0F8"
             },
             "line": {
              "color": "white"
             }
            },
            "header": {
             "fill": {
              "color": "#C8D4E3"
             },
             "line": {
              "color": "white"
             }
            },
            "type": "table"
           }
          ]
         },
         "layout": {
          "annotationdefaults": {
           "arrowcolor": "#2a3f5f",
           "arrowhead": 0,
           "arrowwidth": 1
          },
          "autotypenumbers": "strict",
          "coloraxis": {
           "colorbar": {
            "outlinewidth": 0,
            "ticks": ""
           }
          },
          "colorscale": {
           "diverging": [
            [
             0,
             "#8e0152"
            ],
            [
             0.1,
             "#c51b7d"
            ],
            [
             0.2,
             "#de77ae"
            ],
            [
             0.3,
             "#f1b6da"
            ],
            [
             0.4,
             "#fde0ef"
            ],
            [
             0.5,
             "#f7f7f7"
            ],
            [
             0.6,
             "#e6f5d0"
            ],
            [
             0.7,
             "#b8e186"
            ],
            [
             0.8,
             "#7fbc41"
            ],
            [
             0.9,
             "#4d9221"
            ],
            [
             1,
             "#276419"
            ]
           ],
           "sequential": [
            [
             0,
             "#0d0887"
            ],
            [
             0.1111111111111111,
             "#46039f"
            ],
            [
             0.2222222222222222,
             "#7201a8"
            ],
            [
             0.3333333333333333,
             "#9c179e"
            ],
            [
             0.4444444444444444,
             "#bd3786"
            ],
            [
             0.5555555555555556,
             "#d8576b"
            ],
            [
             0.6666666666666666,
             "#ed7953"
            ],
            [
             0.7777777777777778,
             "#fb9f3a"
            ],
            [
             0.8888888888888888,
             "#fdca26"
            ],
            [
             1,
             "#f0f921"
            ]
           ],
           "sequentialminus": [
            [
             0,
             "#0d0887"
            ],
            [
             0.1111111111111111,
             "#46039f"
            ],
            [
             0.2222222222222222,
             "#7201a8"
            ],
            [
             0.3333333333333333,
             "#9c179e"
            ],
            [
             0.4444444444444444,
             "#bd3786"
            ],
            [
             0.5555555555555556,
             "#d8576b"
            ],
            [
             0.6666666666666666,
             "#ed7953"
            ],
            [
             0.7777777777777778,
             "#fb9f3a"
            ],
            [
             0.8888888888888888,
             "#fdca26"
            ],
            [
             1,
             "#f0f921"
            ]
           ]
          },
          "colorway": [
           "#636efa",
           "#EF553B",
           "#00cc96",
           "#ab63fa",
           "#FFA15A",
           "#19d3f3",
           "#FF6692",
           "#B6E880",
           "#FF97FF",
           "#FECB52"
          ],
          "font": {
           "color": "#2a3f5f"
          },
          "geo": {
           "bgcolor": "white",
           "lakecolor": "white",
           "landcolor": "#E5ECF6",
           "showlakes": true,
           "showland": true,
           "subunitcolor": "white"
          },
          "hoverlabel": {
           "align": "left"
          },
          "hovermode": "closest",
          "mapbox": {
           "style": "light"
          },
          "paper_bgcolor": "white",
          "plot_bgcolor": "#E5ECF6",
          "polar": {
           "angularaxis": {
            "gridcolor": "white",
            "linecolor": "white",
            "ticks": ""
           },
           "bgcolor": "#E5ECF6",
           "radialaxis": {
            "gridcolor": "white",
            "linecolor": "white",
            "ticks": ""
           }
          },
          "scene": {
           "xaxis": {
            "backgroundcolor": "#E5ECF6",
            "gridcolor": "white",
            "gridwidth": 2,
            "linecolor": "white",
            "showbackground": true,
            "ticks": "",
            "zerolinecolor": "white"
           },
           "yaxis": {
            "backgroundcolor": "#E5ECF6",
            "gridcolor": "white",
            "gridwidth": 2,
            "linecolor": "white",
            "showbackground": true,
            "ticks": "",
            "zerolinecolor": "white"
           },
           "zaxis": {
            "backgroundcolor": "#E5ECF6",
            "gridcolor": "white",
            "gridwidth": 2,
            "linecolor": "white",
            "showbackground": true,
            "ticks": "",
            "zerolinecolor": "white"
           }
          },
          "shapedefaults": {
           "line": {
            "color": "#2a3f5f"
           }
          },
          "ternary": {
           "aaxis": {
            "gridcolor": "white",
            "linecolor": "white",
            "ticks": ""
           },
           "baxis": {
            "gridcolor": "white",
            "linecolor": "white",
            "ticks": ""
           },
           "bgcolor": "#E5ECF6",
           "caxis": {
            "gridcolor": "white",
            "linecolor": "white",
            "ticks": ""
           }
          },
          "title": {
           "x": 0.05
          },
          "xaxis": {
           "automargin": true,
           "gridcolor": "white",
           "linecolor": "white",
           "ticks": "",
           "title": {
            "standoff": 15
           },
           "zerolinecolor": "white",
           "zerolinewidth": 2
          },
          "yaxis": {
           "automargin": true,
           "gridcolor": "white",
           "linecolor": "white",
           "ticks": "",
           "title": {
            "standoff": 15
           },
           "zerolinecolor": "white",
           "zerolinewidth": 2
          }
         }
        },
        "width": 1200
       }
      }
     },
     "metadata": {},
     "output_type": "display_data"
    }
   ],
   "source": [
    "px.scatter_mapbox(data_frame=vancouver, lat='latitude',lon='longitude', color='cluster', size='review_count',hover_data=['name', 'latitude','longitude'],\n",
    "zoom=10, width = 1200, height=800)"
   ]
  },
  {
   "cell_type": "code",
   "execution_count": 87,
   "metadata": {},
   "outputs": [
    {
     "data": {
      "text/html": [
       "<div>\n",
       "<style scoped>\n",
       "    .dataframe tbody tr th:only-of-type {\n",
       "        vertical-align: middle;\n",
       "    }\n",
       "\n",
       "    .dataframe tbody tr th {\n",
       "        vertical-align: top;\n",
       "    }\n",
       "\n",
       "    .dataframe thead th {\n",
       "        text-align: right;\n",
       "    }\n",
       "</style>\n",
       "<table border=\"1\" class=\"dataframe\">\n",
       "  <thead>\n",
       "    <tr style=\"text-align: right;\">\n",
       "      <th></th>\n",
       "      <th>business_id</th>\n",
       "      <th>name</th>\n",
       "      <th>latitude</th>\n",
       "      <th>longitude</th>\n",
       "      <th>city_state</th>\n",
       "      <th>cluster</th>\n",
       "    </tr>\n",
       "  </thead>\n",
       "  <tbody>\n",
       "    <tr>\n",
       "      <th>22158</th>\n",
       "      <td>IvAa7PvfOYl0xRML5W3ebg</td>\n",
       "      <td>Yards Brewing Company</td>\n",
       "      <td>39.960971</td>\n",
       "      <td>-75.146908</td>\n",
       "      <td>Philadelphia PA</td>\n",
       "      <td>1</td>\n",
       "    </tr>\n",
       "    <tr>\n",
       "      <th>149657</th>\n",
       "      <td>ZGH8MzJa7Q7iIpmtzBAJAQ</td>\n",
       "      <td>Manayunk Brewery</td>\n",
       "      <td>40.022471</td>\n",
       "      <td>-75.218800</td>\n",
       "      <td>Philadelphia PA</td>\n",
       "      <td>1</td>\n",
       "    </tr>\n",
       "    <tr>\n",
       "      <th>48365</th>\n",
       "      <td>23qa5SsahSsVhqAVmX6aow</td>\n",
       "      <td>Vault Brewing</td>\n",
       "      <td>40.242367</td>\n",
       "      <td>-74.838506</td>\n",
       "      <td>Yardley PA</td>\n",
       "      <td>3</td>\n",
       "    </tr>\n",
       "    <tr>\n",
       "      <th>122498</th>\n",
       "      <td>JcdsERaKlWNY9CT5Tl8LvA</td>\n",
       "      <td>Victory Brewing Company Downingtown</td>\n",
       "      <td>40.004724</td>\n",
       "      <td>-75.693819</td>\n",
       "      <td>Downingtown PA</td>\n",
       "      <td>2</td>\n",
       "    </tr>\n",
       "    <tr>\n",
       "      <th>55405</th>\n",
       "      <td>jEasa4Sbzy4NdLyzPPgQyg</td>\n",
       "      <td>2nd Story Brewing</td>\n",
       "      <td>39.948474</td>\n",
       "      <td>-75.143556</td>\n",
       "      <td>Philadelphia PA</td>\n",
       "      <td>1</td>\n",
       "    </tr>\n",
       "    <tr>\n",
       "      <th>95333</th>\n",
       "      <td>99e7bysta1myyrQogFEWUQ</td>\n",
       "      <td>Dock Street Brewery</td>\n",
       "      <td>39.947731</td>\n",
       "      <td>-75.222776</td>\n",
       "      <td>Philadelphia PA</td>\n",
       "      <td>1</td>\n",
       "    </tr>\n",
       "    <tr>\n",
       "      <th>84148</th>\n",
       "      <td>tOPDno-cu5NQO56FeOBg-g</td>\n",
       "      <td>Triumph Brewing Company</td>\n",
       "      <td>40.365177</td>\n",
       "      <td>-74.953969</td>\n",
       "      <td>New Hope PA</td>\n",
       "      <td>3</td>\n",
       "    </tr>\n",
       "    <tr>\n",
       "      <th>5138</th>\n",
       "      <td>gK9CdFaCXmHoW8aLfXiSqg</td>\n",
       "      <td>Tired Hands Fermentaria</td>\n",
       "      <td>40.006676</td>\n",
       "      <td>-75.290372</td>\n",
       "      <td>Ardmore PA</td>\n",
       "      <td>1</td>\n",
       "    </tr>\n",
       "    <tr>\n",
       "      <th>143596</th>\n",
       "      <td>5zTGhEeKl6Kz-ULDgyOurg</td>\n",
       "      <td>Tired Hands Brewing</td>\n",
       "      <td>40.008632</td>\n",
       "      <td>-75.293770</td>\n",
       "      <td>Ardmore PA</td>\n",
       "      <td>1</td>\n",
       "    </tr>\n",
       "    <tr>\n",
       "      <th>46808</th>\n",
       "      <td>L5U9dBXYKNDyWp4lk9j9QQ</td>\n",
       "      <td>Iron Hill Brewery &amp; Restaurant</td>\n",
       "      <td>39.917579</td>\n",
       "      <td>-75.388319</td>\n",
       "      <td>Media PA</td>\n",
       "      <td>1</td>\n",
       "    </tr>\n",
       "    <tr>\n",
       "      <th>94471</th>\n",
       "      <td>Mwc3n5Psw9wRaQ22vZWDYQ</td>\n",
       "      <td>Bar Hygge</td>\n",
       "      <td>39.967125</td>\n",
       "      <td>-75.166124</td>\n",
       "      <td>Philadelphia PA</td>\n",
       "      <td>1</td>\n",
       "    </tr>\n",
       "    <tr>\n",
       "      <th>29162</th>\n",
       "      <td>ohWH383r60AREWh-aphpSw</td>\n",
       "      <td>Iron Hill Brewery &amp; Restaurant</td>\n",
       "      <td>40.075069</td>\n",
       "      <td>-75.205514</td>\n",
       "      <td>Philadelphia PA</td>\n",
       "      <td>1</td>\n",
       "    </tr>\n",
       "    <tr>\n",
       "      <th>50907</th>\n",
       "      <td>ulfMNXHzGVleRf2U5KwiQQ</td>\n",
       "      <td>Earth Bread + Brewery</td>\n",
       "      <td>40.059176</td>\n",
       "      <td>-75.190447</td>\n",
       "      <td>Philadelphia PA</td>\n",
       "      <td>1</td>\n",
       "    </tr>\n",
       "  </tbody>\n",
       "</table>\n",
       "</div>"
      ],
      "text/plain": [
       "                   business_id                                 name  \\\n",
       "22158   IvAa7PvfOYl0xRML5W3ebg                Yards Brewing Company   \n",
       "149657  ZGH8MzJa7Q7iIpmtzBAJAQ                     Manayunk Brewery   \n",
       "48365   23qa5SsahSsVhqAVmX6aow                        Vault Brewing   \n",
       "122498  JcdsERaKlWNY9CT5Tl8LvA  Victory Brewing Company Downingtown   \n",
       "55405   jEasa4Sbzy4NdLyzPPgQyg                    2nd Story Brewing   \n",
       "95333   99e7bysta1myyrQogFEWUQ                  Dock Street Brewery   \n",
       "84148   tOPDno-cu5NQO56FeOBg-g              Triumph Brewing Company   \n",
       "5138    gK9CdFaCXmHoW8aLfXiSqg              Tired Hands Fermentaria   \n",
       "143596  5zTGhEeKl6Kz-ULDgyOurg                  Tired Hands Brewing   \n",
       "46808   L5U9dBXYKNDyWp4lk9j9QQ       Iron Hill Brewery & Restaurant   \n",
       "94471   Mwc3n5Psw9wRaQ22vZWDYQ                            Bar Hygge   \n",
       "29162   ohWH383r60AREWh-aphpSw       Iron Hill Brewery & Restaurant   \n",
       "50907   ulfMNXHzGVleRf2U5KwiQQ                Earth Bread + Brewery   \n",
       "\n",
       "         latitude  longitude       city_state  cluster  \n",
       "22158   39.960971 -75.146908  Philadelphia PA        1  \n",
       "149657  40.022471 -75.218800  Philadelphia PA        1  \n",
       "48365   40.242367 -74.838506       Yardley PA        3  \n",
       "122498  40.004724 -75.693819   Downingtown PA        2  \n",
       "55405   39.948474 -75.143556  Philadelphia PA        1  \n",
       "95333   39.947731 -75.222776  Philadelphia PA        1  \n",
       "84148   40.365177 -74.953969      New Hope PA        3  \n",
       "5138    40.006676 -75.290372       Ardmore PA        1  \n",
       "143596  40.008632 -75.293770       Ardmore PA        1  \n",
       "46808   39.917579 -75.388319         Media PA        1  \n",
       "94471   39.967125 -75.166124  Philadelphia PA        1  \n",
       "29162   40.075069 -75.205514  Philadelphia PA        1  \n",
       "50907   40.059176 -75.190447  Philadelphia PA        1  "
      ]
     },
     "execution_count": 87,
     "metadata": {},
     "output_type": "execute_result"
    }
   ],
   "source": [
    "# a dataframe  that we will use as a dataset to make predictions\n",
    "# display of top breweries in vancouver\n",
    "top_breweries_vancouver = vancouver.sort_values(by=['review_count', 'stars'], ascending=False)\n",
    "top_breweries_vancouver[['business_id', 'name', 'latitude', 'longitude', 'city_state', 'cluster']].head(13)"
   ]
  },
  {
   "cell_type": "markdown",
   "metadata": {},
   "source": [
    "Below is a function that we will use to make recommendations"
   ]
  },
  {
   "cell_type": "code",
   "execution_count": 81,
   "metadata": {},
   "outputs": [],
   "source": [
    "def recommend_restaurant(df, longitude, latitude):\n",
    "    cluster = kmeans.predict(np.array([longitude, latitude]).reshape(1, -1))[0]\n",
    "    print(cluster)\n",
    "    return df[df['cluster'] == cluster].iloc[0:5][['name', 'latitude', 'longitude']]"
   ]
  },
  {
   "cell_type": "code",
   "execution_count": 82,
   "metadata": {},
   "outputs": [
    {
     "name": "stdout",
     "output_type": "stream",
     "text": [
      "1\n"
     ]
    },
    {
     "name": "stderr",
     "output_type": "stream",
     "text": [
      "c:\\Users\\test\\AppData\\Local\\Programs\\Python\\Python39\\lib\\site-packages\\sklearn\\base.py:450: UserWarning:\n",
      "\n",
      "X does not have valid feature names, but KMeans was fitted with feature names\n",
      "\n"
     ]
    },
    {
     "data": {
      "text/html": [
       "<div>\n",
       "<style scoped>\n",
       "    .dataframe tbody tr th:only-of-type {\n",
       "        vertical-align: middle;\n",
       "    }\n",
       "\n",
       "    .dataframe tbody tr th {\n",
       "        vertical-align: top;\n",
       "    }\n",
       "\n",
       "    .dataframe thead th {\n",
       "        text-align: right;\n",
       "    }\n",
       "</style>\n",
       "<table border=\"1\" class=\"dataframe\">\n",
       "  <thead>\n",
       "    <tr style=\"text-align: right;\">\n",
       "      <th></th>\n",
       "      <th>name</th>\n",
       "      <th>latitude</th>\n",
       "      <th>longitude</th>\n",
       "    </tr>\n",
       "  </thead>\n",
       "  <tbody>\n",
       "    <tr>\n",
       "      <th>22158</th>\n",
       "      <td>Yards Brewing Company</td>\n",
       "      <td>39.960971</td>\n",
       "      <td>-75.146908</td>\n",
       "    </tr>\n",
       "    <tr>\n",
       "      <th>149657</th>\n",
       "      <td>Manayunk Brewery</td>\n",
       "      <td>40.022471</td>\n",
       "      <td>-75.218800</td>\n",
       "    </tr>\n",
       "    <tr>\n",
       "      <th>55405</th>\n",
       "      <td>2nd Story Brewing</td>\n",
       "      <td>39.948474</td>\n",
       "      <td>-75.143556</td>\n",
       "    </tr>\n",
       "    <tr>\n",
       "      <th>95333</th>\n",
       "      <td>Dock Street Brewery</td>\n",
       "      <td>39.947731</td>\n",
       "      <td>-75.222776</td>\n",
       "    </tr>\n",
       "    <tr>\n",
       "      <th>5138</th>\n",
       "      <td>Tired Hands Fermentaria</td>\n",
       "      <td>40.006676</td>\n",
       "      <td>-75.290372</td>\n",
       "    </tr>\n",
       "  </tbody>\n",
       "</table>\n",
       "</div>"
      ],
      "text/plain": [
       "                           name   latitude  longitude\n",
       "22158     Yards Brewing Company  39.960971 -75.146908\n",
       "149657         Manayunk Brewery  40.022471 -75.218800\n",
       "55405         2nd Story Brewing  39.948474 -75.143556\n",
       "95333       Dock Street Brewery  39.947731 -75.222776\n",
       "5138    Tired Hands Fermentaria  40.006676 -75.290372"
      ]
     },
     "execution_count": 82,
     "metadata": {},
     "output_type": "execute_result"
    }
   ],
   "source": [
    "# making recommendations\n",
    "recommend_restaurant(top_restaurants_vancouver, 29.956231,-90.067563)"
   ]
  },
  {
   "cell_type": "markdown",
   "metadata": {},
   "source": [
    "Its prediction are good since the latitudes and longitudes are very close to each other. Let us use another set of latitudes and longitudes"
   ]
  },
  {
   "cell_type": "code",
   "execution_count": 83,
   "metadata": {},
   "outputs": [
    {
     "name": "stdout",
     "output_type": "stream",
     "text": [
      "3\n"
     ]
    },
    {
     "name": "stderr",
     "output_type": "stream",
     "text": [
      "c:\\Users\\test\\AppData\\Local\\Programs\\Python\\Python39\\lib\\site-packages\\sklearn\\base.py:450: UserWarning:\n",
      "\n",
      "X does not have valid feature names, but KMeans was fitted with feature names\n",
      "\n"
     ]
    },
    {
     "data": {
      "text/html": [
       "<div>\n",
       "<style scoped>\n",
       "    .dataframe tbody tr th:only-of-type {\n",
       "        vertical-align: middle;\n",
       "    }\n",
       "\n",
       "    .dataframe tbody tr th {\n",
       "        vertical-align: top;\n",
       "    }\n",
       "\n",
       "    .dataframe thead th {\n",
       "        text-align: right;\n",
       "    }\n",
       "</style>\n",
       "<table border=\"1\" class=\"dataframe\">\n",
       "  <thead>\n",
       "    <tr style=\"text-align: right;\">\n",
       "      <th></th>\n",
       "      <th>name</th>\n",
       "      <th>latitude</th>\n",
       "      <th>longitude</th>\n",
       "    </tr>\n",
       "  </thead>\n",
       "  <tbody>\n",
       "    <tr>\n",
       "      <th>48365</th>\n",
       "      <td>Vault Brewing</td>\n",
       "      <td>40.242367</td>\n",
       "      <td>-74.838506</td>\n",
       "    </tr>\n",
       "    <tr>\n",
       "      <th>84148</th>\n",
       "      <td>Triumph Brewing Company</td>\n",
       "      <td>40.365177</td>\n",
       "      <td>-74.953969</td>\n",
       "    </tr>\n",
       "    <tr>\n",
       "      <th>52365</th>\n",
       "      <td>Porterhouse Restaurant &amp; Brew Pub</td>\n",
       "      <td>40.345756</td>\n",
       "      <td>-75.033674</td>\n",
       "    </tr>\n",
       "    <tr>\n",
       "      <th>19301</th>\n",
       "      <td>Neshaminy Creek Brewing Company</td>\n",
       "      <td>40.085202</td>\n",
       "      <td>-74.901964</td>\n",
       "    </tr>\n",
       "    <tr>\n",
       "      <th>144866</th>\n",
       "      <td>Broken Goblet Brewing</td>\n",
       "      <td>40.072159</td>\n",
       "      <td>-74.939966</td>\n",
       "    </tr>\n",
       "  </tbody>\n",
       "</table>\n",
       "</div>"
      ],
      "text/plain": [
       "                                     name   latitude  longitude\n",
       "48365                       Vault Brewing  40.242367 -74.838506\n",
       "84148             Triumph Brewing Company  40.365177 -74.953969\n",
       "52365   Porterhouse Restaurant & Brew Pub  40.345756 -75.033674\n",
       "19301     Neshaminy Creek Brewing Company  40.085202 -74.901964\n",
       "144866              Broken Goblet Brewing  40.072159 -74.939966"
      ]
     },
     "execution_count": 83,
     "metadata": {},
     "output_type": "execute_result"
    }
   ],
   "source": [
    "recommend_restaurant(top_restaurants_vancouver, 60.956473,-70.066476)"
   ]
  }
 ],
 "metadata": {
  "kernelspec": {
   "display_name": "Python 3.9.9 64-bit",
   "language": "python",
   "name": "python3"
  },
  "language_info": {
   "codemirror_mode": {
    "name": "ipython",
    "version": 3
   },
   "file_extension": ".py",
   "mimetype": "text/x-python",
   "name": "python",
   "nbconvert_exporter": "python",
   "pygments_lexer": "ipython3",
   "version": "3.9.9"
  },
  "orig_nbformat": 4,
  "vscode": {
   "interpreter": {
    "hash": "843afd09e8106438b128dab73a29344ccea6560bcd1a636ecaea26e653e2cafe"
   }
  }
 },
 "nbformat": 4,
 "nbformat_minor": 2
}
